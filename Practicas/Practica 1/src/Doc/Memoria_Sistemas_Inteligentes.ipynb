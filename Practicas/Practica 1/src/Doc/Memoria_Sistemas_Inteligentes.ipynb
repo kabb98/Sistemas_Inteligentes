{
  "cells": [
    {
      "cell_type": "markdown",
      "metadata": {
        "id": "e5QiGQXAJgwZ"
      },
      "source": [
        "# **Introducción**\n",
        "El objetivo de la práctica es desarrollar un algoritmo de búsqueda heuristica capaz de encontrar el mejor camino entre dos puntos si lo hubiese. Concretamente tenemos que implmentar el algoritmo A*.\n",
        "\n",
        "<img src= \"https://drive.google.com/uc?export=view&id=1dwgsVd12zAUePSNKjlhQkez5Wn5hqjTT\" >\n"
      ]
    },
    {
      "cell_type": "markdown",
      "metadata": {
        "id": "qxqenRLbKSxM"
      },
      "source": [
        "# **Conceptos básicos**\n"
      ]
    },
    {
      "cell_type": "markdown",
      "metadata": {
        "id": "05reAmbxqFtL"
      },
      "source": [
        "## **Introducción**\n",
        "El algoritmo A* se clasifica dentro de los algoritmos  de búsqueda de grafos. Este algoritmo tiene como objetivo buscar distintas rutas entre un punto inicial y un punto final, sólo se “construyen” los caminos que son candidatos a formar una posible solución, es decir, los caminos que cumplen con ciertas restricciones, en nuestro caso el camino tiene que ser el de menor  coste entre ambos nodos.\n",
        "Este algoritmo se basa en el empleo de heurísticas, este concepto se puede definir como una suposición que realizamos partiendo de datos que ya conocemos y de datos sin completar, en otras palabras, es una aproximación cuantitativa de lo que nos falta para llegar a la resolución del problema. \n",
        "La heurística determinará el coste computacional que tendrán los distintos algoritmos que se pueden emplear para la resolución del problema, con esto podemos determinar qué algoritmo será el mejor para la resolución del problema. Dependiendo del algoritmo que elijamos tendremos distintas complejidades temporales, la mejor que podríamos conseguir sería lineal, aunque en el peor de los casos será exponencial. La eficiencia del algoritmo A* está ligado de manera directa a que tan buena sea la heurística empleada.\n",
        "Por otro lado, un problema de este algoritmo es el coste espacial, este será exponencial respecto al tamaño del problema, ya que si un problema a resolver cuenta con muchos nodos se volverá una tarea complicada al tener que considerar todos los sucesores con los costos respectivos."
      ]
    },
    {
      "cell_type": "markdown",
      "metadata": {
        "id": "SdTLp41DqLzS"
      },
      "source": [
        "## **Explicación general**\n",
        "Ahora procederemos a explicar el algoritmo A*. Este algoritmo se basa en la siguiente función:\n",
        "\n",
        "        f(n) = g(n) + h(n)\n",
        "\n",
        "Donde g(n) representa el coste real que se ha requerido desde el nodo inicial hasta el nodo actual, también tenemos h(n) que se trata de la estimación que haremos desde el nodo actual hasta el nodo meta.\n",
        "Este algoritmo también emplea dos estructuras de datos para almacenar los nodos, por un lado los nodos por los que es factible expandir se almacenarán en la lista Frontera, por su parte aquellos nodos que ya se han expandido y que hemos visitado los almacenaremos en la lista Interior. Gracias a esto el algoritmo puede funcionar de forma “inteligente”, ya que se puede dar el caso de que podamos llegar a la meta por un camino que sea más corto que uno que ya habíamos tomado como mejor, es decir, permite que el algoritmo sea capaz de evaluar nodos que sean más prometedores que los que ya habíamos evaluado."
      ]
    },
    {
      "cell_type": "markdown",
      "metadata": {
        "id": "gvBP5RyGqPAf"
      },
      "source": [
        "## **Propiedades de A\\***\n",
        "A* como todo algoritmo de búsqueda en amplitud, es un algoritmo completo, es decir, en caso de que exista una solución siempre dará con ella.\n",
        "La heurística se pueden emplear para controlar el comportamiento de A*, dependiendo del valor de la heurística tendremos distintos escenarios:\n",
        "- Por un lado tenemos que si para todo nodo n del grafo se cumple que g(n) = 0, nos encontraremos frente a un algoritmo de búsqueda voraz.\n",
        "- También tenemos que sí para todo nodo n del grafo se cumple que h(n) = 0, A* actuará como un algoritmo de Dijkstra.\n",
        "- De la misma manera, sí h(n) es coincide con el coste de moverse de n hasta la meta, entonces el algoritmo A* solo seguirá el mejor camino y nunca expandirá nodos demás, lo que hará que sea muy eficiente. Esto no ocurrirá en todos los casos, solo en ciertos casos especiales.\n",
        "- Relacionado con el punto anterior, si h(n) es a veces mayor que el coste de moverse de n hasta la meta, entonces el algoritmo no garantiza el camino más corto, pero esto puede hacer que se acelere su eficiencia.\n",
        "\n",
        "También tenemos que garantizar la admisibilidad del algoritmo, esto se logra a través de la función h(n), dicha función debe de ser una heurística admisible,  es decir, que la función no tiene que sobreestimar el coste real de alcanzar la meta, en otras palabras, para cualquier nodo no final h(n) tiene que ser menor que h*(n).\n",
        "\n",
        "La función h(n) ha de garantizar que es consistente, esto es, que para cualquier nodo n y para cualquiera de sus nodos hijos (expansiones), el coste coste de llegar al objetivo desde n no será mayor que el de llegar a uno de sus hijos más el coste de llegar desde sus hijos hasta el nodo meta."
      ]
    },
    {
      "cell_type": "markdown",
      "metadata": {
        "id": "3WvMZj7wVJBt"
      },
      "source": [
        "# **Implementación de A\\***\n",
        "Para la explicación del pseudocódigo del algoritmo me ayudaré de código para que sea más sencillo."
      ]
    },
    {
      "cell_type": "markdown",
      "metadata": {
        "id": "Ij9rtdkFdncZ"
      },
      "source": [
        "```\n",
        "Alg A*\n",
        "  listaInterior = vacio\n",
        "  listaFrontera = inicio\n",
        "  mientras listaFrontera no esté vacía\n",
        "    n = obtener nodo de listaFrontera con menor f(n) = g(n) + h(n)\n",
        "    listaFrontera.del(n)\n",
        "    listaInterior.add(n)\n",
        "    si n es meta\n",
        "      devolver\n",
        "      reconstruir camino desde la meta al inicio siguiendo los punteros\n",
        "    fsi\n",
        "    para cada hijo m de n que no esté en listaInterior\n",
        "      g’(m) = n.g + c(n, m)  //g del nodo a explorar m\n",
        "      si m no está en listaFrontera\n",
        "        almacenar la f, g y h del nodo en (m.f, m.g, m.h)\n",
        "        m.padre = n\n",
        "        listaFrontera.add(m)\n",
        "      sino si g’(m) es mejor que m.g  //Verificamos si el nuevo camino es mejor\n",
        "        m.padre = n\n",
        "        recalcular f y g del nodo m\n",
        "      fsi\n",
        "    fpara\n",
        "  fmientras\n",
        "  devolver no hay solución\n",
        "falg\n",
        "\n",
        "```"
      ]
    },
    {
      "cell_type": "markdown",
      "metadata": {
        "id": "8XzeVXRSdz6M"
      },
      "source": [
        "## **Nodo**\n",
        "En primer lugar hemos tenido que crear esta clase para realizar correctamente la práctica.\n",
        "\n",
        "Cado nodo tendrá como atributos una posición/casilla, un padre, y las funciones f, g y h.\n",
        "\n",
        "En el constructor le pasamos la casilla, y un padre  (por defecto no vale nada), y ponemos como a 0 los demás atributos."
      ]
    },
    {
      "cell_type": "code",
      "execution_count": null,
      "metadata": {
        "id": "6o0GfzEleufM"
      },
      "outputs": [],
      "source": [
        "class Nodo():\n",
        "    def __init__(self, casilla: Casilla, padre = None):\n",
        "        self.casilla = casilla\n",
        "        self.f = 0\n",
        "        self.g = 0\n",
        "        self.h = 0\n",
        "        self.coste = 0\n",
        "        self.padre = padre"
      ]
    },
    {
      "cell_type": "markdown",
      "metadata": {
        "id": "sSNANhbueyZb"
      },
      "source": [
        "También hemos implementado unos getters, que no serán de ayuda en ciertos casos."
      ]
    },
    {
      "cell_type": "code",
      "execution_count": null,
      "metadata": {
        "id": "T73SAoaKe9X4"
      },
      "outputs": [],
      "source": [
        "def getF(self) -> float:\n",
        "    return self.f\n",
        "\n",
        "def getG(self) -> float:\n",
        "    return self.g\n",
        "\n",
        "def getH(self) -> float:\n",
        "    return self.h\n",
        "\n",
        "def getPadre(self):\n",
        "    return self.padre"
      ]
    },
    {
      "cell_type": "markdown",
      "metadata": {
        "id": "96Rc6VKSfA-u"
      },
      "source": [
        "Y también una especial que nos servirá para comparar los distintos nodos entre si, por ejemplo cuando iteremos sobre una lista, etc. Diremos que dos nodos son iguales si sus filas y columnas coinciden."
      ]
    },
    {
      "cell_type": "code",
      "execution_count": null,
      "metadata": {
        "id": "CIaYBXlffJYP"
      },
      "outputs": [],
      "source": [
        "#Sobrecarga del operador ==\n",
        "def __eq__(self, other):\n",
        "    return self.casilla == other.casilla"
      ]
    },
    {
      "cell_type": "markdown",
      "metadata": {
        "id": "XlHVjBmQfPQ5"
      },
      "source": [
        "Aquí se llama al operador == de la clase Casilla."
      ]
    },
    {
      "cell_type": "code",
      "execution_count": null,
      "metadata": {
        "id": "26TrEoInfY3o"
      },
      "outputs": [],
      "source": [
        "def __eq__ (self, other):\n",
        "    return self.fila == other.fila and self.col == other.col"
      ]
    },
    {
      "cell_type": "markdown",
      "metadata": {
        "id": "aIXs8nbrpzZu"
      },
      "source": [
        "## **A Estrella**"
      ]
    },
    {
      "cell_type": "markdown",
      "metadata": {
        "id": "S9ZA3sUDgEl3"
      },
      "source": [
        "Basandonos en el pseudocódigo que se proporciona, tenemos que crear las dos listas para almacenar los nodos, la **lista frontera** y la **lista interior**.\n",
        "\n",
        "Creamos un nodo origen y un nodo meta, el nodo origen se añade a la **lista frontera**.\n",
        "\n",
        "También creamos una variable para ir almacenando el orden en como expandimos los nodos."
      ]
    },
    {
      "cell_type": "code",
      "execution_count": null,
      "metadata": {
        "id": "YAVpVsf5gjuC"
      },
      "outputs": [],
      "source": [
        "#Coste, -1 si no encuentra camino\n",
        "coste_total: float = -1\n",
        "\n",
        "#Estructuras para guardar nodos\n",
        "listaFrontera: List[Nodo] = []\n",
        "listaInterior: List[Nodo] = []\n",
        "estados = iniciaEstados(mapi)\n",
        "\n",
        "nodoInicial: Nodo = Nodo(origen)\n",
        "nodoMeta: Nodo = Nodo(destino)\n",
        "\n",
        "#Se añade a la lista frontera el origen\n",
        "listaFrontera.append(nodoInicial)\n",
        "\n",
        "orden = 0"
      ]
    },
    {
      "cell_type": "code",
      "execution_count": null,
      "metadata": {
        "id": "mHE57h-nkiDz"
      },
      "outputs": [],
      "source": [
        "#Matriz de -1, para los expandidos\n",
        "def iniciaEstados(mapi):\n",
        "    estados = []\n",
        "    for i in range(mapi.alto):\n",
        "        estados.append([])\n",
        "        for j in range(mapi.ancho):\n",
        "            estados[i].append(-1)\n",
        "    return estados"
      ]
    },
    {
      "cell_type": "markdown",
      "metadata": {
        "id": "4xmkw_mkhf4x"
      },
      "source": [
        "Ahora procedemos a entrar en el bucle, iteraremos mientras haya elementos en la lista o hasta que encontremos solución. Tras entrar en el bucle sacamos el mejor nodo, en nuestro caso se encontrará en la posición 0 de la lista, esto se debe a que al añadir un elemento a la lista ordenamos la lista para que los elementos con menor f estén primero. Y también guardamos el orden en el que se van expandiendo los nodos."
      ]
    },
    {
      "cell_type": "code",
      "execution_count": null,
      "metadata": {
        "id": "tbPfiYXXiqnE"
      },
      "outputs": [],
      "source": [
        "while listaFrontera:\n",
        "    # Cogemos el mejor nodo de la lista Frontera\n",
        "    n: Nodo = listaFrontera[0]\n",
        "    estados[n.casilla.fila][n.casilla.col] = orden\n",
        "    orden += 1"
      ]
    },
    {
      "cell_type": "markdown",
      "metadata": {
        "id": "9gs6U1z9iuOR"
      },
      "source": [
        "Ahora comprobamos si ya hemos llegado a la meta, si ese fuese el caso tendríamos ya hemos terminado la ejecución. El coste total se encontrará en la f del mejor nodo, y procedemos a reconstruir el camino el camino, para ello cogemos la fila y columna del mejor nodo y en la matriz camino, en la mismo posición asignamos una X, y ahora el mejor nodo será el padre, haremos esto hasta que un nodo no tenga padre. También mostramos el camino expandido y además cuantos nodos hemos explorado.  "
      ]
    },
    {
      "cell_type": "code",
      "execution_count": null,
      "metadata": {
        "id": "--WUp7poj3-z"
      },
      "outputs": [],
      "source": [
        "if(n == nodoMeta):\n",
        "      coste_total = n.f\n",
        "      reconstruyeCamino(n, caminos)\n",
        "      camino_expandido(estados, mapi)\n",
        "\n",
        "      print(\"Nodos explorados: \", len(listaInterior))\n",
        "      break"
      ]
    },
    {
      "cell_type": "markdown",
      "metadata": {
        "id": "Y0WTKEZfkH5b"
      },
      "source": [
        "Función de reconstruir el camino y camino_expandido."
      ]
    },
    {
      "cell_type": "code",
      "execution_count": null,
      "metadata": {
        "id": "N_i7rYoCkN8u"
      },
      "outputs": [],
      "source": [
        "def reconstruyeCamino(n: Nodo, caminos):\n",
        "    while(n.getPadre()):\n",
        "        caminos[n.casilla.getFila()][n.casilla.getCol()] = 'X'\n",
        "        n = n.getPadre()\n",
        "\n",
        "def camino_expandido(camino, mapi):\n",
        "    for i in range(mapi.alto):\n",
        "        for j in range(mapi.ancho):\n",
        "            print(camino[i][j], end=\" \")\n",
        "        print()"
      ]
    },
    {
      "cell_type": "markdown",
      "metadata": {
        "id": "rpvBiDqfkyc8"
      },
      "source": [
        "Si no es meta, tendremos que borrar el nodo n de la lista frontera y añadirlo a la lista interior. Y procedemos a mirar los vecinos válidos del nodo n/mejor."
      ]
    },
    {
      "cell_type": "code",
      "execution_count": null,
      "metadata": {
        "id": "5AsBmLoLlFuS"
      },
      "outputs": [],
      "source": [
        "else:\n",
        "    \"\"\"Expandimos nodo\"\"\"\n",
        "    listaInterior.append(n)\n",
        "    listaFrontera.remove(n)"
      ]
    },
    {
      "cell_type": "markdown",
      "metadata": {
        "id": "OYqKXyXPlNpI"
      },
      "source": [
        "Para sacar los vecinos he diseñado una función, iteramos desde una posición anterior a la fila del nodo n hasta una posterior, y dentro hacemos lo mismo dentro con las columnas. Luego miramos si una posición es correcta/válida, definimos una posición válida como una posición que tiene como carácter '.' o el número 0, ya que así está definido en el mapa, y además hay que comprobar que cada posición sea distinta de la actual, ya que no tiene sentido volver a evaluar la posición actual."
      ]
    },
    {
      "cell_type": "code",
      "execution_count": null,
      "metadata": {
        "id": "Q9_3iFoXlo8p"
      },
      "outputs": [],
      "source": [
        "def vecinos(nodo: Nodo, mapa: Mapa) -> List:\n",
        "    vecinos: List = []\n",
        "    for i in range(nodo.casilla.getFila() - 1, nodo.casilla.getFila() + 2):\n",
        "        for j in range(nodo.casilla.getCol() - 1, nodo.casilla.getCol() + 2):\n",
        "            if esCorrecto(i, j, nodo.casilla, mapa):\n",
        "                vecinos.append(Nodo(Casilla(i, j), nodo))\n",
        "\n",
        "    return vecinos"
      ]
    },
    {
      "cell_type": "code",
      "execution_count": null,
      "metadata": {
        "id": "2VWNIseImO86"
      },
      "outputs": [],
      "source": [
        "def esCorrecto(fila, columna, origen, mapa) -> bool:\n",
        "    correcto: bool = False\n",
        "\n",
        "    if(fila != origen.getFila() or columna != origen.getCol()) and \\\n",
        "            mapa.getCelda(fila, columna) == 0:\n",
        "        correcto = True\n",
        "    return correcto"
      ]
    },
    {
      "cell_type": "markdown",
      "metadata": {
        "id": "X-r1mdWSmS-X"
      },
      "source": [
        "Ahora iteramos sobre los vecinos, y tenemos que comprobar si cada vecino está en la lista interior, si se encuentra pasamos al siguiente, esto se debe a que si ya está en la lista interior no tenemos que volver a hacer operaciones sobre este nodo.\n",
        "\n",
        "Ahora calculamos la g_m, esto se define como la suma de la g del mejor nodo más el coste de movernos desde el nodo n a su hijo."
      ]
    },
    {
      "cell_type": "code",
      "execution_count": null,
      "metadata": {
        "id": "J3n2sRQmnBVF"
      },
      "outputs": [],
      "source": [
        "for hijo in vecinos(n, mapi):\n",
        "      if hijo not in listaInterior:\n",
        "          g_m = n.g + costeCelda(hijo, n)"
      ]
    },
    {
      "cell_type": "markdown",
      "metadata": {
        "id": "1BI3Gqt6nHQm"
      },
      "source": [
        "La función para sacar el coste es la siguiente, es funcionamiento es sencillo, sacamos el valor absoluto de la resta entre la fila del mejor nodo y la del hijo, y lo mismo para las columnas, hacemos lo mismo para la columna, luego sumanos estos dos valores, si el resultado es 1 se tratará de un movimiento en una dirección y tendrá como coste 1, si es 2 se tratará de un movimiento en diagonal y tendrá como coste 1.5. "
      ]
    },
    {
      "cell_type": "code",
      "execution_count": null,
      "metadata": {
        "id": "RxNOTfRWnuf-"
      },
      "outputs": [],
      "source": [
        "def costeCelda(vecino: Nodo, n: Nodo) -> float:\n",
        "    x = abs(n.casilla.fila - vecino.casilla.fila)\n",
        "    y = abs(n.casilla.col - vecino.casilla.col)\n",
        "    if x + y == 1:\n",
        "        return 1.0\n",
        "    else:\n",
        "        return 1.5"
      ]
    },
    {
      "cell_type": "markdown",
      "metadata": {
        "id": "scfaIlt0n4Gz"
      },
      "source": [
        "Ahora miramos si el nodo hijo se encuentra en la lista frontera, si no se encuentra el nodo se añade directamente a la lista frontera, antes tendremos que calcular las funciones g, h y f del nodo hijo, asignamos como padre al nodo n y se añade en la lista frontera, después de esto lo que tenemos que hacer es ordenar la lista para que los elementos con menor f se encuentren en las primeras posiciones."
      ]
    },
    {
      "cell_type": "code",
      "execution_count": null,
      "metadata": {
        "id": "lJ8LOMProT31"
      },
      "outputs": [],
      "source": [
        "if hijo not in listaFrontera:\n",
        "      hijo.padre = n\n",
        "      hijo.g = g_m\n",
        "      hijo.h = distanciaManhattan(hijo, nodoMeta)\n",
        "      hijo.f = hijo.g + hijo.h\n",
        "      listaFrontera.append(hijo)\n",
        "      listaFrontera.sort(key=lambda nodo: nodo.f)"
      ]
    },
    {
      "cell_type": "markdown",
      "metadata": {
        "id": "d_0KMQj-od08"
      },
      "source": [
        "Si el nodo se encuentra en la lista frontera, tenemos que mirar si viniendo por el nuevo camino es más óptimo que por que ya tiene asignado, para ello comprobamos si la g_m que hemos calculado es menor que la g del hijo, si es menor recalculamos las funciones f, g y h, y tambíen cambiamos el padre."
      ]
    },
    {
      "cell_type": "code",
      "execution_count": null,
      "metadata": {
        "id": "vZnV6Jzxo6QC"
      },
      "outputs": [],
      "source": [
        "elif g_m < hijo.g:\n",
        "      hijo.padre = n\n",
        "      hijo.g = g_m\n",
        "      hijo.h = distanciaManhattan(hijo, nodoMeta)\n",
        "      hijo.f = hijo.g + hijo.h"
      ]
    },
    {
      "cell_type": "markdown",
      "metadata": {
        "id": "xWnikPsAo-LF"
      },
      "source": [
        "Finalmente, tras acabar el bucle while devolveremos el coste, si no ha encontrado el camino devolverá un menos 1, si no el coste que hayamos calculado."
      ]
    },
    {
      "cell_type": "markdown",
      "metadata": {
        "id": "0w2y5Pv8VcvO"
      },
      "source": [
        "# **Traza del algoritmo**\n",
        "Vamos a ver una traza de ejemplo, para ver como funciona el algoritmo de manera visual.\n"
      ]
    },
    {
      "cell_type": "markdown",
      "metadata": {
        "id": "lGspHBNlVpR_"
      },
      "source": [
        "# **Heurísticas**\n"
      ]
    },
    {
      "cell_type": "markdown",
      "metadata": {
        "id": "LICfgvygt7HI"
      },
      "source": [
        "Como se ha comentado anteriormente, el concepto de heurística hace referencia a una información con la que dotamos de inteligencia a nuestro algoritmo, su objetivo principal es acelerar la búsqueda.\n",
        "\n",
        "Antes de comentar las distintas heurísticas que se han implementado, hay que comentar lo que es una **heurística admisible**.\n",
        "\n",
        "Como se ha mencionado en las clases teóricas, una heurística es admisible si nunca sobreestima el coste de alcanzar el objetivo. Es decir, si el valor que da para cada celda es siempre menor o igual que el coste mínimo para alcanzar el objetivo.\n",
        "\n",
        "\n",
        ">ℎ(𝑛) ≤ ℎ∗(𝑛) \n",
        "\n",
        "Siendo ℎ∗(𝑛) el coste mínimo real de la celda n al objetivo.\n",
        "\n",
        "Por lo que se ha comentado, la función heurística juega un papel muy importante dentro del algoritmo A*. La mejor heurística va a depender del tipo de problema al que nos estemos enfrentando, si no se conoce cuál es la heurística ideal para un problema lo recomendable es probar con varias y analizaremos viendo si el camino es el óptimo (el de menor coste) y además viendo cuantos nodos explora."
      ]
    },
    {
      "cell_type": "markdown",
      "metadata": {
        "id": "fCKwuhTBrcg9"
      },
      "source": [
        "## **Sin Heurística**\n",
        "Este valor como tal no se trata de ninguna heurística, esta \"heurística\" toma valor 0, un ventaja de esto es que esta heurística es simple, pero el gran problema que supone su uso es que expandiremos muchos más nodos.\n",
        "\n",
        "        h = 0"
      ]
    },
    {
      "cell_type": "markdown",
      "metadata": {
        "id": "FepneMcOt-Uy"
      },
      "source": [
        "## **Distancia de Manhattan**\n",
        "La distancia de Manhattan o Geometría del Taxi, se defiene como la suma de las diferencias absolutas de las coordenadas de la celda origen y de la celda destino. Es decir, la distancia entre la celda 1 y la celda 2, sería:\n",
        "       \n",
        "       h = |𝑥2−𝑥1|+|𝑦2−𝑦1|\n",
        "\n",
        "La distancia de Manhattan es la distancia estandar para mapas cuadrados, sobretodo para los mapas que permiten movimientos en las 4 direcciones.\n",
        "\n",
        "<img src= \"https://drive.google.com/uc?export=view&id=1c5gJbr6Cp5jKGWMLNx4CKCxe7mSs2rqg\">"
      ]
    },
    {
      "cell_type": "markdown",
      "metadata": {
        "id": "A7qBjkhwvlka"
      },
      "source": [
        " ## **Distancia Euclidea**\n",
        "La distancia Euclidea, también llamada distancia ordinaria debido a que es la distancia en \"linea recta\", es un concepto muy humano por así decirlo. La fórmula de la distancia Euclidea es la siguiente:\n",
        "\n",
        "    h = sqrt((𝒙𝟐−𝒙𝟏)𝟐+(𝒚𝟐−𝒚𝟏))\n",
        "\n",
        "La distancia Euclidea tiene un gran potencial en mapa cuadrados que permitan el movimiento en cualquier dirección.\n",
        "\n",
        "<img src= \"https://drive.google.com/uc?export=view&id=1dr_Z22RCe638V36Fl6Y6EXqMFLd_nBFu\">\n"
      ]
    },
    {
      "cell_type": "markdown",
      "metadata": {
        "id": "JgS1MMXYxHox"
      },
      "source": [
        "## **Distancia Chebyshev**\n",
        "La distancia de Chebyshev o también conocida como la mínima distancia que le toma a un rey (en el ajedrez) ir desde un punto a otro. Esta distancia se determina como la mayor distancia en uno de los ejes. La fórmula es la siguiente:\n",
        "\n",
        "      h = max( | x2 - x1 |, | y2 - y1 |)\n",
        "\n",
        "<img src= \"https://drive.google.com/uc?export=view&id=1B4ha-KPeXn6fn8_BLLxF-pRtBP0IR1ep\">\n"
      ]
    },
    {
      "cell_type": "markdown",
      "metadata": {
        "id": "DJ8sj3coxjax"
      },
      "source": [
        "## **Distancia Diagonal**\n",
        "La distancia diagonal es muy útil si nuestro mapa permite movimiento diagonal, sobretodo cuando el coste de movernos en diagonal es distinto del movimiento en alguna dirección.  Es muy eficaz porque \"decide\" cuando ir en diagonal y cuando ir en vertical u horizontal. Viene definido por la siguiente fórmula:\n",
        "\n",
        "      h =  sqrt(2) * diagonalStep + straightSteps\n",
        "\n",
        "<img src= \"https://drive.google.com/uc?export=view&id=1_GKY1K77HacvquEyJjCgtFIVuv8XfcSX\">"
      ]
    },
    {
      "cell_type": "markdown",
      "metadata": {
        "id": "X9hnDM3HyKeM"
      },
      "source": [
        "## **Distancia Cuadrática**\n",
        "La distancia cuadrática es muy parecida a la distancia Euclidea, en este caso la raíz cuadrada desaparece, viene definida por la siguiente fórmula:\n",
        "\n",
        "      h = (𝒙𝟐−𝒙𝟏)𝟐+(𝒚𝟐−𝒚𝟏)\n"
      ]
    },
    {
      "cell_type": "markdown",
      "metadata": {
        "id": "ljwAEzxY8buH"
      },
      "source": [
        "# **Mapas Propios**"
      ]
    },
    {
      "cell_type": "markdown",
      "metadata": {
        "id": "jrtBefuh8er-"
      },
      "source": [
        "Se han decidido crear 2 mapas para comparas las distintas heurísticas."
      ]
    },
    {
      "cell_type": "markdown",
      "metadata": {
        "id": "Yi2ELwdI85ui"
      },
      "source": [
        "## **Mapa Propio 1**\n",
        "\n",
        "<img src= \"https://drive.google.com/uc?export=view&id=1bA8_Us9Wt7JGE9waIuRU_fFRLDB2_OSC\">\n"
      ]
    },
    {
      "cell_type": "markdown",
      "metadata": {
        "id": "GxXQOo9_Ad2i"
      },
      "source": [
        "## **Mapa Propio 2**\n",
        "\n",
        "<img src= \"https://drive.google.com/uc?export=view&id=1W6KK45WeN0XYHbv7SRwoFZ5XXaDBmdmU\">"
      ]
    },
    {
      "cell_type": "markdown",
      "metadata": {
        "id": "Nwjox4k8454w"
      },
      "source": [
        "# **Comparativa**"
      ]
    },
    {
      "cell_type": "markdown",
      "metadata": {
        "id": "VgydVl3LKPJ_"
      },
      "source": []
    },
    {
      "cell_type": "markdown",
      "metadata": {
        "id": "2ZJKF9hw4_SU"
      },
      "source": [
        "## **Nodos expandidos**\n",
        "Vamos a comparar el número de nodos que se expanden (tamaño de la lista interior) respecto al coste.\n"
      ]
    },
    {
      "cell_type": "markdown",
      "metadata": {
        "id": "vwOjRQ3dMzpX"
      },
      "source": [
        "### **Mapa 1**"
      ]
    },
    {
      "cell_type": "code",
      "execution_count": 1,
      "metadata": {
        "colab": {
          "base_uri": "https://localhost:8080/",
          "height": 295
        },
        "id": "d1I4T4kcKSn4",
        "outputId": "ebd7ed82-f51e-4ded-967e-249514a49150"
      },
      "outputs": [
        {
          "data": {
            "image/png": "[encoded data removed]",
            "text/plain": [
              "<Figure size 432x288 with 1 Axes>"
            ]
          },
          "metadata": {
            "needs_background": "light"
          },
          "output_type": "display_data"
        }
      ],
      "source": [
        "import matplotlib.pyplot as plt\n",
        "#Mapa 1\n",
        "#Heuristica 0\n",
        "x = [5, 7.5, 10, 12.5, 14]\n",
        "y = [16, 34, 65, 95, 107]\n",
        "\n",
        "#Manhattan\n",
        "xMan = [5, 7.5, 10, 12.5, 14]\n",
        "yMan = [4, 6, 10, 18, 11]\n",
        "\n",
        "#Euclidea\n",
        "xEuc = [5, 7.5, 10, 12.5, 14]\n",
        "yEuc = [5, 8, 12, 15, 22]\n",
        "\n",
        "#Chebyshev\n",
        "xChev = [5, 7.5, 10, 12.5, 14]\n",
        "yChev = [6, 9, 18, 26, 40]\n",
        "\n",
        "#Diagonal\n",
        "xDiag = [5, 7.5, 10, 12.5, 14]\n",
        "yDiag = [5, 8, 12, 14, 32]\n",
        "\n",
        "#Cuadratica\n",
        "xCuadr = [5, 7.5, 10, 12.5, 14]\n",
        "yCuadr = [4, 6, 8, 10, 11]\n",
        "\n",
        "#Grafica\n",
        "figura, ax = plt.subplots()\n",
        "plt.title('Mapa 1')\n",
        "\n",
        "ax.plot(x, y, label=\"Sin Heuristica\")\n",
        "ax.plot(xMan, yMan, label=\"Distancia de Manhattan\")\n",
        "ax.plot(xEuc, yEuc, label=\"Distancia Euclidea\")\n",
        "ax.plot(xChev, yChev, label=\"Distancia de Chebyshev\")\n",
        "ax.plot(xDiag, yDiag, label=\"Distancia Diagonal\")\n",
        "ax.plot(xCuadr, yCuadr, label=\"Distancia Cuadráctica\")\n",
        "\n",
        "\n",
        "#Pone título a los ejes \n",
        "plt.xlabel('Coste del camino')\n",
        "plt.ylabel('Nodos expandidos')\n",
        "ax.legend()\n",
        "\n",
        "#Mostrar\n",
        "plt.show()"
      ]
    },
    {
      "cell_type": "markdown",
      "metadata": {
        "id": "jPkNkzXhM3-q"
      },
      "source": [
        "### **Mapa Propio 1**"
      ]
    },
    {
      "cell_type": "code",
      "execution_count": 2,
      "metadata": {
        "id": "MJCqK_F8M9RW"
      },
      "outputs": [
        {
          "data": {
            "image/png": "[encoded data removed]",
            "text/plain": [
              "<Figure size 432x288 with 1 Axes>"
            ]
          },
          "metadata": {
            "needs_background": "light"
          },
          "output_type": "display_data"
        }
      ],
      "source": [
        "\n",
        "import matplotlib.pyplot as plt\n",
        "#Mapa 1\n",
        "#Heuristica 0\n",
        "x = [11.5, 21.5, 33.5, 35, 41]\n",
        "y = [26, 77, 134, 144, 154]\n",
        "\n",
        "#Manhattan\n",
        "xMan = [11.5, 21.5 , 33.5, 35, 41]\n",
        "yMan = [16, 33, 72, 78, 109]\n",
        "\n",
        "#Euclidea\n",
        "xEuc = [11.5, 21.5 , 33.5, 35, 41]\n",
        "yEuc = [16, 36, 85, 90, 94]\n",
        "\n",
        "#Chebyshev\n",
        "xChev = [11.5, 21.5 , 33.5, 35, 41]\n",
        "yChev = [16, 42, 100, 99, 108]\n",
        "\n",
        "#Diagonal\n",
        "xDiag = [11.5, 21.5 , 33.5, 35, 41]\n",
        "yDiag = [16, 27, 93, 104, 113]\n",
        "\n",
        "#Cuadratica\n",
        "xCuadr = [11.5, 21.5 , 33.5, 35, 41]\n",
        "yCuadr = [10, 20, 56, 55, 67]\n",
        "\n",
        "#Grafica\n",
        "figura, ax = plt.subplots()\n",
        "plt.title('Mapa Propio 1')\n",
        "\n",
        "ax.plot(x, y, label=\"Sin Heuristica\")\n",
        "ax.plot(xMan, yMan , label=\"Distancia de Manhattan\")\n",
        "ax.plot(xEuc, yEuc , label=\"Distancia Euclidea\")\n",
        "ax.plot(xChev, yChev , label=\"Distancia de Chebyshev\")\n",
        "ax.plot(xDiag, yDiag, label=\"Distancia Diagonal\")\n",
        "ax.plot(xCuadr, yCuadr, label=\"Distancia Cuadráctica\")\n",
        "\n",
        "\n",
        "#Pone título a los ejes \n",
        "plt.xlabel('Coste del camino')\n",
        "plt.ylabel('Nodos expandidos')\n",
        "ax.legend()\n",
        "\n",
        "#Mostrar\n",
        "plt.show()\n"
      ]
    },
    {
      "cell_type": "markdown",
      "metadata": {
        "id": "8e1TDZVRS1HW"
      },
      "source": [
        "### **Mapa Propio 2**"
      ]
    },
    {
      "cell_type": "code",
      "execution_count": 4,
      "metadata": {
        "id": "Mxu1BdhvS6GM"
      },
      "outputs": [
        {
          "data": {
            "image/png": "[encoded data removed]",
            "text/plain": [
              "<Figure size 432x288 with 1 Axes>"
            ]
          },
          "metadata": {
            "needs_background": "light"
          },
          "output_type": "display_data"
        }
      ],
      "source": [
        "\n",
        "import matplotlib.pyplot as plt\n",
        "#Mapa 1\n",
        "#Heuristica 0\n",
        "x = [10, 20, 30, 43]\n",
        "y = [59, 143, 196, 174]\n",
        "\n",
        "#Manhattan\n",
        "xMan = [10, 20, 30, 43]\n",
        "yMan = [13, 46, 71, 139]\n",
        "\n",
        "#Euclidea\n",
        "xEuc = [10, 20, 30, 43]\n",
        "yEuc = [12, 49, 98, 130]\n",
        "\n",
        "#Chebyshev\n",
        "xChev = [10, 20, 30, 43]\n",
        "yChev = [16, 63, 72, 139]\n",
        "\n",
        "#Diagonal\n",
        "xDiag = [10, 20, 30, 43]\n",
        "yDiag = [15, 56, 113, 125]\n",
        "\n",
        "#Cuadratica\n",
        "xCuadr = [10, 20, 30, 43]\n",
        "yCuadr = [13, 23, 85, 128]\n",
        "\n",
        "#Grafica\n",
        "figura, ax = plt.subplots()\n",
        "plt.title('Mapa Propio 2')\n",
        "\n",
        "ax.plot(x, y, label=\"Sin Heuristica\")\n",
        "ax.plot(xMan, yMan , label=\"Distancia de Manhattan\")\n",
        "ax.plot(xEuc, yEuc , label=\"Distancia Euclidea\")\n",
        "ax.plot(xChev, yChev , label=\"Distancia de Chebyshev\")\n",
        "ax.plot(xDiag, yDiag, label=\"Distancia Diagonal\")\n",
        "ax.plot(xCuadr, yCuadr, label=\"Distancia Cuadráctica\")\n",
        "\n",
        "\n",
        "#Pone título a los ejes \n",
        "plt.xlabel('Coste del camino')\n",
        "plt.ylabel('Nodos expandidos')\n",
        "ax.legend()\n",
        "\n",
        "#Mostrar\n",
        "plt.show()"
      ]
    },
    {
      "cell_type": "markdown",
      "metadata": {
        "id": "7v5GPD6YWDn0"
      },
      "source": [
        "# **Referencias**\n",
        "\n",
        "* [Heuristics](http://theory.stanford.edu/~amitp/GameProgramming/Heuristics.html)\n",
        "* [Introduction to the A* Algorithm from Red Blob Games](https://www.redblobgames.com/pathfinding/a-star/introduction.html)\n",
        "* [Implementation of A*](https://www.redblobgames.com/pathfinding/a-star/implementation.html)\n",
        "* [A* pathfinding algorithm](https://www.growingwiththeweb.com/2012/06/a-pathfinding-algorithm.html)\n",
        "\n",
        "\n",
        "\n",
        "\n"
      ]
    }
  ],
  "metadata": {
    "colab": {
      "collapsed_sections": [
        "e5QiGQXAJgwZ",
        "qxqenRLbKSxM",
        "05reAmbxqFtL",
        "SdTLp41DqLzS",
        "gvBP5RyGqPAf",
        "3WvMZj7wVJBt",
        "8XzeVXRSdz6M",
        "aIXs8nbrpzZu",
        "0w2y5Pv8VcvO",
        "lGspHBNlVpR_",
        "fCKwuhTBrcg9",
        "FepneMcOt-Uy",
        "A7qBjkhwvlka",
        "JgS1MMXYxHox",
        "DJ8sj3coxjax",
        "X9hnDM3HyKeM",
        "Yi2ELwdI85ui",
        "GxXQOo9_Ad2i",
        "7v5GPD6YWDn0"
      ],
      "name": "Memoria Sistemas Inteligentes.ipynb",
      "provenance": []
    },
    "interpreter": {
      "hash": "6f183d4f3a4dbc45c280a7f8a5d65627566f7e51910d206cc1da684036a96f2d"
    },
    "kernelspec": {
      "display_name": "Python 3.9.7 64-bit",
      "name": "python3"
    },
    "language_info": {
      "codemirror_mode": {
        "name": "ipython",
        "version": 3
      },
      "file_extension": ".py",
      "mimetype": "text/x-python",
      "name": "python",
      "nbconvert_exporter": "python",
      "pygments_lexer": "ipython3",
      "version": "3.9.7"
    }
  },
  "nbformat": 4,
  "nbformat_minor": 0
}
