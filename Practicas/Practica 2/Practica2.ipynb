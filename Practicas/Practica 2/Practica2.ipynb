{
  "nbformat": 4,
  "nbformat_minor": 0,
  "metadata": {
    "colab": {
      "name": "Practica2.ipynb",
      "provenance": [],
      "collapsed_sections": []
    },
    "interpreter": {
      "hash": "cb57736d12eb9c86678dc209f5f2fe1ae371096763f495c86ccd8768994e2f78"
    },
    "kernelspec": {
      "display_name": "Python 3.6.0 64-bit",
      "name": "python3"
    },
    "language_info": {
      "codemirror_mode": {
        "name": "ipython",
        "version": 3
      },
      "file_extension": ".py",
      "mimetype": "text/x-python",
      "name": "python",
      "nbconvert_exporter": "python",
      "pygments_lexer": "ipython3",
      "version": "3.6.0"
    }
  },
  "cells": [
    {
      "cell_type": "markdown",
      "metadata": {
        "id": "G1w-sVA-h82d"
      },
      "source": [
        "# Práctica 2: clasificación de dígitos MNIST mediante AdaBoost"
      ]
    },
    {
      "cell_type": "markdown",
      "metadata": {
        "id": "d1hbMxmiiHWI"
      },
      "source": [
        "# **Introducción**"
      ]
    },
    {
      "cell_type": "markdown",
      "source": [
        "Para esta segunda práctica se nos pide la implementación de un algoritmo de Aprendizaje Automatico Supervisado (Machine Learning), este algoritmo consiste en la detección de números manuscritos.\n",
        "\n",
        "El gran objetivo de esta práctica es entender como funcionan los algoritmos de *aprendizaje supervisado*, además, entender como funciona el algoritmo AdaBoost, ya que, tendremos que implementar dicho algoritmo desde cero para que funcione correctamente el sistema de reconocimiento de números."
      ],
      "metadata": {
        "id": "pl0ghU9ctgd3"
      }
    },
    {
      "cell_type": "markdown",
      "source": [
        "# **Conceptos Previos**"
      ],
      "metadata": {
        "id": "UrphOvUezvCR"
      }
    },
    {
      "cell_type": "markdown",
      "source": [
        "Antes de meternos de lleno con la implementación, tenemos que tener un poco de contexto sobre que vamos a realizar."
      ],
      "metadata": {
        "id": "WgmfideszyGY"
      }
    },
    {
      "cell_type": "markdown",
      "source": [
        "## **Aprendizaje Automatico**"
      ],
      "metadata": {
        "id": "194cjIxIz6zp"
      }
    },
    {
      "cell_type": "markdown",
      "source": [
        "El **Aprendizaje Automático** o Machine Learning es una rama de la Inteligencia Artificial, se entiende como un tipo de aprendizaje que brinda a las máquinas la capacidad de aprender, como si se tratasen de seres humanos. La idea detrás de esto es que dado una serie de datos la máquina va aprendiendo \"patrones\" de manera que al enfrentarse a nuevos datos de entrada la máquina sabrá reconocer esos nuevos patrones.\n",
        "\n",
        "Tenemos distintos tipos de **Machine Learning**\n",
        "* **Aprendizaje Supervisado:**\n",
        "Es el que empleamos nosotros, se trata del aprendizaje supervisado, ya que sabemos que etiquetas se corresponden con los datos de entrada, esto se traduce en que podemos saber si ha clasificado bien o mal.\n",
        "\n",
        "* **Aprendizaje por refuerzo:** \n",
        "Este tipo de aprendizaje se basa en prueba y error.\n",
        "\n",
        "* **Aprendizaje No Supervisado:**\n",
        "Este aprendizaje, a diferencia de los otros dos, busca similitudes con los datos con los que se ha entrenado, en este caso, los algoritmos no están programados para detectar un tipo específico de datos, como ocurría con las imágenes de perros, sino que buscan ejemplos que se parezcan y puedan agrupar. \n",
        "\n",
        "Hay dos cuestiones muy importantes a la hora de elegir un tipo específico, la primera es, ¿Tenemos una gran cantidad de datos de entrenamiento? La segunda es, ¿Tenemos una gran capacidad de cómputo?\n",
        "\n",
        "Si ambas respuestas son afirmativas, entonces nos decantaríamos por el Aprendizaje No Supervisado, ya que este tipo de aprendizaje necesita una capacidad de datos de entrenamiento enorme, además de una potencia de cómputo brutal, aunque también tendríamos que tener en cuenta la dificultad del problema al que nos estamos enfrentando.\n",
        "\n",
        "A modo de concluir este apartado, se puede decir que el Machine Learning ha tenido un crecimiento brutal en los últimos 20 años, ya que se han diseñado un sinfín de cosas gracias a ello, además de saber que esta tecnología está presente en un sinfín de aplicaciones a día de hoy, por ejemplo, se usa para las recomendaciones de Netflix o Spotify, Asistentes de Voz (Siri o Google Assistant), Vehículos Autónomos, Sistemas de Seguridad, etc."
      ],
      "metadata": {
        "id": "vEBiaS5K0nn2"
      }
    },
    {
      "cell_type": "markdown",
      "source": [
        "## **Boosting**"
      ],
      "metadata": {
        "id": "dFfH4epUz-x1"
      }
    },
    {
      "cell_type": "markdown",
      "source": [
        "### **Introducción**"
      ],
      "metadata": {
        "id": "gVp_w1Hx8fRL"
      }
    },
    {
      "cell_type": "markdown",
      "source": [
        "El término Boosting hace referencia a los algoritmos que a partir de unos modelos simples podemos llegar a unos más complejos con el paso del tiempo, estos modelos simples se les conoce como **clasificadores débiles**, los modelos más complejos son los **clasificadores fuertes**, la idea detrás de Boosting es que dado unos datos de entrada, iremos creando clasificadores débiles que irán clasificando estos datos, estos clasificadores débiles tan solo nos indican si está bien o mal, por así decirlo, lo interesante de esto, es que en cada nueva iteración, el algoritmo indica que datos han sido más complejos de clasificar, por lo que los nuevos clasificadores débiles harás más énfasis en esos datos más complejos, por lo que podemos ver, la ejecución de este tipo de algoritmos es secuencial, ya que el siguiente clasificador débil depende del actual. Al terminar el entrenamiento, tendremos el modelo final o clasificador fuerte, con este modelo ya podemos realizar hipótesis sobre un dato concreto.\n",
        "\n",
        "Finalmente, a la hora de dar una hipótesis para una dato en concreto, lo que hace es que cada clasificador débil tendrá un peso mayor o menor en la votación, esto es bueno, ya que podríamos tener un clasificador débil en el clasificador fuerte que sea muy malo, de esta forma no repercutirá negativamente en el resultado final. "
      ],
      "metadata": {
        "id": "sBX659xt0jT4"
      }
    },
    {
      "cell_type": "markdown",
      "source": [
        "### **AdaBoost**"
      ],
      "metadata": {
        "id": "RKcy4cQE0CaQ"
      }
    },
    {
      "cell_type": "markdown",
      "source": [
        "Ahora hablaremos de AdaBoost (Adaptative Boosting) que es un algoritmo que emplea Boosting para su funcionamiento.\n"
      ],
      "metadata": {
        "id": "X4H5Kaww8p0n"
      }
    },
    {
      "cell_type": "markdown",
      "source": [
        "**AdaBoost o **Adaptative Boosting** es un algoritmo basado en **Boosting**, nos basaremos en el pseudocodigo proporcionado para su explicación, lo podemos ver en la siguiente celda."
      ],
      "metadata": {
        "id": "IxU-7gra9NDL"
      }
    },
    {
      "cell_type": "markdown",
      "source": [
        "FOTO"
      ],
      "metadata": {
        "id": "vGhUYsO09wjt"
      }
    },
    {
      "cell_type": "markdown",
      "source": [
        "Como se puede apreciar en el pseudocodigo, vemos que recibimos dos variables por parametro.\n",
        "\n",
        "* **X:** Este es el conjunto de entrenamiento para nuestro algoritmo.\n",
        "* **Y:** Son las etiquetas de cada dato del conjunto de entrenamiento, nos será útil para realizar distintos calculos."
      ],
      "metadata": {
        "id": "9KGF4CTo9x37"
      }
    },
    {
      "cell_type": "markdown",
      "source": [
        "Luego podemos apreciar que tenemos una variable D, esto se define como la distribución de probabilidad del conjunto X, es decir, nos indica la dificultad que tiene clasificar cada dato, más adelante veremos que esta distribucción de probabilidad, en una primera instancia, todas las imagenes tendrán la misma distribución de probabilidad, es decir, 1 / tamaño del conjunto."
      ],
      "metadata": {
        "id": "19P-QqNO_RSA"
      }
    },
    {
      "cell_type": "markdown",
      "source": [
        "Luego vemos que tenemos un primer bucle, antes vamos a comentar que es T y A, T se entiende como la cantidad de clasificadores débiles que van a formar nuestro clasificador fuerte, por su parte, A serán las pruebas aleatorias que haremos para quedarnos con un clasificador débil, esto lo hacemos para intentar quedarnos con el clasificador débil que menos error tenga.\n",
        "\n",
        "Una vez entendido eso, tenemos el primer bucle, que itera hasta T, en cada iteración de T tenemos que buscar un clasificador débil con un error bajo, por eso realizamos el segundo buclede 0 hasta A, en cada iteración de este bucle creamos un clasificador débil al azar, basicamente, creamos los datos que lo compongan de manera azarosa.\n",
        "\n",
        "Cuando se ha generado se ha de calcular su error, el error lo calculamos aplicando el clasificador debil a todo el conjunto de entrenamiento, si la predicción que hace el clasificador debil es distinta de la etiqueta real el error aumenta en el valor que nos indique la posición i-esima del vector de D (distribución de probabilidad).\n",
        "\n",
        "\n"
      ],
      "metadata": {
        "id": "KAIqIv_r_sLP"
      }
    },
    {
      "cell_type": "markdown",
      "source": [
        "Una vez tenemos el mejor clasificador sobre las A pruebas aleatorias, tenemos que calcular su confianza, la confianza la calculamos con la siguiente formula.\n",
        "\n",
        "$alpha = \\frac{1}{2} * \\log_{2}\n",
        "\\frac{1 - error}{error}$"
      ],
      "metadata": {
        "id": "hFYdAqE8Cb0Y"
      }
    },
    {
      "cell_type": "markdown",
      "source": [
        "Cuando se ha calculado la confianza del mejor clasificador, tenemos que actualizar el vector de distribucción de probabilidad.\n",
        "\n",
        "El calculo lo hacemos con las siguientes formulas.\n",
        "\n",
        "$D_{t+1} = \\frac{D_t (i) * e^{-\\alpha * y_{i} * h_{t} (x_{i})}} {Z_{t}}$\n",
        "\n",
        "$Z_{t} = \\sum_{i} D_{t} (i)$\n",
        "\n",
        "Lo que primero hacemos es actualizar el vector de D, es la parte de arriba del numerador de la primera formula. Para ello recorremos todo el vector de entrenamiento, y a la posición i-esima del vector D se le multiplica el número *e* elevado a la -confianza por 1 o -1, 1 será cuando se ha acertado la predicción y -1 cuando la predicción falla.\n",
        "\n",
        "En la siguiente tabla vemos porque se multiplica.\n",
        "\n",
        "\\begin{align}\n",
        "        \\text{valor} = \\left\\{\n",
        "        \\begin{array}{cl}\n",
        "        1 & prediccion = 1 & real = 1 \\\\\n",
        "        1 & prediccion = -1 & real = -1 \\\\\n",
        "        -1 & prediccion = 1 & real = -1 \\\\\n",
        "        -1 & prediccion = -1 & real = 1 \\\\\n",
        "        \\end{array}\n",
        "        \\right.\n",
        "    \\end{align}\n",
        "Asi pues, si la predicción es igual a la etiqueta se elevará a $-\\alpha$, mientras que si la predicción difiere de la etiqueta real, se elevará a $\\alpha$.\n",
        "\n",
        "Luego calulamos la $Z_{t}$, para ello tenemos que sumar todas las posiciones del vector D.\n",
        "\n",
        "Cuando ya tenemos calculado el denominador y la $Z_{t}$, procedemos a realizar la división, basicamente dividimos cada posicion del vector de distribucción entre la $Z_{t}$ calculada, esto se conoce como normalizar la muestra, si no podriamos tener valores que superan un limite.\n"
      ],
      "metadata": {
        "id": "MPLbjdxqCdVU"
      }
    },
    {
      "cell_type": "markdown",
      "source": [
        "Lo explicado anteriormente, se hará T veces como he dicho, cuando esto ha acabado tendremos el clasificador fuerte, este estará formado por una lita de T clasificadores débiles, y ya podremos operar con el clasificador fuerte."
      ],
      "metadata": {
        "id": "0H6EFJkzFlHO"
      }
    },
    {
      "cell_type": "markdown",
      "source": [
        "La ultima linea del pseudocodigo hace referencia al calculo de la hipotesis, se emplea la siguiente formula.\n",
        "\n",
        "$H(x) = sign(\\sum_{t} \\alpha_{t} * h_{t} (x)) $\n",
        "\n",
        "Lo que entendemos de la formula es que dado un dato cualquiera del conjunto, podemos saber su pertecencia aplicando todos los clasificadores debiles del clasificador fuerte a esa imagen, es decir, iteramos sobre los clasificadores debiles, en cada iteracion acumulamos el resultado de aplicar el clasificador debil al dato, y lo multiplicamos por la confianza del clasificador debil, esto iterara T veces.\n",
        "\n",
        "Al final, cuando hemos terminado de iterar, devolvemos el signo de la acumulación, es decir, al final si la acumulación es mayor que cero devolvemos un 1, si es menor o igual a cero devolvemos un -1, esto lo podemos ver en la siguiente tabla.\n",
        "\n",
        "\\begin{align}\n",
        "        \\text{H}(x) = \\left\\{\n",
        "        \\begin{array}{cl}\n",
        "        1 & acumulacion >  1 \\\\\n",
        "        -1 & aculacion \\leq 0.\n",
        "        \\end{array}\n",
        "        \\right.\n",
        "    \\end{align}"
      ],
      "metadata": {
        "id": "QiUfgSOpFh7-"
      }
    },
    {
      "cell_type": "markdown",
      "source": [
        "# **Implementación**"
      ],
      "metadata": {
        "id": "_mdT6lXVzfFx"
      }
    },
    {
      "cell_type": "markdown",
      "metadata": {
        "id": "12Jm82LuM4D8"
      },
      "source": [
        "La implementación constará de distintos apartados, empezaremos desde lo más básico y profundizaremos cada vez más, hasta llegar al algoritmo AdaBoost."
      ]
    },
    {
      "cell_type": "markdown",
      "source": [
        "## **Importación de las librerías necesarias**"
      ],
      "metadata": {
        "id": "_M9KcvzxNOBt"
      }
    },
    {
      "cell_type": "markdown",
      "source": [
        "Tenemos que importar las librerías necesarias para trabajar de una manera eficiente.\n",
        "Usaremos **numpy** para tratar las matrices y vectores y realizar operaciones sobre estos.\n",
        "\n",
        "Usaremos **matplotlib** para mostrar las gráficas necesarias.\n",
        "\n",
        "Usaremos **Keras** para descargar el conjunto de entrenamiento y test de MNIST de forma dinámica.\n",
        "\n",
        "Usaremos **random** para generar números aleatorios, útil al generar los clasificadores débiles.\n",
        "\n",
        "Finalmente, usaremos **math** para realizar cálculos matemáticos."
      ],
      "metadata": {
        "id": "4g6C4ztGNcBW"
      }
    },
    {
      "cell_type": "code",
      "metadata": {
        "id": "qPgdzozKxsJi"
      },
      "source": [
        "import numpy as np\n",
        "import matplotlib.pyplot as plt\n",
        "from keras.datasets import mnist\n",
        "import random as rd\n",
        "import math\n",
        "from tqdm import tqdm"
      ],
      "execution_count": null,
      "outputs": []
    },
    {
      "cell_type": "markdown",
      "metadata": {
        "id": "fabseaAOf3da"
      },
      "source": [
        "## **Importación de la base de datos MNIST**"
      ]
    },
    {
      "cell_type": "markdown",
      "source": [
        "Descargamos usando una función que nos proporciona Keras la base de datos MNIST, concretamente el conjunto de entrenamiento y el conjunto de Test."
      ],
      "metadata": {
        "id": "6ZKy0DMVORvW"
      }
    },
    {
      "cell_type": "code",
      "metadata": {
        "id": "ObCTezA8gHOb",
        "colab": {
          "base_uri": "https://localhost:8080/"
        },
        "outputId": "d84065d5-1827-491e-def1-77b2642a9cf2"
      },
      "source": [
        "(x_train, y_train), (x_test, y_test) = mnist.load_data()"
      ],
      "execution_count": null,
      "outputs": [
        {
          "output_type": "stream",
          "name": "stdout",
          "text": [
            "Downloading data from https://storage.googleapis.com/tensorflow/tf-keras-datasets/mnist.npz\n",
            "11493376/11490434 [==============================] - 0s 0us/step\n",
            "11501568/11490434 [==============================] - 0s 0us/step\n"
          ]
        }
      ]
    },
    {
      "cell_type": "markdown",
      "metadata": {
        "id": "QMWE3hpqgs3c"
      },
      "source": [
        "Tras la descarga, podemos guardar base de datos en un fichero"
      ]
    },
    {
      "cell_type": "code",
      "metadata": {
        "id": "UwZhUZfpg2bd"
      },
      "source": [
        "np.savez(\"mnist\",x=x_train,y=y_train)\n"
      ],
      "execution_count": null,
      "outputs": []
    },
    {
      "cell_type": "markdown",
      "metadata": {
        "id": "ZhvNEctdiV2W"
      },
      "source": [
        "Si hemos guardado la base de datos, podemos cargarla desde un fichero."
      ]
    },
    {
      "cell_type": "code",
      "metadata": {
        "id": "PAHczaleib5u"
      },
      "source": [
        "npzfile = np.load(\"mnist.npz\")\n",
        "mnist_X = npzfile['x']\n",
        "mnist_Y = npzfile['y']"
      ],
      "execution_count": null,
      "outputs": []
    },
    {
      "cell_type": "markdown",
      "metadata": {
        "id": "-Yt22wELipJT"
      },
      "source": [
        "## **Adaptación de los arrays de imágenes y etiquetas para AdaBoost**"
      ]
    },
    {
      "cell_type": "markdown",
      "source": [
        "La adaptación consiste en adaptar, valga la redundancia, los conjuntos de entrenamiento y test, de manera que puedan funcionar de acuerdo a las especificaciones de nuestro programa, aunque esto lo comentaré detalladamente más adelante, nuestro programa funciona con vectores de imagenes de 784 posiciones, por lo que las imagenes que trae MNIST para entrenar hay que adaptarlas a ese tamaño, cada imagen es una matriz de 28 pixeles de ancho y 28 de alto, para que se convierta en un vector de 784 posiciones usaremos la función reshape de *numpy*, le indicaremos como primer parametro cuantas queremos adaptar, serán todas, y como segundo parametro le indicaremos la nueva forma.\n",
        "\n",
        "Al vector de etiquetas no hay que hacer nada, tan solo devolver una copia."
      ],
      "metadata": {
        "id": "MbUKeHNe-2hn"
      }
    },
    {
      "cell_type": "code",
      "metadata": {
        "id": "rNnU_E8dinOz"
      },
      "source": [
        "def adaptar_conjuntos(mnist_X, mnist_Y):\n",
        "    X = mnist_X.reshape(len(mnist_X), 784)\n",
        "    Y = mnist_Y\n",
        "    return (X, Y)\n",
        "\n",
        "\n",
        "(X, Y) = adaptar_conjuntos(mnist_X, mnist_Y)"
      ],
      "execution_count": null,
      "outputs": []
    },
    {
      "cell_type": "markdown",
      "source": [
        "## **Creación de conjuntos**"
      ],
      "metadata": {
        "id": "3ApQtpwgAABa"
      }
    },
    {
      "cell_type": "markdown",
      "source": [
        "### **Dividir Conjuntos**"
      ],
      "metadata": {
        "id": "5J2ieAjEAnEp"
      }
    },
    {
      "cell_type": "markdown",
      "source": [
        "Una vez hemos hecho la adaptación anterior, tenemos que dividir el conjunto de entrenamiento en dos conjuntos, el de entrenamiento y el de validación.\n",
        "\n",
        "La división hacemos en base a un porcentaje, por ejemplo 80% para entrenar y el resto para validar, o 90% para entrenar y el 10% restante para validar.\n",
        "\n",
        "Esto lo realizamos con la siguiente función."
      ],
      "metadata": {
        "id": "4OusAtPlADxm"
      }
    },
    {
      "cell_type": "code",
      "metadata": {
        "id": "tx9-DgdnIRJ5"
      },
      "source": [
        "def split_train_validation_set(X, Y, div):\n",
        "    #Luego sacar el 50% de num y otro 50% de aleatorio -> Tanto para train como validation\n",
        "    N = int(div*len(X))\n",
        "    X_Train = X[0:N].copy()\n",
        "    X_Validation = X[N:len(X)].copy()\n",
        "\n",
        "    Y_Train = Y[0:N].copy()\n",
        "    Y_Validation = Y[N:len(X)].copy()\n",
        "\n",
        "\n",
        "    return (X_Train, X_Validation, Y_Train, Y_Validation)"
      ],
      "execution_count": null,
      "outputs": []
    },
    {
      "cell_type": "markdown",
      "source": [
        "### **Crear Conjunto Entrenamiento/Validación/Test**"
      ],
      "metadata": {
        "id": "_oGtgiSoArAG"
      }
    },
    {
      "cell_type": "markdown",
      "source": [
        "Una vez que hemos realizado la división, para entrenar un digito tenemos que crear un conjunto especifico para ese digito, la idea es mirar cuantas etiquetas coinciden con el digito a entrenar, ese numero formará el 50% del conjunto de entrenamiento de ese número, y 50% restante tendrá la misma cantidad de datos que el otro 50% pero de números distintos del digito a entrenar.\n",
        "\n",
        "Por ejemplo:\n",
        "\n",
        "Si estamos entrenando para el digito 0 y usamos 30000 imagenes como entrenamiento, si vemos que tenemos 1000 ceros, esos 1000 ceros serán el 50% y el resto serán otros digitos. Al final tendremos un conjunto de entrenamiento para el digito cero de tamaño 2000.\n",
        "\n",
        "En esta función también hacemos que las etiquetas que coindicen con el número a entrenar se pongan a 1 mientras que las demás a -1, esto es útil debido a la forma en la que usamos la práctica."
      ],
      "metadata": {
        "id": "zW1u_CdWAyzg"
      }
    },
    {
      "cell_type": "code",
      "source": [
        "def creaConjunto(X, Y, dig):\n",
        "    #Filtro donde cada elemento de Y es igual al digito\n",
        "    filtro = np.where(Y == dig)\n",
        "    no_filtro = np.where(Y != dig)\n",
        "\n",
        "    #Cogemos los que coincidan\n",
        "    imagenes_clase = X[filtro]\n",
        "    imagenes_noclase = X[no_filtro]\n",
        "\n",
        "    etiquetas_clase = Y[filtro]\n",
        "    etiquetas_noclase = Y[no_filtro]\n",
        "\n",
        "    ocasiones = int(len(etiquetas_clase))\n",
        "\n",
        "    #Limitamos al 50% \n",
        "    etiquetas_noclase = etiquetas_noclase[:ocasiones]\n",
        "    imagenes_noclase = imagenes_noclase[:ocasiones]\n",
        "    \n",
        "    #Juntamos las imagenes y las etiquetas\n",
        "    imagenes = np.concatenate((imagenes_clase, imagenes_noclase), axis=0)\n",
        "    etiquetas = np.append(etiquetas_clase, etiquetas_noclase)\n",
        "    etiquetas = np.where(etiquetas == dig, 1, -1)\n",
        "    \n",
        "    return (imagenes, etiquetas)"
      ],
      "metadata": {
        "id": "a0tJNQWEvWuD"
      },
      "execution_count": null,
      "outputs": []
    },
    {
      "cell_type": "markdown",
      "source": [
        "## **Clasificadores Débiles**"
      ],
      "metadata": {
        "id": "gtO9AKNoIHMq"
      }
    },
    {
      "cell_type": "markdown",
      "source": [
        "Un clasificador débil es un modelo muy simple que nos va a indicar la pertenencia de un numero a una clase concreta.\n",
        "\n",
        "En nuestro algoritmo un clasificador débil se genera con los siguientes datos.\n",
        "\n",
        "* Pixel: Es el pixel que indexará en cada imagen del conjunto a probar, en nuestro caso generaremos un valor entre 0 y 784 (no incluido).\n",
        "* Umbral: Esto nos servirá para cuando tenemos que aplicar el clasificador débil, al estar usando imagenes en escala de grises el valor a generar estará entre 0 y 255.\n",
        "* Dirección: Este valor se usará para ver en que plano tenemos que mirar, se elige un valor entre -1 o 1, -1 para el plano negativo y 1 para el plano positivo.\n",
        "* Error: Este valor nos va a servir para guardar el error del clasificador tras aplicarlo a todo el conjunto, se inicializa en 0.\n",
        "* Confianza: Este valor nos indica como de bueno es un clasificador, cuanto más alto este valor mejor, se inicializa en 0.\n",
        "\n",
        "La siguiente clase define lo que acabo de comentar."
      ],
      "metadata": {
        "id": "TSRmj3SjIZkN"
      }
    },
    {
      "cell_type": "code",
      "metadata": {
        "id": "71asatT6H9YX"
      },
      "source": [
        "class clasificador_debil():\n",
        "    def __init__(self, pixel, umbral, dir):\n",
        "        self.pixel = pixel\n",
        "        self.umbral = umbral\n",
        "        self.dir = dir\n",
        "        self.error = 0\n",
        "        self.confianza = 0\n",
        "        \n",
        "    def __repr__(self):\n",
        "        return \"Pixel: \" + str(self.pixel) + \", Umbral: \" + str(self.umbral) + \", Error: \" + str(self.error) + \" Confianza: \" + str(self.confianza)\n"
      ],
      "execution_count": null,
      "outputs": []
    },
    {
      "cell_type": "markdown",
      "source": [
        "En el parrafo anterior he comentado los valores que el clasificador débil puede tener, a modo de resumen tendrá 3 que parten con un valor al azar, el pixel, umbral y dirección.\n",
        "\n",
        "El error y la confianza se inicializan dentro del constructor a cero."
      ],
      "metadata": {
        "id": "fL9iEfNwDNkd"
      }
    },
    {
      "cell_type": "code",
      "metadata": {
        "id": "JPzp9OSAi8rj"
      },
      "source": [
        "# Dimensión con la que vamos a trabajar. En nuestro caso 28*28\n",
        "def generar_clasificador_debil(dimension_datos):\n",
        "    pixel = rd.randint(0, dimension_datos-1)\n",
        "    umbral = rd.randint(0, 255)\n",
        "    dir = rd.choice([-1, 1])\n",
        "    \n",
        "    return clasificador_debil(pixel, umbral, dir)"
      ],
      "execution_count": null,
      "outputs": []
    },
    {
      "cell_type": "markdown",
      "source": [
        "La función aplicar clasificador débil recibe dos parametros, una imagen y el clasificador debil.\n",
        "\n",
        "La logica es muy sencilla, tenemos dos casos.\n",
        "* Dirección igual a 1: En este caso tenemos que ver la parte positiva del plano como he dicho, lo que hacemos es ver si el pixel que hemos generado al azar, indexandolo en la imagen es mayor que el umbral, si se cumple entonces indicamos que la predicción es correcta, si no, indicamos que la prediccón es incorrecta.\n",
        "* Dirección igual a -1: En este caso tenemos que ver la parte negativa del plano como he dicho, lo que hacemos es ver si el pixel que hemos generado al azar, indexandolo en la imagen es menor que el umbral, si se cumple entonces indicamos que la predicción es correcta, si no, indicamos que la prediccón es incorrecta.\n"
      ],
      "metadata": {
        "id": "T4Clu0GhDjCY"
      }
    },
    {
      "cell_type": "code",
      "metadata": {
        "id": "OZccF64ljbUr"
      },
      "source": [
        "def aplicar_clasificador_debil(c_d, imagen):\n",
        "    #Tenemos que ver la dirección\n",
        "    #Si la direccion es positiva, miramos en la parte positiva del plano\n",
        "    if c_d.dir == 1:\n",
        "        if imagen[c_d.pixel] >= c_d.umbral:\n",
        "            return 1\n",
        "    elif c_d.dir == -1:\n",
        "        if imagen[c_d.pixel] < c_d.umbral:\n",
        "            return 1\n",
        "\n",
        "    return -1"
      ],
      "execution_count": null,
      "outputs": []
    },
    {
      "cell_type": "markdown",
      "source": [
        "Para obtener el error de un clasificador es muy sencillo, a esta función le pasamos el clasificador débil, el conjunto de entrenamiento X, las etiquetas Y y el vector de pesos D.\n",
        "\n",
        "La idea es que tenemos que recorrer el conjunto de imagenes, en cada iteración tenemos que ver si la predicción del clasificador débil coincide con la etiqueta, en caso de que no coincida la predicción con lo real aumentamos en el valor de la posición i-esima del vector de distribución de probabilidades D."
      ],
      "metadata": {
        "id": "CmGIurV-EPoT"
      }
    },
    {
      "cell_type": "code",
      "metadata": {
        "id": "M50DGeNhjgDk"
      },
      "source": [
        "def obtener_error(clasificador, X, Y, D):\n",
        "    error = 0.0\n",
        "    for i, img in enumerate(X):\n",
        "        if aplicar_clasificador_debil(clasificador, img) != Y[i]:\n",
        "            error += D[i]\n",
        "    \n",
        "    clasificador.error = error\n",
        "    return error"
      ],
      "execution_count": null,
      "outputs": []
    },
    {
      "cell_type": "markdown",
      "source": [
        "## **Adaboost**"
      ],
      "metadata": {
        "id": "PwJLMGe3KFTi"
      }
    },
    {
      "cell_type": "markdown",
      "source": [
        "### **Implementación AdaBoost**"
      ],
      "metadata": {
        "id": "5eJIeAQ4KSwH"
      }
    },
    {
      "cell_type": "markdown",
      "metadata": {
        "id": "cotcuFUsjtve"
      },
      "source": [
        "Una vez tenemos claro lo que es un clasificador débil, pasamos a implementar AdaBoost, ya he explicado con anterioridad como funciona, así que algo a destacar es que le pasamos por parametros de A y T, la idea es entrenar el algoritmo con el conjunto de entrenamiento X e Y y devolver una lista con los clasificadores débiles y otra con sus respectivas confianzas, es decir, devolver un clasificador fuerte.\n",
        "\n",
        "Para crear el vector de probabilidad usaremos *numpy*, iniciamos un vector de tamaño N (tamaño del conjunto X) con valores 1 / N en cada posición.\n",
        "\n",
        "Algo que no había comentado anteriormente, es el tema del error minimo, se puede dar el caso que de un valor igual a cero, en este caso tendremos que capar el error a un valor muy pequeño. También se podría dar el caso de que sea mayor o igual a 1, si se da el caso lo capamos a un valor bastante alto pero sin pasarse.\n",
        "\n",
        "Luego hacemos el calculo de la confianza, normalizamos el vector D y finalmente guardamos en las listas mencionadas con anterioridad el clasificador y su confianza."
      ]
    },
    {
      "cell_type": "code",
      "metadata": {
        "id": "paE5m0hhjwyX"
      },
      "source": [
        "def adaboost(X, Y, T, A):\n",
        "    clasificadores_debiles = []\n",
        "    alphas = []\n",
        "    \n",
        "    N = len(X)\n",
        "    Dt = np.ones(N) * 1/N\n",
        "    dimension_datos = 784\n",
        "    \n",
        "    for t in range(0, T):\n",
        "        menorError = 1.1\n",
        "        \n",
        "        #Entrenar ht\n",
        "        Fk = None\n",
        "        for i in range(0, A):\n",
        "            Fp = generar_clasificador_debil(dimension_datos)\n",
        "            error = obtener_error(Fp, X, Y, Dt)\n",
        "            if error < menorError:\n",
        "                menorError = error\n",
        "                Fk = Fp\n",
        "        \n",
        "        #Capamos el error, hay dos casos cuando se pasa\n",
        "        if menorError >= 1:\n",
        "            menorError = 0.9999999\n",
        "        #Y cuando es 0\n",
        "        if menorError == 0:\n",
        "            menorError = 0.0000001\n",
        "\n",
        "        #Confianza\n",
        "        alpha = 0.5 * np.log2((1 - menorError)/menorError)\n",
        "        Fk.confianza = alpha\n",
        "\n",
        "        #Actualizar Dt+1\n",
        "        for i in range(0, N):\n",
        "            yk = aplicar_clasificador_debil(Fk, X[i]) * Y[i]\n",
        "            Dt[i] *= (math.e ** (-Fk.confianza * yk))\n",
        "        \n",
        "        #Sumamos Z\n",
        "        Z = np.sum(Dt)\n",
        "\n",
        "        #Normalizar\n",
        "        Dt /= Z\n",
        "\n",
        "        #Guardamos el clasificador y su confianza\n",
        "        alphas.append(alpha)\n",
        "        clasificadores_debiles.append(Fk)\n",
        "        \n",
        "    #Devuelves el clasificador fuerte\n",
        "    return (clasificadores_debiles, alphas)"
      ],
      "execution_count": null,
      "outputs": []
    },
    {
      "cell_type": "markdown",
      "source": [
        "### **Calculo General de la Hipótesis**"
      ],
      "metadata": {
        "id": "0eIbhKYrKXwt"
      }
    },
    {
      "cell_type": "markdown",
      "source": [
        "Para calcular la hipótesis de un clasificador fuerte tenemos que recibir el conjunto X, las etiquetas Y y el clasificador fuerte.\n",
        "\n",
        "Lo que se ha de hacer es, recorrer el conjunto X, para cada imagen de dicho conjunto tenemos que aplicarle los T clasificadores débiles del clasificador fuerte, es decir, multiplicamos la confianza del clasificador t por la predicción del clasificador t, este valor se va acumulando hasta que acabe el segundo bucle, al final nos quedamos con el signo, si es 1 será que la imagen pertenece a la clase y -1 si la imagen no pertenece, el valor lo almacenamos en un vector de resultados, no será de utilidad más adelante."
      ],
      "metadata": {
        "id": "1NbVKibOKI1P"
      }
    },
    {
      "cell_type": "code",
      "metadata": {
        "id": "esApGlFEKv1L"
      },
      "source": [
        "def aplicar_clasificador_fuerte(X, Y, c_f):\n",
        "    tasa_acierto = 0.0\n",
        "\n",
        "    [clasificadores, alphas] = c_f\n",
        "\n",
        "    N = len(X)\n",
        "    resultados = np.zeros(N)\n",
        "    for idx, img in enumerate(X):\n",
        "        acc = 0\n",
        "        for j, deb in enumerate(clasificadores):\n",
        "            acc += alphas[j] * (aplicar_clasificador_debil(deb, img))\n",
        "        resultados[idx] = np.sign(acc)\n",
        "\n",
        "    for i, res in enumerate(resultados):\n",
        "        if res == Y[i]:\n",
        "            tasa_acierto += 1\n",
        "    tasa = round(tasa_acierto/N*100, 2)\n",
        "    return tasa"
      ],
      "execution_count": null,
      "outputs": []
    },
    {
      "cell_type": "markdown",
      "source": [
        "Con lo que he explicado anteriormente, podemos también calcular la tasa de acierto y fallo, la idea es recorrer el vector de resultados generado anteriormente, en cada iteración comprobamos si el resultado de la predicción i-esima es igual que la etiqueta i-esima entonces aumentamos en 1 el acierto."
      ],
      "metadata": {
        "id": "-xVQvz5uOGRN"
      }
    },
    {
      "cell_type": "markdown",
      "source": [
        "## **Entrenar**"
      ],
      "metadata": {
        "id": "2_4zs7s05C2D"
      }
    },
    {
      "cell_type": "markdown",
      "source": [
        "En primer lugar, tenemos que adaptar los conjuntos debido a que las imagenes que importamos de la base de datos MNIST se tratan de imagenes de 28 pixeles de ancho y de alto, el proceso que tenemos que realizar es pasar esas matrices a un vector de 784 posiciones, una vez realizado este proceso ya podremos trabajar de manera comoda."
      ],
      "metadata": {
        "id": "yNsT32aN5HTE"
      }
    },
    {
      "cell_type": "code",
      "metadata": {
        "id": "Zw89BPOFJjv1"
      },
      "source": [
        "(X, Y) = adaptar_conjuntos(mnist_X, mnist_Y)"
      ],
      "execution_count": null,
      "outputs": []
    },
    {
      "cell_type": "markdown",
      "source": [
        "Ahora tenemos que realizar una división del conjunto de entrenamiento, esto lo realizamos para trabajar con dos conjuntos, el de entrenamiento y el de validación. Usaremos un 80% para el conjunto de entrenamiento y el 20% restante para el conjunto de validación.\n",
        "\n",
        "Este porcentaje puede variar, le podemos indicar el que queramos."
      ],
      "metadata": {
        "id": "JWbMJeDG6Ep6"
      }
    },
    {
      "cell_type": "code",
      "metadata": {
        "id": "cXMkDkQrJqTS"
      },
      "source": [
        "porcentaje = 0.8\n",
        "X_Train, X_Validation, Y_Train, Y_Validation = split_train_validation_set(X, Y, porcentaje)"
      ],
      "execution_count": null,
      "outputs": []
    },
    {
      "cell_type": "markdown",
      "source": [
        "Tras la división tenemos que crear el conjunto de entrenamiento y el de validación para el digito a entrenar, en este caso el cero."
      ],
      "metadata": {
        "id": "muMApfkXRYEr"
      }
    },
    {
      "cell_type": "code",
      "source": [
        "(conjuntoTrain, etiquetasTrain) = creaConjunto(X_Train, Y_Train, 0)\n",
        "(conjuntoVal, etiquetasVal) = creaConjunto(X_Validation, Y_Validation, 0)"
      ],
      "metadata": {
        "id": "tEJqZv8GpvnS"
      },
      "execution_count": null,
      "outputs": []
    },
    {
      "cell_type": "markdown",
      "source": [
        "Ya tenemos los conjuntos, ahora tenemos que especificar los valores de T y A, tras esto ya podemos entrenar.\n",
        "\n",
        "Voy a probar con T = 20 y A = 20."
      ],
      "metadata": {
        "id": "7p4lFSuaRiDb"
      }
    },
    {
      "cell_type": "code",
      "source": [
        "A = 10\n",
        "T = 10\n",
        "cf = adaboost(conjuntoTrain, etiquetasTrain, T, A)"
      ],
      "metadata": {
        "id": "0_gtMTXuvuZj"
      },
      "execution_count": null,
      "outputs": []
    },
    {
      "cell_type": "markdown",
      "source": [
        "Una vez tenemos el algoritmo entrenado para el digito cero podemos ver que tasa de acierto y error nos da."
      ],
      "metadata": {
        "id": "oG4HyIyHRusn"
      }
    },
    {
      "cell_type": "code",
      "source": [
        "x1 = aplicar_clasificador_fuerte(conjuntoTrain, etiquetasTrain, cf)\n",
        "x2 = aplicar_clasificador_fuerte(conjuntoVal, etiquetasVal, cf)\n",
        "print(\"Acierto Train -> \", x1)\n",
        "print(\"Acierto Validation -> \", x2)"
      ],
      "metadata": {
        "colab": {
          "base_uri": "https://localhost:8080/"
        },
        "id": "Hteg3s3Rv6EP",
        "outputId": "a854e304-4cbf-43fd-e562-8f9a54592011"
      },
      "execution_count": null,
      "outputs": [
        {
          "output_type": "stream",
          "name": "stdout",
          "text": [
            "Acierto Train ->  88.51\n",
            "Acierto Validation ->  88.94\n"
          ]
        }
      ]
    },
    {
      "cell_type": "markdown",
      "source": [
        "# **Analisis Gráfico del algoritmo**"
      ],
      "metadata": {
        "id": "slxkeXaxR_RU"
      }
    },
    {
      "cell_type": "markdown",
      "source": [
        "Tras la explicación anterior, me parece correcto pasar a realizar pruebas con el algoritmo, realizaremos pruebas para un solo digito, y para todos, dentro de cada prueba variaremos distintos valores para ver como se comporta."
      ],
      "metadata": {
        "id": "Vu7VrKe4SY1B"
      }
    },
    {
      "cell_type": "markdown",
      "source": [
        "## **Pruebas para un digito**"
      ],
      "metadata": {
        "id": "ZbTRR_4fSMZL"
      }
    },
    {
      "cell_type": "markdown",
      "source": [
        "Vamos a realizar distintas pruebas para un digito y ver de manera gráfica que acierto nos da el algoritmo variando datos."
      ],
      "metadata": {
        "id": "7oUlCNEtSPlh"
      }
    },
    {
      "cell_type": "markdown",
      "source": [
        "### **Prueba T constante y A varía**"
      ],
      "metadata": {
        "id": "p3q5GYAfS30k"
      }
    },
    {
      "cell_type": "code",
      "source": [
        "(X_Test, Y_Test) = adaptar_conjuntos(x_test, y_test)"
      ],
      "metadata": {
        "id": "mq61Kvl6TrDX"
      },
      "execution_count": null,
      "outputs": []
    },
    {
      "cell_type": "markdown",
      "source": [
        "La primera prueba que vamos a realizar va a constar de que la T sea constante y que la A vaya incrementando poco a poco hasta 25."
      ],
      "metadata": {
        "id": "8Pl2cEfjYDWl"
      }
    },
    {
      "cell_type": "code",
      "source": [
        "\n",
        "\n",
        "T = 15\n",
        "A = 1\n",
        "\n",
        "valoresA = []\n",
        "valoresTrain = []\n",
        "valoresVal = []\n",
        "valoresTest = []\n",
        "\n",
        "#Creamos el conjunto de entrenamiento, validación y test para el digito 0\n",
        "(conjuntoTrain, etiquetasTrain) = creaConjunto(X_Train, Y_Train, 0)\n",
        "(conjuntoVal, etiquetasVal) = creaConjunto(X_Validation, Y_Validation, 0)\n",
        "(conjuntoTest, etiquetasTest) = creaConjunto(X_Test, Y_Test, 0)\n",
        "\n",
        "#Vamos a realizar 25 pruebas aleatorias\n",
        "for i in tqdm(range(25)):\n",
        "    cf = adaboost(conjuntoTrain, etiquetasTrain, T, A)\n",
        "    resTrain = aplicar_clasificador_fuerte(conjuntoTrain, etiquetasTrain, cf)\n",
        "    resVal = aplicar_clasificador_fuerte(conjuntoVal, etiquetasVal, cf)\n",
        "    resTest = aplicar_clasificador_fuerte(conjuntoTest, etiquetasTest, cf)\n",
        "    valoresTrain.append(resTrain)\n",
        "    valoresVal.append(resVal)\n",
        "    valoresTest.append(resTest)\n",
        "    valoresA.append(A)\n",
        "    A += 1"
      ],
      "metadata": {
        "id": "QSKGjj8Xp-Sk",
        "colab": {
          "base_uri": "https://localhost:8080/"
        },
        "outputId": "c35b0d82-fbc3-4ed9-cd2a-4d1cf8d495ce"
      },
      "execution_count": null,
      "outputs": [
        {
          "output_type": "stream",
          "name": "stderr",
          "text": [
            "100%|██████████| 25/25 [02:40<00:00,  6.41s/it]\n"
          ]
        }
      ]
    },
    {
      "cell_type": "markdown",
      "source": [
        "Guardamos estos valores para tenerlos por si volvemos a ejecutar y así nos los perdemos."
      ],
      "metadata": {
        "id": "pQQEz1jyX8tW"
      }
    },
    {
      "cell_type": "code",
      "source": [
        "valoresA_ = [1, 2, 3, 4, 5, 6, 7, 8, 9, 10, 11, 12, 13, 14, 15, 16, 17, 18, 19, 20, 21, 22, 23, 24, 25]\n",
        "valoresTrain_ = [82.4, 81.73, 75.51, 75.34, 87.64, 79.78, 83.75, 87.13, 81.92, 90.76, 89.07, 89.71, 86.77, 90.08, 90.94, 86.63, 88.96, 90.64, 91.68, 88.19, 91.88, 92.14, 89.33, 90.26, 88.94]\n",
        "valoresTest_ = [85.41, 81.43, 78.06, 75.51, 89.59, 81.38, 83.83, 87.76, 82.96, 92.96, 89.95, 89.64, 88.83, 91.33, 92.24, 87.86, 89.85, 91.33, 93.93, 89.08, 93.16, 93.88, 90.77, 91.58, 91.02]\n",
        "valoresVal_ = [83.42, 83.0, 76.59, 74.66, 87.65, 81.41, 84.59, 86.18, 83.25, 90.37, 90.08, 89.2, 86.89, 89.82, 91.0, 87.52, 89.66, 90.33, 92.13, 87.06, 93.47, 92.55, 89.2, 91.5, 88.57]"
      ],
      "metadata": {
        "id": "uCM64ws1Xbjz"
      },
      "execution_count": null,
      "outputs": []
    },
    {
      "cell_type": "markdown",
      "source": [
        "Ahora procedemos a la creación de la gráficas."
      ],
      "metadata": {
        "id": "152uNW_VYM4d"
      }
    },
    {
      "cell_type": "markdown",
      "source": [
        "En primer lugar mostramos la gráfica probando con el entrenamiento."
      ],
      "metadata": {
        "id": "TFAKixYXZZLj"
      }
    },
    {
      "cell_type": "code",
      "source": [
        "plt.title('Número de aciertos a medida que A aumenta - Conjunto Train')\n",
        "plt.ylabel('% acierto')\n",
        "plt.xlabel('Número de A')\n",
        "plt.plot(valoresA, valoresTrain_, color=\"red\")\n",
        "plt.legend(['Conjunto Entrenamiento'])\n",
        "plt.show()"
      ],
      "metadata": {
        "colab": {
          "base_uri": "https://localhost:8080/",
          "height": 295
        },
        "id": "Ay3ym6AuZBzD",
        "outputId": "e0be8a46-854b-4d48-e28b-16f1e12f6f16"
      },
      "execution_count": null,
      "outputs": [
        {
          "output_type": "display_data",
          "data": {
            "image/png": "[encoded data removed]",
            "text/plain": [
              "<Figure size 432x288 with 1 Axes>"
            ]
          },
          "metadata": {
            "needs_background": "light"
          }
        }
      ]
    },
    {
      "cell_type": "markdown",
      "source": [
        "Ahora mostramos la gráfica usando el conjunto de validación."
      ],
      "metadata": {
        "id": "BWl7eIR-Zv3r"
      }
    },
    {
      "cell_type": "code",
      "source": [
        "plt.title('Número de aciertos a medida que A aumenta - Conjunto Val')\n",
        "plt.ylabel('% acierto')\n",
        "plt.xlabel('Número de A')\n",
        "plt.plot(valoresA, valoresVal_, color=\"orange\")\n",
        "plt.legend(['Conjunto Validacion'])\n",
        "plt.show()"
      ],
      "metadata": {
        "colab": {
          "base_uri": "https://localhost:8080/",
          "height": 295
        },
        "id": "j3hwd_3YZ0KA",
        "outputId": "28b2c3d7-2c37-4071-bbba-3805f473251d"
      },
      "execution_count": null,
      "outputs": [
        {
          "output_type": "display_data",
          "data": {
            "image/png": "[encoded data removed]",
            "text/plain": [
              "<Figure size 432x288 with 1 Axes>"
            ]
          },
          "metadata": {
            "needs_background": "light"
          }
        }
      ]
    },
    {
      "cell_type": "markdown",
      "source": [
        "Ahora generamos la gráfica usando el conjunto de test."
      ],
      "metadata": {
        "id": "hfDiAaIaZ9Tg"
      }
    },
    {
      "cell_type": "code",
      "source": [
        "plt.title('Número de aciertos a medida que A aumenta - Conjunto Test')\n",
        "plt.ylabel('% acierto')\n",
        "plt.xlabel('Número de A')\n",
        "plt.plot(valoresA, valoresVal_, color=\"black\")\n",
        "plt.legend(['Conjunto Test'])\n",
        "plt.show()"
      ],
      "metadata": {
        "colab": {
          "base_uri": "https://localhost:8080/",
          "height": 295
        },
        "id": "JD4ttIXWaAxt",
        "outputId": "9d33f925-7c22-40e2-d020-9fda1cc889cc"
      },
      "execution_count": null,
      "outputs": [
        {
          "output_type": "display_data",
          "data": {
            "image/png": "[encoded data removed]",
            "text/plain": [
              "<Figure size 432x288 with 1 Axes>"
            ]
          },
          "metadata": {
            "needs_background": "light"
          }
        }
      ]
    },
    {
      "cell_type": "markdown",
      "source": [
        "Finalmente, mostramos las tres gráficas superpuestas"
      ],
      "metadata": {
        "id": "_I-PbG9DZjBv"
      }
    },
    {
      "cell_type": "code",
      "source": [
        "plt.title('Número de aciertos a medida que A aumenta - Superpuesta')\n",
        "plt.ylabel('% acierto')\n",
        "plt.xlabel('Número de A')\n",
        "plt.plot(valoresA, valoresTrain_, color=\"red\")\n",
        "plt.plot(valoresA, valoresVal_, color=\"orange\")\n",
        "plt.plot(valoresA, valoresTest_, color=\"black\")\n",
        "plt.legend(['Conjunto Entrenamiento', 'Conjunto Validacion' 'Conjunto Test'])\n",
        "plt.show()"
      ],
      "metadata": {
        "colab": {
          "base_uri": "https://localhost:8080/",
          "height": 295
        },
        "id": "2ulAc_6gYMg0",
        "outputId": "dc2f766b-96b0-4c8d-d6bf-d2d33e9957c6"
      },
      "execution_count": null,
      "outputs": [
        {
          "output_type": "display_data",
          "data": {
            "image/png": "[encoded data removed]",
            "text/plain": [
              "<Figure size 432x288 with 1 Axes>"
            ]
          },
          "metadata": {
            "needs_background": "light"
          }
        }
      ]
    },
    {
      "cell_type": "markdown",
      "source": [
        "### **Prueba A constante y T varía**"
      ],
      "metadata": {
        "id": "p2dTmzCUaJlQ"
      }
    },
    {
      "cell_type": "markdown",
      "source": [
        "La segunda prueba que vamos a realizar va a constar de que la A sea constante y que la T vaya incrementando poco a poco hasta 25."
      ],
      "metadata": {
        "id": "Hz1z3PymaXdk"
      }
    },
    {
      "cell_type": "code",
      "source": [
        "from tqdm import tqdm\n",
        "\n",
        "T = 2\n",
        "A = 15\n",
        "\n",
        "valoresT1 = []\n",
        "valoresTrain1 = []\n",
        "valoresVal1 = []\n",
        "valoresTest1 = []\n",
        "\n",
        "#Creamos el conjunto de entrenamiento, validación y test para el digito 0\n",
        "(conjuntoTrain, etiquetasTrain) = creaConjunto(X_Train, Y_Train, 0)\n",
        "(conjuntoVal, etiquetasVal) = creaConjunto(X_Validation, Y_Validation, 0)\n",
        "(conjuntoTest, etiquetasTest) = creaConjunto(X_Test, Y_Test, 0)\n",
        "\n",
        "#Vamos a realizar 25 pruebas aleatorias\n",
        "for i in tqdm(range(25)):\n",
        "    cf = adaboost(conjuntoTrain, etiquetasTrain, T, A)\n",
        "    resTrain = aplicar_clasificador_fuerte(conjuntoTrain, etiquetasTrain, cf)\n",
        "    resVal = aplicar_clasificador_fuerte(conjuntoVal, etiquetasVal, cf)\n",
        "    resTest = aplicar_clasificador_fuerte(conjuntoTest, etiquetasTest, cf)\n",
        "    valoresTrain1.append(resTrain)\n",
        "    valoresVal1.append(resVal)\n",
        "    valoresTest1.append(resTest)\n",
        "    valoresT1.append(T)\n",
        "    T += 1"
      ],
      "metadata": {
        "colab": {
          "base_uri": "https://localhost:8080/"
        },
        "id": "kpglA27pafH2",
        "outputId": "29588342-4e2c-41eb-a863-ce424fa9e53f"
      },
      "execution_count": null,
      "outputs": [
        {
          "output_type": "stream",
          "name": "stderr",
          "text": [
            "100%|██████████| 25/25 [03:00<00:00,  7.21s/it]\n"
          ]
        }
      ]
    },
    {
      "cell_type": "markdown",
      "source": [
        "Guardaremos los valores al igual que antes para evitar la perdida."
      ],
      "metadata": {
        "id": "VrHOOU_ka0em"
      }
    },
    {
      "cell_type": "code",
      "source": [
        "valoresT1_ = [2, 3, 4, 5, 6, 7, 8, 9, 10, 11, 12, 13, 14, 15, 16, 17, 18, 19, 20, 21, 22, 23, 24, 25, 26]\n",
        "valoresTrain1_ = [65.93, 69.42, 77.7, 81.8, 84.34, 85.69, 84.24, 88.37, 90.93, 87.38, 88.86, 87.38, 89.31, 86.69, 88.23, 88.63, 92.4, 89.1, 92.33, 92.29, 90.45, 92.96, 92.08, 93.39, 92.78]\n",
        "valoresTest1_ = [66.58, 69.44, 78.06, 84.59, 86.07, 88.47, 85.26, 89.59, 92.76, 89.18, 90.15, 87.76, 91.33, 88.42, 90.15, 88.88, 94.59, 90.97, 93.88, 94.18, 91.38, 95.05, 92.24, 94.08, 94.23]\n",
        "valoresVal1_ = [65.08, 69.3, 77.68, 82.04, 85.51, 86.89, 84.0, 89.07, 91.42, 87.86, 88.74, 88.61, 89.15, 86.93, 89.24, 88.11, 93.55, 88.61, 92.29, 92.34, 90.83, 93.13, 91.62, 93.72, 93.68]\n"
      ],
      "metadata": {
        "id": "jWapiC7wa5KW"
      },
      "execution_count": null,
      "outputs": []
    },
    {
      "cell_type": "markdown",
      "source": [
        "Primero generaremos la gráfica para el conjunto de entrenamiento."
      ],
      "metadata": {
        "id": "UqqBZQ0gbMCr"
      }
    },
    {
      "cell_type": "code",
      "source": [
        "plt.title('Número de aciertos a medida que T aumenta - Conjunto Train')\n",
        "plt.ylabel('% acierto')\n",
        "plt.xlabel('Número de T')\n",
        "plt.plot(valoresT1_, valoresTrain1_, color=\"red\")\n",
        "plt.legend(['Conjunto Entrenamiento'])\n",
        "plt.show()"
      ],
      "metadata": {
        "colab": {
          "base_uri": "https://localhost:8080/",
          "height": 295
        },
        "id": "iXOzUwK3bLRG",
        "outputId": "8d920b50-3fbf-4746-bfd3-b73eb4b919a9"
      },
      "execution_count": null,
      "outputs": [
        {
          "output_type": "display_data",
          "data": {
            "image/png": "[encoded data removed]",
            "text/plain": [
              "<Figure size 432x288 with 1 Axes>"
            ]
          },
          "metadata": {
            "needs_background": "light"
          }
        }
      ]
    },
    {
      "cell_type": "markdown",
      "source": [
        "En segundo lugar, creamos la gráfica para el conjunto de validación."
      ],
      "metadata": {
        "id": "AOHSSPmmbcuC"
      }
    },
    {
      "cell_type": "code",
      "source": [
        "plt.title('Número de aciertos a medida que T aumenta - Conjunto Val')\n",
        "plt.ylabel('% acierto')\n",
        "plt.xlabel('Número de T')\n",
        "plt.plot(valoresT1_, valoresVal1_, color=\"orange\")\n",
        "plt.legend(['Conjunto Validacion'])\n",
        "plt.show()"
      ],
      "metadata": {
        "colab": {
          "base_uri": "https://localhost:8080/",
          "height": 295
        },
        "id": "vIENW50idxMD",
        "outputId": "f96edb99-5d63-4553-aa7b-2f772197acb9"
      },
      "execution_count": null,
      "outputs": [
        {
          "output_type": "display_data",
          "data": {
            "image/png": "[encoded data removed]",
            "text/plain": [
              "<Figure size 432x288 with 1 Axes>"
            ]
          },
          "metadata": {
            "needs_background": "light"
          }
        }
      ]
    },
    {
      "cell_type": "markdown",
      "source": [
        "Ahora generamos la gráfica con el conjunto de Test"
      ],
      "metadata": {
        "id": "oO8xCLyPd4IV"
      }
    },
    {
      "cell_type": "code",
      "source": [
        "plt.title('Número de aciertos a medida que T aumenta - Conjunto Test')\n",
        "plt.ylabel('% acierto')\n",
        "plt.xlabel('Número de T')\n",
        "plt.plot(valoresT1_, valoresTest1_, color=\"black\")\n",
        "plt.legend(['Conjunto Test'])\n",
        "plt.show()"
      ],
      "metadata": {
        "colab": {
          "base_uri": "https://localhost:8080/",
          "height": 295
        },
        "id": "hXO8hiTyd74w",
        "outputId": "9b224c9f-47fb-403f-e4b0-fff6dbebf07d"
      },
      "execution_count": null,
      "outputs": [
        {
          "output_type": "display_data",
          "data": {
            "image/png": "[encoded data removed]",
            "text/plain": [
              "<Figure size 432x288 with 1 Axes>"
            ]
          },
          "metadata": {
            "needs_background": "light"
          }
        }
      ]
    },
    {
      "cell_type": "markdown",
      "source": [
        "Finalmente, generamos la gráfica superpuesta de los tres conjuntos."
      ],
      "metadata": {
        "id": "mmN_34Y1eFSq"
      }
    },
    {
      "cell_type": "code",
      "source": [
        "plt.title('Número de aciertos a medida que T aumenta - Superpuesta')\n",
        "plt.ylabel('% acierto')\n",
        "plt.xlabel('Número de T')\n",
        "plt.plot(valoresT1_, valoresTrain1_, color=\"red\")\n",
        "plt.plot(valoresT1_, valoresVal1_, color=\"orange\")\n",
        "plt.plot(valoresT1_, valoresTest1_, color=\"black\")\n",
        "plt.legend(['Conjunto Entrenamiento', 'Conjunto Validacion' 'Conjunto Test'])\n",
        "plt.show()"
      ],
      "metadata": {
        "colab": {
          "base_uri": "https://localhost:8080/",
          "height": 295
        },
        "id": "oP9h_PnNeQHm",
        "outputId": "e181b64d-d449-4248-e5d4-680b7a09d5a9"
      },
      "execution_count": null,
      "outputs": [
        {
          "output_type": "display_data",
          "data": {
            "image/png": "[encoded data removed]",
            "text/plain": [
              "<Figure size 432x288 with 1 Axes>"
            ]
          },
          "metadata": {
            "needs_background": "light"
          }
        }
      ]
    },
    {
      "cell_type": "markdown",
      "source": [
        "# **Preguntas**"
      ],
      "metadata": {
        "id": "B1f8xAZQQEcp"
      }
    },
    {
      "cell_type": "markdown",
      "source": [
        "## **Explica brevemente cómo has adaptado la base datos MNIST al algoritmo AdaBoost.**"
      ],
      "metadata": {
        "id": "cg2p5Ph7XASC"
      }
    },
    {
      "cell_type": "markdown",
      "source": [
        "Esto ya lo hemos explicado anteriormente, a modo de explicación breve, es cambiar el conjunto MNIST_X, ya que cada imagen es una matriz de 28 x 28, lo tenemos que pasar a un vector de 784 posiciones, de esta forma podremos trabajar comodamente en el algoritmo, se ha usado la función reshape de *numpy*, ya que de esta forma podemos cambiar la forma de una imagen."
      ],
      "metadata": {
        "id": "Rm_X_S8_cnhu"
      }
    },
    {
      "cell_type": "markdown",
      "source": [
        "## **¿Cuál es el número de clasificadores que se han de generar para que un clasificador débil funcione? Muestra una gráfica que permita verificar lo que comentas**"
      ],
      "metadata": {
        "id": "DoA8-UA6BSjf"
      }
    },
    {
      "cell_type": "markdown",
      "source": [
        "Vamos a realizar una pequeña prueba donde empieza la A en un valor muy pequeño y lo vamos aumentando hasta 55, luego mostraremos una gráfica donde vemos el acierto en base al número de A."
      ],
      "metadata": {
        "id": "KjbBQaYtkfgy"
      }
    },
    {
      "cell_type": "code",
      "source": [
        "T = 10\n",
        "A = 1\n",
        "\n",
        "valoresA_pregunta = []\n",
        "valoresTrain_pregunta = []\n",
        "valoresVal_pregunta = []\n",
        "\n",
        "#Creamos el conjunto de entrenamiento, validación y test para el digito 0\n",
        "(conjuntoTrain, etiquetasTrain) = creaConjunto(X_Train, Y_Train, 0)\n",
        "(conjuntoVal, etiquetasVal) = creaConjunto(X_Validation, Y_Validation, 0)\n",
        "\n",
        "#Vamos a realizar 25 pruebas aleatorias\n",
        "for i in tqdm(range(55)):\n",
        "    cf = adaboost(conjuntoTrain, etiquetasTrain, T, A)\n",
        "    resTrain = aplicar_clasificador_fuerte(conjuntoTrain, etiquetasTrain, cf)\n",
        "    resVal = aplicar_clasificador_fuerte(conjuntoVal, etiquetasVal, cf)\n",
        "    valoresTrain_pregunta.append(resTrain)\n",
        "    valoresVal_pregunta.append(resVal)\n",
        "    valoresA_pregunta.append(A)\n",
        "    A += 1"
      ],
      "metadata": {
        "colab": {
          "base_uri": "https://localhost:8080/"
        },
        "id": "5-rIVFRAekTk",
        "outputId": "3423fd2a-8394-4cfa-ec2e-4cbc459aa154"
      },
      "execution_count": null,
      "outputs": [
        {
          "output_type": "stream",
          "name": "stderr",
          "text": [
            "100%|██████████| 55/55 [07:51<00:00,  8.57s/it]\n"
          ]
        }
      ]
    },
    {
      "cell_type": "code",
      "source": [
        "A_pregunta = [1, 2, 3, 4, 5, 6, 7, 8, 9, 10, 11, 12, 13, 14, 15, 16, 17, 18, 19, 20, 21, 22, 23, 24, 25, 26, 27, 28, 29, 30, 31, 32, 33, 34, 35, 36, 37, 38, 39, 40, 41, 42, 43, 44, 45, 46, 47, 48, 49, 50, 51, 52, 53, 54, 55]\n",
        "Train_pregunta = [63.17, 69.92, 70.43, 71.77, 83.99, 78.18, 80.12, 84.28, 79.63, 84.69, 79.29, 85.24, 84.48, 87.44, 85.68, 86.37, 92.04, 84.24, 90.32, 92.18, 85.39, 84.45, 86.65, 90.74, 89.01, 90.89, 89.05, 90.65, 92.18, 91.39, 89.68, 92.21, 91.76, 87.9, 91.15, 90.25, 90.48, 90.42, 89.55, 89.0, 87.79, 90.96, 91.49, 90.34, 90.29, 88.9, 91.04, 90.58, 90.38, 91.13, 92.41, 91.39, 89.74, 91.38, 90.9]\n",
        "Val_pregunta = [63.86, 68.97, 71.52, 70.69, 84.67, 79.65, 80.9, 83.38, 75.92, 85.05, 81.28, 85.47, 83.71, 87.56, 86.22, 85.93, 93.13, 85.26, 90.37, 93.43, 85.55, 85.26, 88.74, 90.08, 87.98, 91.54, 89.91, 91.16, 92.63, 91.92, 90.12, 92.5, 90.91, 88.36, 90.95, 89.7, 90.83, 90.91, 89.49, 89.7, 87.19, 92.59, 90.62, 91.21, 91.21, 89.66, 90.87, 91.16, 90.62, 91.83, 92.55, 91.79, 90.24, 91.75, 91.92]"
      ],
      "metadata": {
        "id": "JSc2nHkehxP-"
      },
      "execution_count": null,
      "outputs": []
    },
    {
      "cell_type": "code",
      "source": [
        "#Generamos la gráfica\n",
        "plt.title('Número de aciertos a medida que A aumenta - Superpuesta')\n",
        "plt.ylabel('% acierto')\n",
        "plt.xlabel('Número de A')\n",
        "plt.plot(A_pregunta, Train_pregunta, color=\"red\")\n",
        "plt.plot(A_pregunta, Val_pregunta, color=\"black\")\n",
        "plt.legend(['Conjunto Entrenamiento', 'Conjunto Validacion'])\n",
        "plt.show()"
      ],
      "metadata": {
        "colab": {
          "base_uri": "https://localhost:8080/",
          "height": 295
        },
        "id": "9gpXPn_MiVTt",
        "outputId": "2bf4ff2f-15fb-4128-cdef-55dbb4c63ebf"
      },
      "execution_count": null,
      "outputs": [
        {
          "output_type": "display_data",
          "data": {
            "image/png": "[encoded data removed]",
            "text/plain": [
              "<Figure size 432x288 with 1 Axes>"
            ]
          },
          "metadata": {
            "needs_background": "light"
          }
        }
      ]
    },
    {
      "cell_type": "markdown",
      "source": [
        "Como podemos apreciar en la gráfica anterior, teniendo un valor constante de T (10 he decidido) y aumentando poco a poco A, vemos que a partir del valor 30, el porcentaje de acierto comienza a estabilizarse, así pues el valor ideal de A sería alrededor de 40, preferiblemente 50, a partir de ese valor ya no aumenta mucho el acierto, por lo que para aumentar el acierto ya tendríamos que subir el valor de A."
      ],
      "metadata": {
        "id": "3HXXNAuVlLOo"
      }
    },
    {
      "cell_type": "markdown",
      "source": [
        "## **¿Cómo afecta el número de clasificadores generados al tiempo empleado para el proceso de aprendizaje? ¿Qué importancia le darías? Justifica tu respuesta.**"
      ],
      "metadata": {
        "id": "BDva8hxABIoB"
      }
    },
    {
      "cell_type": "markdown",
      "source": [
        "Al final el tiempo viene condicionado por las variables T y A, a medida que estos valores aumentan el tiempo en entrenar comienza a subir, la idea es buscar unos valores que funcionen relativamente bien con un tiempo de entrenamiento que no llegue a ser prohibitivo, ya que a partir de ciertos valores de A y T, el tiempo que requiere es mucho.\n",
        "\n",
        "Además, algo a destacar es que si tenemos un valor mayor de T será mejor que tener un valor alto de A, ya que cuanto mayor T tengamos tendremos más clasificadores que voten en la hipótesis."
      ],
      "metadata": {
        "id": "cFUm6Y9AiteK"
      }
    },
    {
      "cell_type": "markdown",
      "source": [
        "## **¿Cómo has dividido los datos en conjunto de entrenamiento y test? ¿Para qué es útil hacer esta división?**"
      ],
      "metadata": {
        "id": "pUwLYy0_BpaH"
      }
    },
    {
      "cell_type": "markdown",
      "source": [
        "El hecho de que hagamos la división del conjunto de entrenamiento es muy útil, ya que de esta manera podremos usar todas las imágenes que nos proporciona el conjunto MNIST, si no hiciesemos esta división tendríamos un problema, el cual es que habría que buscar nuevas imágenes que cumplan con los requerimientos de la práctica, y pienso que eso puede llegar a ser complejo ya que el labor del etiquetado es muy largo.\n",
        "\n",
        "La división la hemos hecho usando un 80% para entrenar y el resto para validar."
      ],
      "metadata": {
        "id": "eC3-lZjSe-x_"
      }
    },
    {
      "cell_type": "markdown",
      "source": [
        "## **¿Has observado si se produce sobre entrenamiento? Justifica tu respuesta con una gráfica en la que se compare el error de entrenamiento y el de test a lo largo de las ejecuciones.**"
      ],
      "metadata": {
        "id": "-snE5OL0BkoM"
      }
    },
    {
      "cell_type": "markdown",
      "source": [
        "No he encontrado sobreentrenamiento, pienso que el sobreentrenamiento podría ocurrir con unos valores de A y T muy altos, con las pruebas que he realizado no he conseguido que ocurra.\n",
        "\n",
        "Aunque lo veremos más claro en un gráfica que vamos a generar, partimos con valores de T y A pequeños y los vamos aumentando."
      ],
      "metadata": {
        "id": "CigHzgD4sz7K"
      }
    },
    {
      "cell_type": "code",
      "source": [
        "T = 1\n",
        "A = 1\n",
        "\n",
        "valoresA_sobreentrenamiento = []\n",
        "valoresTrain_sobreentrenamiento = []\n",
        "valoresVal_sobreentrenamiento = []\n",
        "\n",
        "#Creamos el conjunto de entrenamiento, validación y test para el digito 0\n",
        "(conjuntoTrain, etiquetasTrain) = creaConjunto(X_Train[:int(len(X_Train) / 2)], Y_Train[:int(len(X_Train) / 2)], 0)\n",
        "(conjuntoVal, etiquetasVal) = creaConjunto(X_Validation[:int(len(X_Train) / 2)], Y_Validation[:int(len(X_Train) / 2)], 0)\n",
        "\n",
        "#Vamos a realizar 4 pruebas aleatorias\n",
        "for i in tqdm(range(4)):\n",
        "    cf = adaboost(conjuntoTrain, etiquetasTrain, T, A)\n",
        "    resTrain = aplicar_clasificador_fuerte(conjuntoTrain, etiquetasTrain, cf)\n",
        "    resVal = aplicar_clasificador_fuerte(conjuntoVal, etiquetasVal, cf)\n",
        "    valoresTrain_sobreentrenamiento.append(resTrain)\n",
        "    valoresVal_sobreentrenamiento.append(resVal)\n",
        "    valoresA_sobreentrenamiento.append(A)\n",
        "    A += 40\n",
        "    T += 40"
      ],
      "metadata": {
        "id": "I2ysaQMG0LAY"
      },
      "execution_count": null,
      "outputs": []
    },
    {
      "cell_type": "markdown",
      "source": [
        "Guardamos los valores."
      ],
      "metadata": {
        "id": "5l6Zb76q0cYg"
      }
    },
    {
      "cell_type": "code",
      "source": [
        "valoresA_T_overfitting = [1, 41, 81, 121]\n",
        "valoresTrain_overfitting = [50.25, 95.09, 97.08, 97.82]\n",
        "valoresVal_overfitting = [50.38, 94.72, 95.98, 96.86]"
      ],
      "metadata": {
        "id": "mhWYAg2Z0eFV"
      },
      "execution_count": null,
      "outputs": []
    },
    {
      "cell_type": "markdown",
      "source": [
        "Mostramos las gráficas."
      ],
      "metadata": {
        "id": "coApiCQZ0XLq"
      }
    },
    {
      "cell_type": "code",
      "source": [
        "#Generamos la gráfica\n",
        "plt.title('Overfitting - Superpuesta')\n",
        "plt.ylabel('% acierto')\n",
        "plt.xlabel('Número de A y T')\n",
        "plt.plot(valoresA_T_overfitting, valoresTrain_overfitting, color=\"red\")\n",
        "plt.plot(valoresA_T_overfitting, valoresVal_overfitting, color=\"black\")\n",
        "plt.legend(['Conjunto Entrenamiento', 'Conjunto Validacion'])\n",
        "plt.show()"
      ],
      "metadata": {
        "colab": {
          "base_uri": "https://localhost:8080/",
          "height": 296
        },
        "id": "zhNEhfb_0W35",
        "outputId": "357c13ba-e8d0-44e4-f75a-6c434979cf9c"
      },
      "execution_count": null,
      "outputs": [
        {
          "output_type": "display_data",
          "data": {
            "image/png": "[encoded data removed]",
            "text/plain": [
              "<Figure size 432x288 with 1 Axes>"
            ]
          },
          "metadata": {
            "needs_background": "light"
          }
        }
      ]
    },
    {
      "cell_type": "markdown",
      "source": [
        "## **¿Cómo has conseguido que Adaboost clasifique entre los 10 dígitos cuando solo tiene una salida binaria?**"
      ],
      "metadata": {
        "id": "7lTJ9J5uB-ZI"
      }
    },
    {
      "cell_type": "markdown",
      "source": [
        "Para conseguir que AdaBoost clasifique entre los 10 tenemos que realizar una serie de cosas.\n",
        "* Entrenar 10 clasificadores fuertes, uno por cada digito.\n",
        "* Luego generar un conjunto de imagenes de prueba al azar.\n",
        "* Sacar la categoria a la que pertenece cada imagen."
      ],
      "metadata": {
        "id": "qc4pUj9Gt12a"
      }
    },
    {
      "cell_type": "markdown",
      "source": [
        "### **Entrenar 10 clasificadores**"
      ],
      "metadata": {
        "id": "GPWefAJzzElw"
      }
    },
    {
      "cell_type": "code",
      "source": [
        "T = 30\n",
        "A = 30\n",
        "\n",
        "\n",
        "strongLearners = []\n",
        "for i in range(10):\n",
        "    (conjuntoTrain, etiquetasTrain) = creaConjunto(X_Train, Y_Train, i)\n",
        "    cf = adaboost(conjuntoTrain, etiquetasTrain, T, A)\n",
        "    strongLearners.append(cf)"
      ],
      "metadata": {
        "id": "jjuKNYuDzJOa"
      },
      "execution_count": null,
      "outputs": []
    },
    {
      "cell_type": "markdown",
      "source": [
        "### **Creación de Imágenes al Azar**"
      ],
      "metadata": {
        "id": "nuteiTiL0_u0"
      }
    },
    {
      "cell_type": "markdown",
      "source": [
        "Elegiremos una cantidad de imagenes al azar."
      ],
      "metadata": {
        "id": "_t4M5VK316U2"
      }
    },
    {
      "cell_type": "code",
      "source": [
        "def eligeImagenesAzar(X, Y, cantidad):\n",
        "    nuevoX = []\n",
        "    nuevoY = []\n",
        "    for i in range(cantidad):\n",
        "        idx = rd.randint(0, len(X) - 1)\n",
        "        nuevoX.append(X[idx])\n",
        "        nuevoY.append(Y[idx])\n",
        "    return (nuevoX, nuevoY)"
      ],
      "metadata": {
        "id": "_rP_GSk208iB"
      },
      "execution_count": null,
      "outputs": []
    },
    {
      "cell_type": "code",
      "source": [
        "def aplicarClasificadorFuertePregunta(strongLearners, X, Y):\n",
        "    tasa_aciertos = 0\n",
        "    for x, imagen in enumerate(X):\n",
        "        mejorClase = -1\n",
        "        mejorAcumulador = -1\n",
        "        for i, fuerte in enumerate(strongLearners):\n",
        "            [hts, alphas] = fuerte\n",
        "            sum = 0\n",
        "            for j, ht in enumerate(hts):\n",
        "                sum += alphas[j] * aplicar_clasificador_debil(ht, imagen)\n",
        "            if sum > mejorAcumulador:\n",
        "                mejorClase = i\n",
        "                mejorAcumulador = sum\n",
        "        if mejorClase == Y[x]:\n",
        "              tasa_aciertos += 1\n",
        "        #print(\"Categoria Real: \", Y[x] , \" Categoria Predicción: \", mejorClase )\n",
        "    if tasa_aciertos == None:\n",
        "        tasa_aciertos = 0\n",
        "    return tasa_aciertos"
      ],
      "metadata": {
        "id": "LDrsof4B2Ctf"
      },
      "execution_count": null,
      "outputs": []
    },
    {
      "cell_type": "code",
      "source": [
        "cantidad = 20\n",
        "(nuevoX, nuevoY) = eligeImagenesAzar(X, Y, cantidad)\n",
        "tasa_aciertos = 0\n",
        "\n",
        "\n",
        "res = aplicarClasificadorFuertePregunta(strongLearners, nuevoX, nuevoY)\n",
        "print(\"Has acertado \", res, \" de \", cantidad, \" cantidad\")"
      ],
      "metadata": {
        "colab": {
          "base_uri": "https://localhost:8080/"
        },
        "id": "cYhLf8D93hPK",
        "outputId": "a47d9229-fb36-4aa4-c2cd-0c526b244b5c"
      },
      "execution_count": null,
      "outputs": [
        {
          "output_type": "stream",
          "name": "stdout",
          "text": [
            "Categoria Real:  6  Categoria Predicción:  8\n",
            "Categoria Real:  2  Categoria Predicción:  7\n",
            "Categoria Real:  4  Categoria Predicción:  4\n",
            "Categoria Real:  1  Categoria Predicción:  1\n",
            "Categoria Real:  9  Categoria Predicción:  9\n",
            "Categoria Real:  6  Categoria Predicción:  6\n",
            "Categoria Real:  5  Categoria Predicción:  5\n",
            "Categoria Real:  1  Categoria Predicción:  1\n",
            "Categoria Real:  0  Categoria Predicción:  0\n",
            "Categoria Real:  5  Categoria Predicción:  0\n",
            "Categoria Real:  7  Categoria Predicción:  7\n",
            "Categoria Real:  2  Categoria Predicción:  6\n",
            "Categoria Real:  0  Categoria Predicción:  0\n",
            "Categoria Real:  7  Categoria Predicción:  2\n",
            "Categoria Real:  1  Categoria Predicción:  1\n",
            "Categoria Real:  1  Categoria Predicción:  1\n",
            "Categoria Real:  6  Categoria Predicción:  6\n",
            "Categoria Real:  7  Categoria Predicción:  7\n",
            "Categoria Real:  2  Categoria Predicción:  2\n",
            "Categoria Real:  5  Categoria Predicción:  5\n",
            "Has acertado  15  de  20  cantidad\n"
          ]
        }
      ]
    },
    {
      "cell_type": "markdown",
      "source": [
        "Ahora hacemos unas pruebas para ver que porcentaje acierta."
      ],
      "metadata": {
        "id": "xN912B5y9H-t"
      }
    },
    {
      "cell_type": "code",
      "source": [
        "cantidad = 10\n",
        "tamanyoPruebas = 3000\n",
        "porcentaje_aciertos = 0\n",
        "for x in range(tamanyoPruebas):\n",
        "    (nuevoX, nuevoY) = eligeImagenesAzar(X, Y, cantidad)\n",
        "    res = -1\n",
        "    res = aplicarClasificadorFuertePregunta(strongLearners, nuevoX, nuevoY)\n",
        "    porcentaje_aciertos += res\n",
        "\n",
        "#Mostramos el acierto\n",
        "tasa = (porcentaje_aciertos/len(nuevoX)) * 100\n",
        "tasa /= tamanyoPruebas\n",
        "print(\"Tasa: \", tasa)"
      ],
      "metadata": {
        "colab": {
          "base_uri": "https://localhost:8080/"
        },
        "id": "28ArWSix6jcS",
        "outputId": "73ba51af-cc52-4821-fcfa-0a54d1d05f32"
      },
      "execution_count": null,
      "outputs": [
        {
          "output_type": "stream",
          "name": "stdout",
          "text": [
            "Tasa:  77.02333333333333\n"
          ]
        }
      ]
    },
    {
      "cell_type": "markdown",
      "source": [
        "## **Comenta detalladamente el funcionamiento de AdaBoost teniendo en cuenta que tasa media de fallos obtienes para aprendizaje y test. Correlaciona los porcentajes de acierto y de fallo con los valores de A y de T**"
      ],
      "metadata": {
        "id": "EyEIn1x4XCxc"
      }
    },
    {
      "cell_type": "markdown",
      "source": [
        "Esto ya lo hemos explicado con anterioridad, lo que quiero comentar es la relación entre los valores de T y A que toma el algoritmo con la tasa de acierto y fallos, a medida que aumente el valor de A o T la tasa de aciertos comienza a subir, pero llega un momento donde se estabiliza."
      ],
      "metadata": {
        "id": "gh6jS8hYmneV"
      }
    },
    {
      "cell_type": "code",
      "source": [
        "T = 1\n",
        "A = 1\n",
        "\n",
        "valoresA_correlacion = []\n",
        "valoresTrain_correlacion = []\n",
        "valoresVal_correlacion = []\n",
        "\n",
        "#Creamos el conjunto de entrenamiento, validación y test para el digito 0\n",
        "(conjuntoTrain, etiquetasTrain) = creaConjunto(X_Train, Y_Train, 0)\n",
        "(conjuntoVal, etiquetasVal) = creaConjunto(X_Validation, Y_Validation, 0)\n",
        "\n",
        "#Vamos a realizar 25 pruebas aleatorias\n",
        "for i in tqdm(range(30)):\n",
        "    cf = adaboost(conjuntoTrain, etiquetasTrain, T, A)\n",
        "    resTrain = aplicar_clasificador_fuerte(conjuntoTrain, etiquetasTrain, cf)\n",
        "    resVal = aplicar_clasificador_fuerte(conjuntoVal, etiquetasVal, cf)\n",
        "    valoresTrain_correlacion.append(resTrain)\n",
        "    valoresVal_correlacion.append(resVal)\n",
        "    valoresA_correlacion.append(A)\n",
        "    A += 1\n",
        "    T += 1"
      ],
      "metadata": {
        "colab": {
          "base_uri": "https://localhost:8080/"
        },
        "id": "0gtc9-PSnOId",
        "outputId": "2a7f20b7-5ae1-4ddc-dc62-98e91e4f940e"
      },
      "execution_count": null,
      "outputs": [
        {
          "output_type": "stream",
          "name": "stderr",
          "text": [
            "100%|██████████| 30/30 [04:46<00:00,  9.57s/it]\n"
          ]
        }
      ]
    },
    {
      "cell_type": "code",
      "source": [
        "listaA_T_correlacion = [1, 2, 3, 4, 5, 6, 7, 8, 9, 10, 11, 12, 13, 14, 15, 16, 17, 18, 19, 20, 21, 22, 23, 24, 25, 26, 27, 28, 29, 30]\n",
        "listaTrain_correlacion = [57.18, 68.85, 50.0, 52.3, 74.55, 74.6, 83.18, 72.7, 80.98, 88.85, 83.65, 86.57, 88.9, 85.29, 91.76, 90.39, 90.71, 84.98, 91.9, 92.43, 92.4, 93.16, 90.28, 92.45, 92.98, 93.37, 92.78, 92.5, 94.76, 93.43]\n",
        "listaVal_correlacion = [58.58, 71.61, 50.0, 51.55, 74.12, 76.47, 81.24, 69.56, 80.11, 90.24, 85.09, 87.31, 88.48, 84.76, 91.25, 90.45, 90.58, 84.92, 91.21, 92.59, 91.21, 94.05, 90.28, 93.97, 92.71, 93.8, 92.55, 92.59, 93.84, 93.47]"
      ],
      "metadata": {
        "id": "s8fqjqi0pDgE"
      },
      "execution_count": null,
      "outputs": []
    },
    {
      "cell_type": "code",
      "source": [
        "listaTrain_correlacionFallos = np.asarray(listaTrain_correlacion)\n",
        "listaTrain_correlacionFallos = 100 - listaTrain_correlacionFallos\n",
        "listaVal_correlacionFallos = np.asarray(listaVal_correlacion)\n",
        "listaVal_correlacionFallos = 100 - listaVal_correlacionFallos"
      ],
      "metadata": {
        "id": "Uz8UFsPUrLrJ"
      },
      "execution_count": null,
      "outputs": []
    },
    {
      "cell_type": "code",
      "source": [
        "#Generamos la gráfica\n",
        "plt.title('Número de aciertos a medida que A y T aumentan - Superpuesta')\n",
        "plt.ylabel('% acierto')\n",
        "plt.xlabel('Número de A y T')\n",
        "plt.plot(listaA_T_correlacion, listaTrain_correlacion, color=\"red\")\n",
        "plt.plot(listaA_T_correlacion, listaVal_correlacion, color=\"black\")\n",
        "plt.legend(['Conjunto Entrenamiento', 'Conjunto Validacion'])\n",
        "plt.show()"
      ],
      "metadata": {
        "colab": {
          "base_uri": "https://localhost:8080/",
          "height": 296
        },
        "id": "jQY9K_9zqng4",
        "outputId": "195ca92b-6b7f-4cef-904a-4740aa27e87f"
      },
      "execution_count": null,
      "outputs": [
        {
          "output_type": "display_data",
          "data": {
            "image/png": "[encoded data removed]",
            "text/plain": [
              "<Figure size 432x288 with 1 Axes>"
            ]
          },
          "metadata": {
            "needs_background": "light"
          }
        }
      ]
    },
    {
      "cell_type": "markdown",
      "source": [
        "En la gráfica anterior podemos comprobar lo que he dicho anteriormente, a medidas que los valores de T y A van aumentando, el porcentaje de aciertos se comienza a estabilizarse."
      ],
      "metadata": {
        "id": "rgzAA5z_q2Dm"
      }
    },
    {
      "cell_type": "code",
      "source": [
        "#Generamos la gráfica\n",
        "plt.title('Número de fallo a medida que A y T aumentan - Superpuesta')\n",
        "plt.ylabel('% acierto')\n",
        "plt.xlabel('Número de A y T')\n",
        "plt.plot(listaA_T_correlacion, listaTrain_correlacionFallos, color=\"red\")\n",
        "plt.plot(listaA_T_correlacion, listaVal_correlacionFallos, color=\"black\")\n",
        "plt.legend(['Conjunto Entrenamiento', 'Conjunto Validacion'])\n",
        "plt.show()"
      ],
      "metadata": {
        "colab": {
          "base_uri": "https://localhost:8080/",
          "height": 296
        },
        "id": "jfjiCgoLrwNY",
        "outputId": "00db7f92-1d2e-4ec1-e754-b50d81555a6f"
      },
      "execution_count": null,
      "outputs": [
        {
          "output_type": "display_data",
          "data": {
            "image/png": "[encoded data removed]",
            "text/plain": [
              "<Figure size 432x288 with 1 Axes>"
            ]
          },
          "metadata": {
            "needs_background": "light"
          }
        }
      ]
    },
    {
      "cell_type": "markdown",
      "source": [
        "En la gráfica anterior podemos observar lo mismo, que a medida que A y T aumentan el error empieza a bajar."
      ],
      "metadata": {
        "id": "Q6HP0N_ZsQUQ"
      }
    },
    {
      "cell_type": "markdown",
      "source": [
        "# **Lectura de una imagen nuestra**"
      ],
      "metadata": {
        "id": "dDH8uLNjxOyk"
      }
    },
    {
      "cell_type": "markdown",
      "source": [
        "Para leer una imagen nuestra usaremos 3 librerias, **matplotlib**, **numpy** y **opencv**. Y el codigo es el siguiente."
      ],
      "metadata": {
        "id": "Y6nL2dr2xzwD"
      }
    },
    {
      "cell_type": "code",
      "source": [
        "#Importamos el codigo\n",
        "import numpy as np\n",
        "import cv2\n",
        "import matplotlib.pyplot as plt\n",
        "#Esto lo ponemos porque estamos usando un cuadernillo Jupyter\n",
        "%matplotlib inline\n",
        "\n",
        "#Aqui leemos una imagen en escala de grises\n",
        "img = cv2.imread('/rutaImagen/imagen.png', 0) \n",
        "plt.imshow(img, cmap='gray')"
      ],
      "metadata": {
        "id": "iET57qXwyEEK"
      },
      "execution_count": null,
      "outputs": []
    }
  ]
}