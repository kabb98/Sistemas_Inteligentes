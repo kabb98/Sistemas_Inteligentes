{
  "nbformat": 4,
  "nbformat_minor": 0,
  "metadata": {
    "colab": {
      "name": "Memoria_Practica1.ipynb",
      "provenance": [],
      "collapsed_sections": [
        "gBsotL2qSGxf",
        "74V4OjLSMTfA",
        "ujCQ3XjrPfsl",
        "iogqpYI7Kx2R"
      ]
    },
    "kernelspec": {
      "name": "python3",
      "display_name": "Python 3"
    },
    "language_info": {
      "name": "python"
    }
  },
  "cells": [
    {
      "cell_type": "markdown",
      "metadata": {
        "id": "gBsotL2qSGxf"
      },
      "source": [
        "# **Introducción**\n",
        "El objetivo de la primera práctica es implementar el algoritmo de busqueda A*, cuyo objetivo es buscar el camino óptimo entre dos puntos."
      ]
    },
    {
      "cell_type": "markdown",
      "metadata": {
        "id": "74V4OjLSMTfA"
      },
      "source": [
        "# **Explicación algoritmo A***\n",
        "El algoritmo A* se clasifica dentro de los algoritmos de búsqueda de grafos. El objetivo de este algoritmo es encontrar siempre el camino más óptimo, es decir, el camino de menor coste entre una posición inicial y una objetivo, para encontra dicho el algoritmo tiene que cumplir las restricciones del problema en cuestión.\n",
        "\n",
        "Un aspecto muy importante de este algoritmo es la heurística, este concepto se puede definir como una suposición que hacemos basandos en lo que conocemos como en lo que desconocemos, el fin de la heurística es dotar de cierta inteligencia a nuestro algoritmo.\n",
        "\n",
        "Dependiendo de la calidad de la heurística que usemos el coste computacional de nuestro algoritmo será uno u otro, en el mejor de los casos tendremos una complejidad lineal, mientras que si empleamos una mala heurística podrás darse el caso de tener una complejidad exponencial. Por lo que podemos decir, que la eficiencia del algoritmo A* está ligado a cuan buena sea la heuristica que usemos.\n",
        "Por otro lado, un problema presente en este algoritmo es el coste espacial, este será exponencial respecto al tamaño del problema, ya que a mayor tamaño de problema tendremos que explorar muchos más nodos para encontrar la solución.\n",
        "\n",
        "Ahora procedemos a explicar de manera general el algoritmo A*. Este algoritmo viene determinado por la siguiente función:\n",
        "\n",
        "        f(n) = g(n) + h(n)\n",
        "\n",
        "Donde g(n) representa el coste real desde el nodo inicial hasta el nodo actual. Por otro lado, está h(n) esto se trata de la función heurística, que en este caso será la estimación que hace desde el nodo actual hasta el nodo objetivo.\n",
        "\n",
        "Como todo algoritmo de búsqueda en amplitud, este es un algoritmo completo: si existiese una solución siempre dará con ella.\n",
        "\n",
        "Para garantizar la optimalidad del algoritmo, la función heurística que se emplee ha de ser admisible, es decir, que no sobreestime el coste real de alcanzar la meta desde el origen.\n",
        "\n",
        "Relacionado con esto, una función h(n) es admisible cuando se cumple que:\n",
        "\n",
        "        h(n) <= h*(n) Vn\n",
        "En otras palabras, para cualquier nodo no final h(n) ha de ser menor que h*(n).\n",
        "\n",
        "El algoritmo A* emplea dos estructuras de datos, la **lista frontera** cuyo objetivo es almacenar los distintos estados/nodos por donde es factible expandir, y la **lista interior**  la cual se emplea para guardar los estados/nodos que ya hemos visitado con anterioridad. Gracias a estas estructuras de datos podremos evaluar los nodos que sean más prometedores y no volver a visitar nodos los cuales ya hemos visitado."
      ]
    },
    {
      "cell_type": "markdown",
      "metadata": {
        "id": "ujCQ3XjrPfsl"
      },
      "source": [
        "# **Implementación**\n",
        "A continuación mostramos el pseudocódigo del algoritmo a implementar, además de enseñar como se ha implementado para la práctica.\n",
        "\n",
        "## **Pseudocódigo**\n",
        "```\n",
        "Alg A*\n",
        "  listaInterior = vacio\n",
        "  listaFrontera = inicio\n",
        "  mientras listaFrontera no esté vacía\n",
        "    n = obtener nodo de listaFrontera con menor f(n) = g(n) + h(n)\n",
        "    listaFrontera.del(n)\n",
        "    listaInterior.add(n)\n",
        "    si n es meta\n",
        "      devolver\n",
        "      reconstruir camino desde la meta al inicio siguiendo los punteros\n",
        "    fsi\n",
        "    para cada hijo m de n que no esté en listaInterior\n",
        "      g’(m) = n.g + c(n, m)  //g del nodo a explorar m\n",
        "      si m no está en listaFrontera\n",
        "        almacenar la f, g y h del nodo en (m.f, m.g, m.h)\n",
        "        m.padre = n\n",
        "        listaFrontera.add(m)\n",
        "      sino si g’(m) es mejor que m.g  //Verificamos si el nuevo camino es mejor\n",
        "        m.padre = n\n",
        "        recalcular f y g del nodo m\n",
        "      fsi\n",
        "    fpara\n",
        "  fmientras\n",
        "  devolver no hay solución\n",
        "falg\n",
        "```\n",
        "\n",
        "## **Clase Estado**\n",
        "\n",
        "Para guardar los distintos estados del problema se ha decidido crear esta clase.\n",
        "\n",
        "Esta clase tiene como atributos la casilla, un puntero a su Estado/Nodo predecesor, las funciones f, g y h. Algo a recalcar es que en una primera instancia, la función f, g y h valdrán 0.\n",
        "\n",
        "En el construtor de esta clase pasamos como parámetro la casilla y además podríamos pasarle el padre si hubiese, en una primera instancia al tener un solo nodo estado no tendríamos padre, por lo que por defecto no tomará ningún valor. \n",
        "\n",
        "```Python\n",
        "class Estado():\n",
        "  def __init__(self, casilla: Casilla, padre = None):\n",
        "        self.casilla = casilla\n",
        "        self.f = self.g = self.h = 0\n",
        "        self.parent = padre\n",
        "```\n",
        "\n",
        "Dentro de esta clase también he creado distitos getters y setters para los distintos atributos de la clase. Además de estas funciones una de las funciones que más importantes que debemos implementar para que funcione correctamente el programa es el método equals de Python, lo hacemos de la siguiente manera:\n",
        "\n",
        "```Python\n",
        "#Clase Estado\n",
        "def __eq__(self, other):\n",
        "      return self.casilla == other.casilla\n",
        "\n",
        "#Clase Casilla\n",
        "def __eq__ (self, other):\n",
        "      return self.fila == other.fila and self.col == other.col\n",
        "```\n",
        "En el método equals de la clase Estado llamamos al método equals de la clase Casilla, por lo que, dos nodos serán iguales si sus filas y columnas coinciden.\n",
        "\n",
        "## **Algoritmo**\n",
        "\n",
        "Además de la clase Estado, también he creado un fichero llamado algoritmo, aquí tendremos toda la lógica de la función aEstrella que se llama en el fichero main.\n",
        "\n",
        "En la función aEstrella tendremos que crear dos listas, la **lista frontera** y la **lista interior**, además de crear los estados correspondientes al origen y destino. El estadoOrigen o estadoInicial se añade a la **lista frontera**.\n",
        "```Python\n",
        "listaFrontera = []\n",
        "listaInterior = []\n",
        "estadoInicial = Estado(origen)\n",
        "estadoFinal = Estado(destino)\n",
        "\n",
        "#Añadimos el estado a la lista frontera\n",
        "listaFrontera.append(estadoInicial)\n",
        "```\n",
        "\n",
        "Ahora entramos en el bucle while, este iterará mientras el tamaño de la lista frontera sea mayor a 0, o hasta que lleguemos a la meta. Justo al entrar al bucle while tendremos que buscar el **mejor estado** dentro de la **lista frontera**.\n",
        "\n",
        "```Python\n",
        "#Itera mientras haya nodos en la lista\n",
        "while len(listaFrontera) > 0:\n",
        "      n = mejorEstado(listaFrontera)\n",
        "```\n",
        "\n",
        "Buscamos el mejor estado respecto a la función f, es decir, el que tenga menor f:\n",
        "```Python\n",
        "def mejorEstado(listaFrontera):\n",
        "    pos = 0\n",
        "\n",
        "    for i in range(1, len(listaFrontera)):\n",
        "        if listaFrontera[i].getF() < listaFrontera[pos].getF():\n",
        "            pos = i\n",
        "    return listaFrontera[pos]\n",
        "```\n",
        "\n",
        "Ahora si hemos llegado al estado meta ya hemos terminado, almacenamos el coste y reconstruimos el camino, para ello vamos mirando que el mejor nodo tenga padre y vamos actualizando, cuando ya no tenga hemos terminado.\n",
        "\n",
        "```Python\n",
        "if n == estadoFinal:\n",
        "      res = n.getF()\n",
        "      caminoReconstruido(n, camino)\n",
        "      return res\n",
        "\n",
        "#Función de reconstruir el camino\n",
        "def caminoReconstruido(n, camino):\n",
        "      while n.getPadre() is not None:\n",
        "          camino[n.getCasilla().getFila()][n.getCasilla().getCol()] = 'X'\n",
        "          n = n.getPadre()\n",
        "```\n",
        "\n",
        "Si no hemos encontrado la meta, entonces el mejor nodo lo añadimos a la **lista interior** porque ya lo hemos visitado y lo borramos de la **lista frontera** porque ya lo hemos evaluado.\n",
        "\n",
        "```Python\n",
        "else:\n",
        "      listaInterior.append(n)\n",
        "      listaFrontera.remove(n)\n",
        "```\n",
        "\n",
        "Tras esto tenemos que mirar a que posiciones validas podemos movernos, vamos a definir a una posición valida como una posición que en el mapa contenga el carácter '.', en el código se hace de otra manera ya que en la posiciones válidas se pone un 0, por ello comparamos cada posición adyacente con 0, además de esa primera condición también tenemos que comprobar que dicha posición es distinta de la del mejor nodo. En la siguiente imagen se puede apreciar que celdas son las válidas ('.'), el origen ('O') y las celdas de bloque del laberinto ('#').\n",
        "\n",
        "<img src= \"https://drive.google.com/uc?export=view&id=18JQO6qMs-5o_pZz15oaheA301AkK6DGS\" height=\"400\"  width=\"400\">\n",
        "\n",
        "\n",
        "Para sacar las posiciones correctas hemos diseñado la siguiente función:\n",
        "```Python\n",
        "def vecinosAdyacentes(mapa, n):\n",
        "      adyacentes = []\n",
        "      #Posicion del nodo actual\n",
        "      x = n.getCasilla().getFila()\n",
        "      y = n.getCasilla().getCol()\n",
        "\n",
        "      #Recorremos los vecinos y miramos si son correctos, y se añade a la lista\n",
        "      for i in range(x-1, x+2):\n",
        "          for j in range(y-1, y+2):\n",
        "              if mapa.getCelda(i,j) == 0 and not (i == x and j == y):\n",
        "                  pos = Casilla(i, j)\n",
        "                  adyacentes.append(Estado(pos))\n",
        "      return adyacentes\n",
        "```\n",
        "\n",
        "Una vez que tenemos esta función implementada, ahora iteramos sobre dicha lista de posiciones adyacentes y realizamos una evaluación sobre estos nodos adyacentes.\n",
        "```Python\n",
        "for m in vecinosAdyacentes(mapi, n):\n",
        "      if m not in listaInterior:\n",
        "          #Calculamos el coste\n",
        "          g_m = n.getG() + costeDesplazamiento(n, m)\n",
        "          \n",
        "```\n",
        "\n",
        "Lo primero que hacemos en comprobar si el nodo vecino se encuentra en la **lista interior**, si ya se encuentra pasamos al siguiente, en caso de que no se encuentre tenemos que calcular la función g de dicho nodo, esto se calcula sumando la g actual del mejor nodo más el coste de desplazarse desde el mejor nodo hasta su vecino, para calcular el coste lo hacemos de una manera bastante intuitiva, en nuestro caso tan solo podemos desplazarnos en 8 posiciones, por ello podemos dos posibles movimientos, o en diagonal o en una dirección. En la siguiente imagen se puede apreciar todos los posibles movimientos desde una celda.\n",
        "\n",
        "<img src= \"https://drive.google.com/uc?export=view&id=1P9moL8SbFIl2T0-Zc_VlW6x1MCJSTUvs\">\n",
        "\n",
        "Para ello, lo primero que hacemos es sacar el valor absoluto de restar la fila del nodo vecino menos la fila del mejor nodo, y hacemos lo mismo con la columna, una vez tenemos ambos valores tenemos que sumarlos. Ahora tenemos dos casos, si dicha suma nos da como resultado 1 entonces se trata de un movimiento en una dirección por lo que su coste será 0, por otro lado si nos da como resultado es 2, entonces el coste será 1.5 al ser un movimiento en diagonal.\n",
        "\n",
        "\n",
        "FOTO MOVIMIENTOS SEÑALANDO LAS DIFERENCIAS\n",
        "\n",
        "\n",
        "La función que calcula el coste es la siguiente:\n",
        "```Python\n",
        "def costeDesplazamiento(n, m):\n",
        "    res = abs(n.getCasilla().getFila() - m.getCasilla().getFila()) + \\\n",
        "        abs(n.getCasilla().getCol() - m.getCasilla().getCol())\n",
        "    \n",
        "    if res == 1:\n",
        "        return 1\n",
        "    else:\n",
        "        return 1.5\n",
        "```\n",
        "\n",
        "Una vez hemos calculado la g del nodo vecino, miramos si el nodo está en la lista **frontera o no**, aquí nos surgen dos casos.\n",
        "\n",
        "El caso más sencillo es si no está, esto quiere decir que nunca hemos intentado expandir por ese nodo, en este caso lo que tenemos que hacer es calcular para el nodo vecino las funciones f, g, h, asignarle como padre al mejor nodo, tras esto lo añadimos a la **lista frontera**.\n",
        "\n",
        "```Python\n",
        "if m not in listaFrontera:\n",
        "        m.setG(g_m)\n",
        "        m.setH(euclideaHeuristic(n, estadoFinal))\n",
        "        m.setF(m.getG() + m.getH())\n",
        "        m.setPadre(n)\n",
        "        listaFrontera.append(m)\n",
        "```\n",
        "\n",
        "El otro caso es si el nodo vecino ya está en la **lista frontera**, si ya se encuentra lo que tenemos que comprobar si la g que hemos calculado para el nodo vecino es mejor que la g que tiene ese mismo nodo, si esto se cumple tenemos que recalcular las funciones y cambiar el padre del nodo vecino.\n",
        "```Python\n",
        "elif g_m < m.getG():\n",
        "        m.setG(g_m)\n",
        "        m.setH(0)\n",
        "        m.setF(m.getG() + m.getH())\n",
        "        m.setPadre(n)\n",
        "```\n",
        "\n",
        "Finalmente, si no hemos encontrado ningún camino entre el nodo origen y el destino, devolveremos como coste -1.\n",
        "\n"
      ]
    },
    {
      "cell_type": "markdown",
      "metadata": {
        "id": "1dFnUgBRmLJ_"
      },
      "source": [
        "# **Traza de un caso acotado**\n"
      ]
    },
    {
      "cell_type": "markdown",
      "metadata": {
        "id": "FsX-4xenavxd"
      },
      "source": [
        "\n",
        "Este es el mapa sobre el cual realizaremos la traza, este coincide con el fichero mapa_traza.txt que se encuentra en la carpeta mundos.\n",
        "\n",
        "<img src= \"https://drive.google.com/uc?export=view&id=1GqhB5iv980mowhjl3-XZ40dp9WOMF-1f\">\n",
        "\n",
        "El fichero de texto asociado al mapa es el siguiente.\n",
        "\n",
        "<img src= \"https://drive.google.com/uc?export=view&id=1rHmpxsUsozNj3iQR6oyQuvMGzD0YPODT\">\n",
        "\n",
        "El objetivo es ir desde el origen hasta la celda que se encuentra 3 posiciones a la derecha. Como función heurística de este problema usaremos la **distancia de Manhattan**.\n",
        "Antes que nada, tendremos nuestras dos listas para resolver este problema, la lista interior y la frontera, en cada iteración indicaremos que nodos/estados tiene.\n",
        "\n",
        "Antes de entrar en el bucle while el nodo origen se añade a la lista frontera."
      ]
    },
    {
      "cell_type": "markdown",
      "metadata": {
        "id": "gKC5dw7hYqrf"
      },
      "source": [
        "## **Iteración 1**\n",
        "En la primera iteración al tener un solo elemento en la lista frontera, elegiremos ese como el mejor nodo.\n",
        "\n",
        "La lista frontera parte con estos elementos:\n",
        "\n",
        "(1, 1)[f: 0, g: 0, h: 0]\n",
        "\n",
        "La lista interior por su parte no tendría ningún elemento.\n",
        "\n",
        "Ahora miramos si hemos llegado a la meta, vemos que no, por lo que tendremos que eliminar el mejor nodo de la frontera y añadirlo a la lista interior, ahora procedemos a  mirar los vecinos válidos.\n",
        "\n",
        "Si nos fijamos en la imagen, los vecinos válidos serían el que está a su derecha y el que está en diagonal abajo, estos se añaden a la lista frontera.\n",
        "\n",
        "<img src= \"https://drive.google.com/uc?export=view&id=18bLtv4nBKhumHmrIAEsAUTOjMNuP1ke6\">\n",
        "\n",
        "\n",
        ">Vecino derecha\n",
        "\n",
        "El vecino que está a la derecha tiene como g_m = 0 + 1.\n",
        "\n",
        "Para calcular la h tenemos que saber donde está el destino, este está en la fila 1, y columna 4.\n",
        "\n",
        "Calculamos la h empleando la formula de la distancia de Manhattan.\n",
        "\n",
        " h = abs(1 - 1) + abs(4-2) = 2\n",
        "\n",
        "Su f será 1 + 2 = 3\n",
        "\n",
        "> Vecino diagonal abajo \n",
        "\n",
        "El vecino que está en diagonal abajo tiene como g_m = 0 + 1.5.\n",
        "\n",
        "Calculamos su h, está será:\n",
        "\n",
        "h = abs(1-2) + abs(4-2) = 3\n",
        "\n",
        "Su f será 1.5 + 3 = 4.5.\n",
        "\n",
        "\n",
        "Ahora pasamos a la siguiente iteración."
      ]
    },
    {
      "cell_type": "markdown",
      "metadata": {
        "id": "ggYfg2StaxAF"
      },
      "source": [
        "## **Iteración 2**\n",
        "En la segunda iteración ya contamos con varios elementos en la lista fronteta, tendremos que decidir por donde expandir.\n",
        "\n",
        "La **lista frontera** contiene estos elementos:\n",
        "\n",
        "(1, 2)[f: 3, g: 1, h: 2]\n",
        "\n",
        "(2, 2)[f: 4.5, g: 1.5, h: 3]\n",
        "\n",
        "La **lista interior** contiene estos elementos:\n",
        "\n",
        "(1, 1)[f: 0, g: 0, h: 0]\n",
        "\n",
        "Vemos que el mejor nodo de la fronterá sería el nodo (1,2), ya que su f es 3, por lo que elegimos ese como mejor nodo, este tampoco es meta. Repetimos los pasos de la iteración anterior.\n",
        "\n",
        "Nos fijamos en la imagen para ver los vecinos válidos:\n",
        "\n",
        "<img src= \"https://drive.google.com/uc?export=view&id=1PtVZgbQI3Et5MMv0JtbvHJB1DYBrSCW2\">\n",
        "\n",
        "\n",
        "Vemos que sólo puede añadir como vecino válido el que está abajo de él. Como este nodo vecino ya se encuentra en la lista frontera, tenemos que ver si tenemos mejor coste yendo por el camino de derecha, y luego abajo.\n",
        "\n",
        "> Vecino abajo\n",
        "\n",
        "g_m = 1 + 1 = 2\n",
        "\n",
        "m.g = 1\n",
        "\n",
        "Vemos que en este caso no cambiaríamos nada de la lista frontera, debido a que es más eficaz ir en diagonal que a la derecha y luego abajo. \n"
      ]
    },
    {
      "cell_type": "markdown",
      "metadata": {
        "id": "Rns_aQGQd5bf"
      },
      "source": [
        "## **Iteración 3**\n",
        "En esta iteración, la **lista frontera** contiene estos elementos:\n",
        "\n",
        "(2, 2)[f: 4.5, g: 1.5, h: 3]\n",
        "\n",
        "Mientras que la **lista interior** contiene estos:\n",
        "\n",
        "(1, 1)[f: 0, g: 0, h: 0]\n",
        "\n",
        "(1, 2)[f: 3, g: 1, h: 2]\n",
        "\n",
        "\n",
        "Vemos que la **lista frontera** sólo tiene un elemento por lo que ese será nuestro mejor nodo.\n",
        "Comprobamos si es meta, vemos que no lo es, por lo que expandimos a sus hijos. Nos fijamos en la imagen para ver que posiciones serían las válidas:\n",
        "\n",
        "<img src= \"https://drive.google.com/uc?export=view&id=1PMuqqBP3qf-kArJJEy1A8myiybjO5MxH\">\n",
        "\n",
        "\n",
        "Vemos que tenemos dos posiciones válidas, en diagonal abajo izquierda y en diagonal abajo derecha, ambos vecinos se añaden a la lista frontera porque no estaban con anterioridad.\n",
        "\n",
        "> Vecino abajo izquierda\n",
        "g_m = 1.5 + 1.5 = 3\n",
        "\n",
        "h = abs(1 - 3) + (4-1) = 5\n",
        "\n",
        "f = 3 + 5 = 8\n",
        "\n",
        "> Vecino abajo derecha\n",
        "g_m = 1.5 + 1.5 = 3\n",
        "\n",
        "h = abs(1-3) + abs(4-3) = 3\n",
        "\n",
        "f = 3 + 3 = 6\n",
        "\n",
        "Ambos nodos se añaden a la **lista interior**."
      ]
    },
    {
      "cell_type": "markdown",
      "metadata": {
        "id": "-YlRgzwkd5nt"
      },
      "source": [
        "##**Iteración 4**\n",
        "\n",
        "En esta iteración, la **lista frontera** contiene estos elementos:\n",
        "\n",
        "(3, 1)[f: 8.0, g: 3.0, h: 5]\n",
        "\n",
        "(3, 3)[f: 6.0, g: 3.0, h: 3]\n",
        "\n",
        "\n",
        "Mientras que la **lista interior** contiene estos:\n",
        "\n",
        "(1, 1)[f: 0, g: 0, h: 0]\n",
        "\n",
        "(1, 2)[f: 3, g: 1, h: 2]\n",
        "\n",
        "(2, 2)[f: 4.5, g: 1.5, h: 3]\n",
        "\n",
        "Vemos que el nodo que menos f tiene es el nodo (3, 3), este es el nodo de desplazarnos en diagonal abajo derecha. Al igual que antes miramos la imagen para ver que vecinos serían válidos.\n",
        "\n",
        "<img src= \"https://drive.google.com/uc?export=view&id=1HIj55U1n_R2LKzow9MDBs0BXvmYLV4f0\">\n",
        "\n",
        "\n",
        "Vemos que tendríamos 3 posibles vecinos, desde donde venimos, a la derecha y en diagonal derecha arriba. De antemano vamos a descartar desde donde venimos ya que dicho nodo ya está en la **lista interior**. Ahora nos quedan dos posibles vecinos.\n",
        "\n",
        "> Vecino derecha\n",
        "\n",
        "g_m = 3 + 1 = 4\n",
        "\n",
        "h = abs(1-3) + abs(4-4) = 2\n",
        "\n",
        "f = 4 +  2 = 6\n",
        "\n",
        "> Vecino diagonal arriba\n",
        "\n",
        "g_m = 3 + 1.5 = 4.5\n",
        "\n",
        "h = abs(2-1) + abs(4-4) = 1\n",
        "\n",
        "f = 4.5 + 1 = 5.5\n",
        "\n",
        "Ambos nodos se añaden a la **lista interior**.\n",
        "\n",
        "\n",
        "\n"
      ]
    },
    {
      "cell_type": "markdown",
      "metadata": {
        "id": "1gw5VUaqd5wZ"
      },
      "source": [
        "## **Iteración 5**\n",
        "En esta iteración, la **lista frontera** contiene estos elementos:\n",
        "\n",
        "(3, 1)[f: 8.0, g: 3.0, h: 5]\n",
        "\n",
        "(2, 4)[f: 5.5, g: 4.5, h: 1]\n",
        "\n",
        "(3, 4)[f: 6.0, g: 4.0, h: 2]\n",
        "\n",
        "\n",
        "Mientras que la **lista interior** contiene estos:\n",
        "\n",
        "(1, 1)[f: 0, g: 0, h: 0]\n",
        "\n",
        "(1, 2)[f: 3, g: 1, h: 2]\n",
        "\n",
        "(2, 2)[f: 4.5, g: 1.5, h: 3]\n",
        "\n",
        "(3, 3)[f: 6.0, g: 3.0, h: 3]\n",
        "\n",
        "Cogemos como mejor nodo el (2,4), que es que está en diagonal arriba, como no es meta tenemos que explorar sobre sus vecinos. Si nos fijamos en la imagen vemos que podemos ir hacia arriba o hacia abajo:\n",
        "\n",
        "<img src= \"https://drive.google.com/uc?export=view&id=1aHxbXMdRD95gxxKwymnT5lQfUaROpJ0d\">\n",
        "\n",
        "\n",
        "Sus dos vecinos validos son:\n",
        "\n",
        "> Vecino arriba\n",
        "g_m = 4.5 + 1 = 5.5\n",
        "\n",
        "h = abs(1-1) + abs(4-4) = 0\n",
        "\n",
        "f = 5.5 + 0 = 5.5\n",
        "\n",
        "> Vecino abajo\n",
        "\n",
        "En este caso hay que ver si el coste de bajar hacia abajo es menor de la g del propio nodo.\n",
        "g_m = 4.5 + 1 = 5.5\n",
        "\n",
        "m.g = 4\n",
        "\n",
        "Vemos que g_m no es menor que m.g por lo que no actualizamos nada.\n",
        "\n",
        "Añadimos el nodo a la **lista frontera**.\n"
      ]
    },
    {
      "cell_type": "markdown",
      "metadata": {
        "id": "11gvgCfWgxh7"
      },
      "source": [
        "##**Iteración 6**\n",
        "\n",
        "En esta iteración, la **lista frontera** contiene estos elementos:\n",
        "\n",
        "(3, 1)[f: 8.0, g: 3.0, h: 5]\n",
        "\n",
        "(3, 4)[f: 6.0, g: 4.0, h: 2]\n",
        "\n",
        "(1, 4)[f: 5.5, g: 5.5, h: 0]\n",
        "\n",
        "Mientras que la **lista interior** contiene estos:\n",
        "\n",
        "(1, 1)[f: 0, g: 0, h: 0]\n",
        "\n",
        "(1, 2)[f: 3, g: 1, h: 2]\n",
        "\n",
        "(2, 2)[f: 4.5, g: 1.5, h: 3]\n",
        "\n",
        "(3, 3)[f: 6.0, g: 3.0, h: 3]\n",
        "\n",
        "(2, 4)[f: 5.5, g: 4.5, h: 1]\n",
        "\n",
        "Vemos que el mejor nodo es el (1, 4) con coste 5.5, vemos que este coincide con el nodo meta, por lo que ya hemos terminado.\n",
        "\n",
        "El camino resultante se quedaría así:\n",
        "\n",
        "<img src= \"https://drive.google.com/uc?export=view&id=1LeF5HzWUl0Ty5GeNpwiQNeOhPIh9GGa1\">\n"
      ]
    },
    {
      "cell_type": "markdown",
      "metadata": {
        "id": "TVX9n9d5eFHk"
      },
      "source": [
        "# **Heurísticas**\n"
      ]
    },
    {
      "cell_type": "markdown",
      "metadata": {
        "id": "5DDzALTOScLt"
      },
      "source": [
        "Como se ha hablado con anterioridad, una función heurística se define como una estimación que hacemos en base a un conocimiento que conocemos y otros que desconocemos. El principal objetivo de la función heurística es acelar la búsqueda del algoritmo, ya que si se elige una buena función heurística hará que expandamos menos nodos.\n"
      ]
    },
    {
      "cell_type": "markdown",
      "metadata": {
        "id": "utwijIjKSfY-"
      },
      "source": [
        "## **Heurística Básica**\n",
        "Este caso es el más sencillo a la hora de implementar, ya que como tal no es ninguna heurística por lo que no dotamos con el juicio de valor que proporciona una heurística. Un problema que supone el uso de esta heurística es que expandiremos muchos más nodos ya que no descartaremos nodos al no tener una inteligencia en nuestro algoritmo, se podría dar el caso que esta heurística de como resultado una complejidad prohibitiva a medida que aunmente el tamaño del problema.\n",
        "> h = 0"
      ]
    },
    {
      "cell_type": "markdown",
      "metadata": {
        "id": "r3eIDQp_SnyM"
      },
      "source": [
        "## **Distancia de Manhattan**\n",
        "La distancia de Manhttan es una heurística que normalmente se emplea en entornos que permitan el movimiento en las cuatros direcciones, u ocho si consideramos el movimiento diagonal. Un problema de esta heurística es que no es admisible debido a que en ciertos mapas no da la solución correcta.\n",
        "\n",
        "> h = | x2 - x1 | + | y2 - y1|"
      ]
    },
    {
      "cell_type": "markdown",
      "metadata": {
        "id": "IcRDCK9XSnGs"
      },
      "source": [
        "\n",
        "## **Distancia Euclidea**\n",
        "La distancia Euclidea, o también llamada distancia ordinaria, ya que cuando se habla de distancia entre dos puntos se están refiriendo a la distancia Euclidea, por lo que al ser un concepto que tenemos interiorizado, esta se define como la distancia en línea recta entre dos puntos.\n",
        "\n",
        "La distancia Euclidea viene determinada por la siguiente fórmula:\n",
        "> h =  sqrt((x2 - x1)^2 + (y2 - y1)^2)"
      ]
    },
    {
      "cell_type": "markdown",
      "metadata": {
        "id": "ytLSVHSnSwmm"
      },
      "source": [
        "## **Distancia de Chebyshev**\n",
        "La distancia de Chebyshev se define como la mayor distancia en unos de los dos ejes. Debido a su naturaleza, a esta distancia también se la conoce como la distancia del tablero del ajedrez, ya que esta distancia es igual al número mínimo de movimientos que necesita un rey para ir de una casilla a otra. Viene definida por la siguiente fórmula\n",
        "\n",
        "> h = max( | x2 - x1 |, | y2 - y1 |)\n",
        "\n",
        "Una posible problematica de esta distancia es que su uso es muy acotado, esto hará que su uso no sea tan extendido como otras distancias, como puede ser la distancia Euclidea, mencioanda anteriomente.\n",
        "\n",
        "Como se ha mencionado, esta distancia se puede usar para calcular el número de movimientos mínimo en un tablero de ajedrez, por lo que puede ser útil usarlo en problemas que permitan el movimiento en 8 direcciones."
      ]
    },
    {
      "cell_type": "markdown",
      "metadata": {
        "id": "krT44B26SV_m"
      },
      "source": [
        "\n",
        "\n",
        "\n",
        "\n",
        "\n",
        "\n",
        "\n",
        "\n",
        "## **Heurística Admisible**\n",
        "Como hemos mencionado con anterioridad una heurística es **admisible** si nunca sobreestima el coste de llegar desde el estado inicial al final. Si la función que se emplea no es **admisible**, puede que el algoritmo si que llegue a encontrar el camino pero puede que no sea el camino óptimo.\n",
        "\n",
        "Por lo que, la función heurística debería de cumplir:\n",
        "\n",
        "> h(n) <= h*(n)\n",
        "\n",
        "Donde h*(n) es el coste mínimo real de la celda n hasta la meta. Si la función que empleemos es distinta de la función real la heurística ya tiene un mayor coste al mínimo real y podríamos considerar que no se trata de una función heurística admisible.\n"
      ]
    },
    {
      "cell_type": "markdown",
      "metadata": {
        "id": "_GQNZtE7oVPM"
      },
      "source": [
        "# **Análisis**"
      ]
    },
    {
      "cell_type": "markdown",
      "metadata": {
        "id": "f9d7xp0KtX39"
      },
      "source": [
        "Antes de realizar las distintas comparativas entre las heurísticas que hemos explicado en el apartado anterior, se ha decidido crear nuevos mapas a parte de los que se nos proporcionan, para comparar las heurísticas de una manera más eficiente, se han diseñado los siguientes mapas.\n",
        "\n",
        "En primer lugar tenemos el siguiente mapa, así como algo diferenciador, aquí las celdas navegables son de \"doble anchura\":\n",
        "\n",
        "<img src= \"https://drive.google.com/uc?export=view&id=1dPGYEo4uEBwZi6HpRjIKp-Hn0ekdnlyh\"  width=\"500\" height=\"500\">\n",
        "---\n",
        "\n",
        "El segundo mapa que se ha diseñado es el siguiente, este sigue el patrón de los que se proporcionan en la práctica:\n",
        "\n",
        "<img src= \"https://drive.google.com/uc?export=view&id=1NLRyBNYRODs2BVp5V9Oo-Pa-81V1B-1N\"  width=\"500\" height=\"500\">\n",
        "\n"
      ]
    },
    {
      "cell_type": "markdown",
      "metadata": {
        "id": "JwTBjDX19tnC"
      },
      "source": [
        "## **Nodos Expandidos**\n",
        "En primer lugar vamos a relizar una comparación en cuanto a nodos expandidos a medida que aumenta la longitud o coste del camino."
      ]
    },
    {
      "cell_type": "code",
      "metadata": {
        "id": "bGWkGKr-oc99"
      },
      "source": [
        "import matplotlib.pyplot as plt\n",
        "import random\n",
        "\n",
        "#Mapa 1\n",
        "#Heuristica 0\n",
        "x = [2.5, 4, 6, 7.5, 9.5, 10, 13, 14.5]\n",
        "y = [4, 12, 24, 35, 61, 66, 102, 108]\n",
        "\n",
        "#Manhattan\n",
        "xM = [2.5, 4, 6, 7.5, 9.5, 10, 13, 14.5]\n",
        "yM = [2, 3, 5, 6, 10, 13, 10, 11]\n",
        "\n",
        "#Euclidea\n",
        "xE = [2.5, 4, 6, 7.5, 9.5, 10, 13, 14.5]\n",
        "yE = [2, 4, 7, 12, 17, 18, 16, 17]\n",
        "\n",
        "#Chebychev\n",
        "xC = [2.5, 4, 6, 7.5, 9.5, 10, 13, 14.5]\n",
        "yC = [2, 5, 8, 9, 15, 18, 27, 34]\n",
        "\n",
        "#Grafica\n",
        "figura, ax = plt.subplots()\n",
        "plt.title('Mapa 1')\n",
        "\n",
        "ax.plot(x, y, '-xr', label = \"Heuristica 0\")\n",
        "ax.plot(xM, yM, '-xb', label = \"Heuristica Manhattan\")\n",
        "ax.plot(xE, yE, '-xg', label = \"Heuristica Euclidea\")\n",
        "ax.plot(xC, yC, '-xy', label = \"Heuristica Chebyshev\")\n",
        "\n",
        "#Pone título a los ejes y mostramos la leyenda\n",
        "plt.xlabel('Coste del camino')\n",
        "plt.ylabel('Nodos expandidos')\n",
        "ax.legend()\n",
        "\n",
        "#Mostrar\n",
        "plt.show()"
      ],
      "execution_count": null,
      "outputs": []
    },
    {
      "cell_type": "code",
      "metadata": {
        "id": "6p6YlMyByvsp"
      },
      "source": [
        "import matplotlib.pyplot as plt\n",
        "import random\n",
        "\n",
        "#Mapa 2\n",
        "#Heuristica 0\n",
        "x = [2, 3, 4, 4.5, 5, 6.5, 7]\n",
        "y = [7, 15, 21, 24, 26, 23, 20]\n",
        "\n",
        "#Manhattan\n",
        "xM = [2, 3, 4, 4.5, 5, 6.5, 7]\n",
        "yM = [2, 3, 4, 4, 5, 5, 6]\n",
        "\n",
        "#Euclidea\n",
        "xE = [2, 3, 4, 4.5, 5, 6.5, 7]\n",
        "yE = [2, 3, 4, 4.5, 5, 6.5, 7]\n",
        "\n",
        "#Chebychev\n",
        "xC = [2, 3, 4, 4.5, 5, 6.5, 7]\n",
        "yC = [2, 3, 4, 5, 5, 8, 14]\n",
        "\n",
        "#Grafica\n",
        "figura, ax = plt.subplots()\n",
        "plt.title('Mapa 2')\n",
        "\n",
        "ax.plot(x, y, '-xr', label = \"Heuristica 0\")\n",
        "ax.plot(xM, yM, '-xb', label = \"Heuristica Manhattan\")\n",
        "ax.plot(xE, yE, '-xg', label = \"Heuristica Euclidea\")\n",
        "ax.plot(xC, yC, '-xy', label = \"Heuristica Chebyshev\")\n",
        "\n",
        "#Pone título a los ejes\n",
        "plt.xlabel('Coste del camino')\n",
        "plt.ylabel('Nodos expandidos')\n",
        "ax.legend()\n",
        "\n",
        "#Mostrar\n",
        "plt.show()"
      ],
      "execution_count": null,
      "outputs": []
    },
    {
      "cell_type": "code",
      "metadata": {
        "id": "ro2vySOR3EUg"
      },
      "source": [
        "import matplotlib.pyplot as plt\n",
        "import random\n",
        "\n",
        "#Mapa 3\n",
        "#Heuristica 0\n",
        "x = [2, 3.5, 5, 7, 9, 10.5]\n",
        "y = [5, 13, 22, 26, 24, 26]\n",
        "\n",
        "#Manhattan\n",
        "xM = [2, 3.5, 5, 7, 9, 10.5]\n",
        "yM = [2, 3, 4, 6, 8, 13]\n",
        "\n",
        "#Euclidea\n",
        "xE = [2, 3.5, 5, 7, 9, 10.5]\n",
        "yE = [2, 3, 7, 8, 11, 15]\n",
        "\n",
        "#Chebychev\n",
        "xC = [2, 3.5, 5, 7, 9, 10.5]\n",
        "yC = [2, 4, 7, 8, 13, 17]\n",
        "\n",
        "#Grafica\n",
        "figura, ax = plt.subplots()\n",
        "plt.title('Mapa 3')\n",
        "\n",
        "ax.plot(x, y, '-xr', label = \"Heuristica 0\")\n",
        "ax.plot(xM, yM, '-xb', label = \"Heuristica Manhattan\")\n",
        "ax.plot(xE, yE, '-xg', label = \"Heuristica Euclidea\")\n",
        "ax.plot(xC, yC, '-xy', label = \"Heuristica Chebyshev\")\n",
        "\n",
        "#Pone título a los ejes\n",
        "plt.xlabel('Coste del camino')\n",
        "plt.ylabel('Nodos expandidos')\n",
        "ax.legend()\n",
        "\n",
        "#Mostrar\n",
        "plt.show()"
      ],
      "execution_count": null,
      "outputs": []
    },
    {
      "cell_type": "code",
      "metadata": {
        "id": "3fufJZsw5QMi"
      },
      "source": [
        "import matplotlib.pyplot as plt\n",
        "import random\n",
        "\n",
        "#Mapa Custom 1\n",
        "#Heuristica 0\n",
        "x = [8.5, 15, 25, 36, 50, 62, 75, 84]\n",
        "y = [19, 32, 85, 122, 236, 289, 335, 355]\n",
        "\n",
        "#Manhattan\n",
        "xM = [8.5, 15, 25, 36, 50, 62, 75, 84]\n",
        "yM = [8, 19, 40, 80, 117, 139, 230, 267]\n",
        "\n",
        "#Euclidea\n",
        "xE = [8.5, 15, 25, 36, 50, 62, 75, 84]\n",
        "yE = [15, 22, 45, 95, 133, 185, 278, 318]\n",
        "\n",
        "#Chebychev\n",
        "xC = [8.5, 15, 25, 36, 50, 62, 75, 84]\n",
        "yC = [15, 23, 51, 108, 141, 201, 287, 330]\n",
        "\n",
        "#Grafica\n",
        "figura, ax = plt.subplots()\n",
        "plt.title('Mapa Custom 1')\n",
        "\n",
        "ax.plot(x, y, '-xr', label = \"Heuristica 0\")\n",
        "ax.plot(xM, yM, '-xb', label = \"Heuristica Manhattan\")\n",
        "ax.plot(xE, yE, '-xg', label = \"Heuristica Euclidea\")\n",
        "ax.plot(xC, yC, '-xy', label = \"Heuristica Chebyshev\")\n",
        "\n",
        "#Pone título a los ejes\n",
        "plt.xlabel('Coste del camino')\n",
        "plt.ylabel('Nodos expandidos')\n",
        "ax.legend()\n",
        "\n",
        "#Mostrar\n",
        "plt.show()"
      ],
      "execution_count": null,
      "outputs": []
    },
    {
      "cell_type": "code",
      "metadata": {
        "id": "k7jjO0jXDqRt"
      },
      "source": [
        "import matplotlib.pyplot as plt\n",
        "import random\n",
        "\n",
        "#Mapa Custom 2\n",
        "#Heuristica 0\n",
        "x = [13.5, 20, 33, 47, 60.5, 73, 89]\n",
        "y = [60, 113, 176, 268, 305, 349, 388]\n",
        "\n",
        "#Manhattan\n",
        "xM = [13.5, 20, 33, 47, 60.5, 73, 89]\n",
        "yM = [14, 21, 48, 157, 245, 268, 371]\n",
        "\n",
        "#Euclidea\n",
        "xE = [13.5, 20, 33, 47, 60.5, 73, 89]\n",
        "yE = [20, 30, 111, 199, 249, 289, 379]\n",
        "\n",
        "#Chebychev\n",
        "xC = [13.5, 20, 33, 47, 60.5, 73, 89]\n",
        "yC = [22, 32, 130, 212, 258, 305, 379]\n",
        "\n",
        "#Grafica\n",
        "figura, ax = plt.subplots()\n",
        "plt.title('Mapa Custom 2')\n",
        "\n",
        "ax.plot(x, y, '-xr', label = \"Heuristica 0\")\n",
        "ax.plot(xM, yM, '-xb', label = \"Heuristica Manhattan\")\n",
        "ax.plot(xE, yE, '-xg', label = \"Heuristica Euclidea\")\n",
        "ax.plot(xC, yC, '-xy', label = \"Heuristica Chebyshev\")\n",
        "\n",
        "#Pone título a los ejes\n",
        "plt.xlabel('Coste del camino')\n",
        "plt.ylabel('Nodos expandidos')\n",
        "ax.legend()\n",
        "\n",
        "#Mostrar\n",
        "plt.show()"
      ],
      "execution_count": null,
      "outputs": []
    },
    {
      "cell_type": "markdown",
      "metadata": {
        "id": "Uv6mS8uDERHN"
      },
      "source": [
        "##**Recorrido**\n",
        "Ahora vamos a comparar el camino de las distintas heurísticas, ya que dependiendo de la heurística hará uno u otro camino.\n",
        "En primer lugar vamos a tener en cuenta como camino óptimo a la heurística h = 0.\n"
      ]
    },
    {
      "cell_type": "markdown",
      "metadata": {
        "id": "GCe1NwM2O50v"
      },
      "source": [
        "### **Mapa custom 1**\n",
        "**Sin heurística**\n",
        "\n",
        "<img src= \"https://drive.google.com/uc?export=view&id=13_DIPfRoGGzWSTsWYQ4_JOX2Lgmyl862\"  width=\"500\" height=\"500\">\n",
        "\n",
        "**Distancia de Manhattan**\n",
        "\n",
        "<img src= \"https://drive.google.com/uc?export=view&id=13_DIPfRoGGzWSTsWYQ4_JOX2Lgmyl862\"  width=\"500\" height=\"500\">\n",
        "\n",
        "**Distancia de Euclides**\n",
        "\n",
        "<img src= \"https://drive.google.com/uc?export=view&id=13_DIPfRoGGzWSTsWYQ4_JOX2Lgmyl862\"  width=\"500\" height=\"500\">\n",
        "\n",
        "**Distancia de Chebyshev**\n",
        "\n",
        "<img src= \"https://drive.google.com/uc?export=view&id=13_DIPfRoGGzWSTsWYQ4_JOX2Lgmyl862\"  width=\"500\" height=\"500\">\n",
        "\n",
        "\n",
        "En este caso todos los recorridos coinciden."
      ]
    },
    {
      "cell_type": "markdown",
      "metadata": {
        "id": "PEjfEr7iRmz9"
      },
      "source": [
        "### **Mapa custom 2**\n",
        "**Sin heurística**\n",
        "\n",
        "<img src= \"https://drive.google.com/uc?export=view&id=1QU5Jwvo8J-mH4R9J0iyi6XeCgltVuWY7\"  width=\"500\" height=\"500\">\n",
        "\n",
        "**Distancia de Manhattan**\n",
        "\n",
        "<img src= \"https://drive.google.com/uc?export=view&id=1nHg-rUlteLG8htPg4xnYMZcJxGcjvO2q\"  width=\"500\" height=\"500\">\n",
        "\n",
        "**Distancia de Euclides**\n",
        "\n",
        "<img src= \"https://drive.google.com/uc?export=view&id=1nHg-rUlteLG8htPg4xnYMZcJxGcjvO2q\"  width=\"500\" height=\"500\">\n",
        "\n",
        "**Distancia de Chebyshev**\n",
        "\n",
        "<img src= \"https://drive.google.com/uc?export=view&id=1nHg-rUlteLG8htPg4xnYMZcJxGcjvO2q\"  width=\"500\" height=\"500\">\n",
        "\n",
        "Vemos que en este mapa si que cambia el recorrido, esto se debe a como exploramos los nodos vecinos y a como se aplican las distintas heurísticas."
      ]
    },
    {
      "cell_type": "markdown",
      "metadata": {
        "id": "6SexjKjHePjP"
      },
      "source": [
        "# **Conclusiones**"
      ]
    },
    {
      "cell_type": "markdown",
      "metadata": {
        "id": "c-ylxCJkO0fQ"
      },
      "source": [
        "Para concluir, podemos decir que el algoritmo A* es muy útil para evitar explorar una cantidad excesiva de nodos, obteniendo un algoritmo fácil de implementar a la vez que potente. Si usasemos un algoritmo que emplee otro esquema como Backtracking podría ser menos eficaz.\n",
        "\n",
        "Bajo mi punto de vista lo que más ha costado ha sido adaptarse al lenguaje de programación Python ya que nunca lo habíamos usado, aunque su curva de aprendizaje es bastante baja, y junto a la herramienta Google Collab es aún más potente.\n",
        "\n",
        "Algo también que me costó entender al principio fue el tema de los movimientos, porque al menos en mi caso no me habái enfrentado antes a un problema similar."
      ]
    },
    {
      "cell_type": "markdown",
      "metadata": {
        "id": "iogqpYI7Kx2R"
      },
      "source": [
        "# **Referencias**\n",
        "\n",
        "[A* (A Star) Search Algorithm - Computerphile](https://youtu.be/ySN5Wnu88nE)\n",
        "\n",
        "[A* Search](https://youtu.be/6TsL96NAZCo)\n",
        "\n",
        "\n",
        "[Introduction to the A* Algorithm\n",
        "  from Red Blob Games](https://www.redblobgames.com/pathfinding/a-star/introduction.html)\n",
        "\n",
        "[Búsqueda de caminos en los Videojuegos: Algoritmo A* (Estrella)](https://www.youtube.com/watch?v=1gszEk8rUS4)"
      ]
    }
  ]
}