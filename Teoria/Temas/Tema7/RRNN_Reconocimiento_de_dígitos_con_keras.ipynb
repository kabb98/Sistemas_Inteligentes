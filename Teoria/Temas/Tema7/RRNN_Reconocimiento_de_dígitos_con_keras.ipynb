{
  "nbformat": 4,
  "nbformat_minor": 0,
  "metadata": {
    "colab": {
      "name": "RRNN Reconocimiento de dígitos con keras.ipynb",
      "provenance": []
    },
    "kernelspec": {
      "name": "python3",
      "display_name": "Python 3"
    }
  },
  "cells": [
    {
      "cell_type": "markdown",
      "metadata": {
        "id": "pIuNl2lugIJ6"
      },
      "source": [
        "# Reconocimiento de dígitos manuscritos con Keras\n",
        "\n",
        "## Importación de la librería"
      ]
    },
    {
      "cell_type": "code",
      "metadata": {
        "id": "-i7eQZ1jGrMn"
      },
      "source": [
        "import numpy as np\n",
        "import matplotlib.pyplot as plt\n",
        "\n",
        "from keras.datasets import mnist\n",
        "from keras.models import Sequential\n",
        "from keras.layers.core import Dense, Activation\n",
        "from keras.utils import np_utils\n",
        "\n",
        "from tensorflow.keras import optimizers\n"
      ],
      "execution_count": null,
      "outputs": []
    },
    {
      "cell_type": "markdown",
      "metadata": {
        "id": "I-ijo4AhgSnT"
      },
      "source": [
        "## Descarga de la base de datos MNIST\n",
        "\n",
        "La base de datos MNIST dispone de un dataset de imágenes de dígitos manuscritos que podemos utilizar para entrenar nuestra red. Esta base de datos se encuentra como módulo dentro de la propia librería Keras. A continuación mostramos como obtener el _dataset_, que se divide en un conjunto de entrenamiento (_train_) y de validación (_test_). Para cada uno de estos conjuntos, tenemos las entradas `X` y las salidas esperadas `y`."
      ]
    },
    {
      "cell_type": "code",
      "metadata": {
        "id": "Br7by7dgG-7p",
        "colab": {
          "base_uri": "https://localhost:8080/"
        },
        "outputId": "a311e694-d253-4c65-9926-711148f78d72"
      },
      "source": [
        "nb_classes = 10\n",
        "\n",
        "(X_train, y_train), (X_test, y_test) = mnist.load_data()\n",
        "\n",
        "print(\"Dimensiones del conjunto X_train\", X_train.shape)\n",
        "print(\"Dimensiones del conjunto y_train\", y_train.shape)\n",
        "\n",
        "print(\"Dimensiones del conjunto X_train\", X_test.shape)\n",
        "print(\"Dimensiones del conjunto y_train\", y_test.shape)"
      ],
      "execution_count": null,
      "outputs": [
        {
          "output_type": "stream",
          "name": "stdout",
          "text": [
            "Downloading data from https://storage.googleapis.com/tensorflow/tf-keras-datasets/mnist.npz\n",
            "11493376/11490434 [==============================] - 0s 0us/step\n",
            "11501568/11490434 [==============================] - 0s 0us/step\n",
            "Dimensiones del conjunto X_train (60000, 28, 28)\n",
            "Dimensiones del conjunto y_train (60000,)\n",
            "Dimensiones del conjunto X_train (10000, 28, 28)\n",
            "Dimensiones del conjunto y_train (10000,)\n"
          ]
        }
      ]
    },
    {
      "cell_type": "code",
      "metadata": {
        "colab": {
          "base_uri": "https://localhost:8080/",
          "height": 1000
        },
        "id": "cR5dyvQ-cQe6",
        "outputId": "fc6f51d3-e1f8-4dff-b600-1b589cee45fe"
      },
      "source": [
        "print (X_train[0])\n",
        "plt.imshow(X_train[0], cmap='gray', interpolation='none')\n",
        "print (y_train[0])"
      ],
      "execution_count": null,
      "outputs": [
        {
          "output_type": "stream",
          "name": "stdout",
          "text": [
            "[[  0   0   0   0   0   0   0   0   0   0   0   0   0   0   0   0   0   0\n",
            "    0   0   0   0   0   0   0   0   0   0]\n",
            " [  0   0   0   0   0   0   0   0   0   0   0   0   0   0   0   0   0   0\n",
            "    0   0   0   0   0   0   0   0   0   0]\n",
            " [  0   0   0   0   0   0   0   0   0   0   0   0   0   0   0   0   0   0\n",
            "    0   0   0   0   0   0   0   0   0   0]\n",
            " [  0   0   0   0   0   0   0   0   0   0   0   0   0   0   0   0   0   0\n",
            "    0   0   0   0   0   0   0   0   0   0]\n",
            " [  0   0   0   0   0   0   0   0   0   0   0   0   0   0   0   0   0   0\n",
            "    0   0   0   0   0   0   0   0   0   0]\n",
            " [  0   0   0   0   0   0   0   0   0   0   0   0   3  18  18  18 126 136\n",
            "  175  26 166 255 247 127   0   0   0   0]\n",
            " [  0   0   0   0   0   0   0   0  30  36  94 154 170 253 253 253 253 253\n",
            "  225 172 253 242 195  64   0   0   0   0]\n",
            " [  0   0   0   0   0   0   0  49 238 253 253 253 253 253 253 253 253 251\n",
            "   93  82  82  56  39   0   0   0   0   0]\n",
            " [  0   0   0   0   0   0   0  18 219 253 253 253 253 253 198 182 247 241\n",
            "    0   0   0   0   0   0   0   0   0   0]\n",
            " [  0   0   0   0   0   0   0   0  80 156 107 253 253 205  11   0  43 154\n",
            "    0   0   0   0   0   0   0   0   0   0]\n",
            " [  0   0   0   0   0   0   0   0   0  14   1 154 253  90   0   0   0   0\n",
            "    0   0   0   0   0   0   0   0   0   0]\n",
            " [  0   0   0   0   0   0   0   0   0   0   0 139 253 190   2   0   0   0\n",
            "    0   0   0   0   0   0   0   0   0   0]\n",
            " [  0   0   0   0   0   0   0   0   0   0   0  11 190 253  70   0   0   0\n",
            "    0   0   0   0   0   0   0   0   0   0]\n",
            " [  0   0   0   0   0   0   0   0   0   0   0   0  35 241 225 160 108   1\n",
            "    0   0   0   0   0   0   0   0   0   0]\n",
            " [  0   0   0   0   0   0   0   0   0   0   0   0   0  81 240 253 253 119\n",
            "   25   0   0   0   0   0   0   0   0   0]\n",
            " [  0   0   0   0   0   0   0   0   0   0   0   0   0   0  45 186 253 253\n",
            "  150  27   0   0   0   0   0   0   0   0]\n",
            " [  0   0   0   0   0   0   0   0   0   0   0   0   0   0   0  16  93 252\n",
            "  253 187   0   0   0   0   0   0   0   0]\n",
            " [  0   0   0   0   0   0   0   0   0   0   0   0   0   0   0   0   0 249\n",
            "  253 249  64   0   0   0   0   0   0   0]\n",
            " [  0   0   0   0   0   0   0   0   0   0   0   0   0   0  46 130 183 253\n",
            "  253 207   2   0   0   0   0   0   0   0]\n",
            " [  0   0   0   0   0   0   0   0   0   0   0   0  39 148 229 253 253 253\n",
            "  250 182   0   0   0   0   0   0   0   0]\n",
            " [  0   0   0   0   0   0   0   0   0   0  24 114 221 253 253 253 253 201\n",
            "   78   0   0   0   0   0   0   0   0   0]\n",
            " [  0   0   0   0   0   0   0   0  23  66 213 253 253 253 253 198  81   2\n",
            "    0   0   0   0   0   0   0   0   0   0]\n",
            " [  0   0   0   0   0   0  18 171 219 253 253 253 253 195  80   9   0   0\n",
            "    0   0   0   0   0   0   0   0   0   0]\n",
            " [  0   0   0   0  55 172 226 253 253 253 253 244 133  11   0   0   0   0\n",
            "    0   0   0   0   0   0   0   0   0   0]\n",
            " [  0   0   0   0 136 253 253 253 212 135 132  16   0   0   0   0   0   0\n",
            "    0   0   0   0   0   0   0   0   0   0]\n",
            " [  0   0   0   0   0   0   0   0   0   0   0   0   0   0   0   0   0   0\n",
            "    0   0   0   0   0   0   0   0   0   0]\n",
            " [  0   0   0   0   0   0   0   0   0   0   0   0   0   0   0   0   0   0\n",
            "    0   0   0   0   0   0   0   0   0   0]\n",
            " [  0   0   0   0   0   0   0   0   0   0   0   0   0   0   0   0   0   0\n",
            "    0   0   0   0   0   0   0   0   0   0]]\n",
            "5\n"
          ]
        },
        {
          "output_type": "display_data",
          "data": {
            "image/png": "[encoded data removed]",
            "text/plain": [
              "<Figure size 432x288 with 1 Axes>"
            ]
          },
          "metadata": {
            "needs_background": "light"
          }
        }
      ]
    },
    {
      "cell_type": "code",
      "metadata": {
        "id": "9nYy2QDWcjNn"
      },
      "source": [
        ""
      ],
      "execution_count": null,
      "outputs": []
    },
    {
      "cell_type": "markdown",
      "metadata": {
        "id": "csPpGXguhMvt"
      },
      "source": [
        "Vemos que se dispone de $60000$ ejemplos para el entrenamiento, y de $10000$ ejemplos de validación. Cada imagen de entrada tiene $28 \\times 28$ píxeles, y las salidas esperadas se representan como enteros de $0$ a $9$. A continuación mostramos de forma gráfica los primeros $9$ ejemplos del conjunto de entranemiento:"
      ]
    },
    {
      "cell_type": "code",
      "metadata": {
        "id": "l94IFjGQHIhx",
        "colab": {
          "base_uri": "https://localhost:8080/",
          "height": 607
        },
        "outputId": "84154161-7a91-4b3e-a909-767f9a53aabd"
      },
      "source": [
        "plt.rcParams['figure.figsize'] = (10,10) \n",
        "\n",
        "for i in range(9):\n",
        "    plt.subplot(3,3,i+1)\n",
        "    plt.imshow(X_train[i], cmap='gray', interpolation='none')\n",
        "    plt.title(\"Clase {}\".format(y_train[i]))"
      ],
      "execution_count": null,
      "outputs": [
        {
          "output_type": "display_data",
          "data": {
            "image/png": "[encoded data removed]",
            "text/plain": [
              "<Figure size 720x720 with 9 Axes>"
            ]
          },
          "metadata": {
            "needs_background": "light"
          }
        }
      ]
    },
    {
      "cell_type": "markdown",
      "metadata": {
        "id": "g9ErTdqTkG1u"
      },
      "source": [
        "## Procesamiento de la base de datos de entrada\n",
        "\n",
        "Reestructuramos los datos, para que en lugar de tener los píxeles dispuestos en una matriz de $28 \\times 28$ se dispongan en una tupla de 784 componentes ($28 \\times 28 = 768$) de tipo `float` de 32-bits. Además, el valor de intensidad de los píxeles se convierte del rango $[0, 255]$ a $[0, 1]$."
      ]
    },
    {
      "cell_type": "code",
      "metadata": {
        "id": "1vx75ULhHXjw",
        "colab": {
          "base_uri": "https://localhost:8080/"
        },
        "outputId": "4c4fe2fb-5be2-434f-aa9a-c76d94d950a0"
      },
      "source": [
        "X_train = X_train.reshape(60000, 784)\n",
        "X_test = X_test.reshape(10000, 784)\n",
        "X_train = X_train.astype('float32')\n",
        "X_test = X_test.astype('float32')\n",
        "X_train /= 255\n",
        "X_test /= 255\n",
        "print(\"Dimensiones de la matriz de entrenamiento: {}\".format(X_train.shape))\n",
        "print(\"Dimensiones de la matriz de validacion: {}\".format(X_test.shape))"
      ],
      "execution_count": null,
      "outputs": [
        {
          "output_type": "stream",
          "name": "stdout",
          "text": [
            "Dimensiones de la matriz de entrenamiento: (60000, 784)\n",
            "Dimensiones de la matriz de validacion: (10000, 784)\n"
          ]
        }
      ]
    },
    {
      "cell_type": "markdown",
      "metadata": {
        "id": "l-swPymJk2fb"
      },
      "source": [
        "Las salidas esperadas se convierten a formato categórico. En lugar de tener un único entero, se representarán como una tupla de 10 elementos, donde únicamente será $1$ el elemento que corresponda al dígito del que se trate el correspondiente ejemplo de entrada."
      ]
    },
    {
      "cell_type": "code",
      "metadata": {
        "id": "cJ7M-MK1HYHF",
        "colab": {
          "base_uri": "https://localhost:8080/"
        },
        "outputId": "95b7bc27-8079-43aa-f34e-842e195ebfe1"
      },
      "source": [
        "Y_train = np_utils.to_categorical(y_train, nb_classes)\n",
        "Y_test = np_utils.to_categorical(y_test, nb_classes)\n",
        "\n",
        "for i in range(9):\n",
        "  print(\"Salida esperada del ejemplo {}: {} ({})\".format(i, Y_train[i], y_train[i]))\n"
      ],
      "execution_count": null,
      "outputs": [
        {
          "output_type": "stream",
          "name": "stdout",
          "text": [
            "Salida esperada del ejemplo 0: [0. 0. 0. 0. 0. 1. 0. 0. 0. 0.] (5)\n",
            "Salida esperada del ejemplo 1: [1. 0. 0. 0. 0. 0. 0. 0. 0. 0.] (0)\n",
            "Salida esperada del ejemplo 2: [0. 0. 0. 0. 1. 0. 0. 0. 0. 0.] (4)\n",
            "Salida esperada del ejemplo 3: [0. 1. 0. 0. 0. 0. 0. 0. 0. 0.] (1)\n",
            "Salida esperada del ejemplo 4: [0. 0. 0. 0. 0. 0. 0. 0. 0. 1.] (9)\n",
            "Salida esperada del ejemplo 5: [0. 0. 1. 0. 0. 0. 0. 0. 0. 0.] (2)\n",
            "Salida esperada del ejemplo 6: [0. 1. 0. 0. 0. 0. 0. 0. 0. 0.] (1)\n",
            "Salida esperada del ejemplo 7: [0. 0. 0. 1. 0. 0. 0. 0. 0. 0.] (3)\n",
            "Salida esperada del ejemplo 8: [0. 1. 0. 0. 0. 0. 0. 0. 0. 0.] (1)\n"
          ]
        }
      ]
    },
    {
      "cell_type": "markdown",
      "metadata": {
        "id": "mz7lFoAtlU1F"
      },
      "source": [
        "## Creación del modelo de la red\n",
        "\n",
        "Vamos a crear con Keras una red en la que tendremos 3 capas:\n",
        "\n",
        "* Entrada: $784$ neuronas correspondientes a los valores de cada píxel de la imagen de entrada\n",
        "* Oculta: Vamos a crear una única capa oculta con $30$ neuronas.\n",
        "* Salida: Tendremos $10$ neuronas, cada una de ellas correspondiente a un dígito de 0 a 9\n",
        "\n",
        "Todas las neuronas utilizarán como función de activación la sigmoidea, la función de coste será el error cuadrático medio (`mean_squared_error`) y como método de optimización utilizaremos descenso por gradiente estocástico (`SGD`) con una tasa de aprendizaje (`lr`) de $10$."
      ]
    },
    {
      "cell_type": "code",
      "metadata": {
        "id": "HhwZY_2kHeEk",
        "colab": {
          "base_uri": "https://localhost:8080/"
        },
        "outputId": "c465262f-ac73-4319-b72a-e0c5c9864891"
      },
      "source": [
        "model = Sequential()\n",
        "model.add(Dense(30, input_shape=(784,)))\n",
        "model.add(Activation('sigmoid'))  \n",
        "#model.add(Dense(20))\n",
        "#model.add(Activation('sigmoid'))                   \n",
        "model.add(Dense(10))\n",
        "model.add(Activation('sigmoid'))\n",
        "\n",
        "# Probar lr=1.0, lr=10.0 y lr=100.0\n",
        "sgd = optimizers.SGD(lr=1.0)\n",
        "# Probar loss='mean_squared_error' y loss='categorical_crossentropy'\n",
        "model.compile(loss='mean_squared_error', optimizer=sgd, metrics=['accuracy']) \n",
        "\n",
        "model.summary()"
      ],
      "execution_count": null,
      "outputs": [
        {
          "output_type": "stream",
          "name": "stdout",
          "text": [
            "Model: \"sequential\"\n",
            "_________________________________________________________________\n",
            " Layer (type)                Output Shape              Param #   \n",
            "=================================================================\n",
            " dense (Dense)               (None, 30)                23550     \n",
            "                                                                 \n",
            " activation (Activation)     (None, 30)                0         \n",
            "                                                                 \n",
            " dense_1 (Dense)             (None, 10)                310       \n",
            "                                                                 \n",
            " activation_1 (Activation)   (None, 10)                0         \n",
            "                                                                 \n",
            "=================================================================\n",
            "Total params: 23,860\n",
            "Trainable params: 23,860\n",
            "Non-trainable params: 0\n",
            "_________________________________________________________________\n"
          ]
        },
        {
          "output_type": "stream",
          "name": "stderr",
          "text": [
            "/usr/local/lib/python3.7/dist-packages/keras/optimizer_v2/gradient_descent.py:102: UserWarning: The `lr` argument is deprecated, use `learning_rate` instead.\n",
            "  super(SGD, self).__init__(name, **kwargs)\n"
          ]
        }
      ]
    },
    {
      "cell_type": "markdown",
      "metadata": {
        "id": "uJHRxycHnAUA"
      },
      "source": [
        "Podemos observar que la red que hemos creado tiene $23860$ parámetros (pesos y biases) que debemos entrenar. \n",
        "\n",
        "## Entrenamiento de la red\n",
        "\n",
        "Vamos a lanzar el entrenamiento de la red, dividiendo el conjunto de entrada en _mini-batches_ de $100$ elementos. Entrenaremos durante $20$ épocas (en cada una de ellas se le pasarán a la red todos los ejemplos de entrenamiento). Durante el entrenamiento, activamos el modo `verbose` para observar la evolución tanto del coste (`loss`) como de la precisión de la clasificación (`acc`). "
      ]
    },
    {
      "cell_type": "code",
      "metadata": {
        "id": "0p4WayD0HsSx",
        "colab": {
          "base_uri": "https://localhost:8080/"
        },
        "outputId": "34301624-09dc-4bd7-a3d3-fb66784f9bd5"
      },
      "source": [
        "model.fit(X_train, Y_train,\n",
        "          batch_size=100, epochs=20,\n",
        "          verbose=1,\n",
        "          validation_data=(X_test, Y_test))"
      ],
      "execution_count": null,
      "outputs": [
        {
          "output_type": "stream",
          "name": "stdout",
          "text": [
            "Epoch 1/20\n",
            "600/600 [==============================] - 1s 2ms/step - loss: 0.0136 - accuracy: 0.9226 - val_loss: 0.0130 - val_accuracy: 0.9285\n",
            "Epoch 2/20\n",
            "600/600 [==============================] - 1s 2ms/step - loss: 0.0134 - accuracy: 0.9240 - val_loss: 0.0129 - val_accuracy: 0.9287\n",
            "Epoch 3/20\n",
            "600/600 [==============================] - 1s 2ms/step - loss: 0.0132 - accuracy: 0.9252 - val_loss: 0.0127 - val_accuracy: 0.9297\n",
            "Epoch 4/20\n",
            "600/600 [==============================] - 1s 2ms/step - loss: 0.0131 - accuracy: 0.9258 - val_loss: 0.0126 - val_accuracy: 0.9299\n",
            "Epoch 5/20\n",
            "600/600 [==============================] - 1s 2ms/step - loss: 0.0129 - accuracy: 0.9268 - val_loss: 0.0124 - val_accuracy: 0.9307\n",
            "Epoch 6/20\n",
            "600/600 [==============================] - 1s 2ms/step - loss: 0.0127 - accuracy: 0.9276 - val_loss: 0.0123 - val_accuracy: 0.9313\n",
            "Epoch 7/20\n",
            "600/600 [==============================] - 1s 2ms/step - loss: 0.0126 - accuracy: 0.9287 - val_loss: 0.0121 - val_accuracy: 0.9319\n",
            "Epoch 8/20\n",
            "600/600 [==============================] - 1s 2ms/step - loss: 0.0124 - accuracy: 0.9291 - val_loss: 0.0120 - val_accuracy: 0.9331\n",
            "Epoch 9/20\n",
            "600/600 [==============================] - 1s 2ms/step - loss: 0.0123 - accuracy: 0.9303 - val_loss: 0.0119 - val_accuracy: 0.9338\n",
            "Epoch 10/20\n",
            "600/600 [==============================] - 1s 2ms/step - loss: 0.0121 - accuracy: 0.9309 - val_loss: 0.0118 - val_accuracy: 0.9330\n",
            "Epoch 11/20\n",
            "600/600 [==============================] - 1s 2ms/step - loss: 0.0120 - accuracy: 0.9316 - val_loss: 0.0116 - val_accuracy: 0.9351\n",
            "Epoch 12/20\n",
            "600/600 [==============================] - 1s 2ms/step - loss: 0.0119 - accuracy: 0.9321 - val_loss: 0.0115 - val_accuracy: 0.9354\n",
            "Epoch 13/20\n",
            "600/600 [==============================] - 1s 2ms/step - loss: 0.0118 - accuracy: 0.9328 - val_loss: 0.0114 - val_accuracy: 0.9357\n",
            "Epoch 14/20\n",
            "600/600 [==============================] - 1s 2ms/step - loss: 0.0117 - accuracy: 0.9333 - val_loss: 0.0113 - val_accuracy: 0.9374\n",
            "Epoch 15/20\n",
            "600/600 [==============================] - 1s 2ms/step - loss: 0.0116 - accuracy: 0.9339 - val_loss: 0.0112 - val_accuracy: 0.9364\n",
            "Epoch 16/20\n",
            "600/600 [==============================] - 1s 2ms/step - loss: 0.0114 - accuracy: 0.9343 - val_loss: 0.0112 - val_accuracy: 0.9375\n",
            "Epoch 17/20\n",
            "600/600 [==============================] - 1s 2ms/step - loss: 0.0113 - accuracy: 0.9350 - val_loss: 0.0111 - val_accuracy: 0.9378\n",
            "Epoch 18/20\n",
            "600/600 [==============================] - 1s 2ms/step - loss: 0.0112 - accuracy: 0.9355 - val_loss: 0.0110 - val_accuracy: 0.9380\n",
            "Epoch 19/20\n",
            "600/600 [==============================] - 1s 2ms/step - loss: 0.0112 - accuracy: 0.9362 - val_loss: 0.0109 - val_accuracy: 0.9383\n",
            "Epoch 20/20\n",
            "600/600 [==============================] - 1s 2ms/step - loss: 0.0111 - accuracy: 0.9367 - val_loss: 0.0109 - val_accuracy: 0.9386\n"
          ]
        },
        {
          "output_type": "execute_result",
          "data": {
            "text/plain": [
              "<keras.callbacks.History at 0x7fbb0ec2f950>"
            ]
          },
          "metadata": {},
          "execution_count": 12
        }
      ]
    },
    {
      "cell_type": "markdown",
      "metadata": {
        "id": "rDFtyQ5rnwHu"
      },
      "source": [
        "## Evaluación de la red\n",
        "\n",
        "Podemos evaluar el modelo ya entrenado. A continuación se muesta el coste (error cuadrático medio) y precision (fracción de ejemplos bien clasificados) del modelo obtenido:"
      ]
    },
    {
      "cell_type": "code",
      "metadata": {
        "id": "Si5GXJ9vHvpl",
        "colab": {
          "base_uri": "https://localhost:8080/"
        },
        "outputId": "39ed4843-b965-4838-adc2-5fff9d686bcd"
      },
      "source": [
        "score = model.evaluate(X_test, Y_test,\n",
        "                       verbose=1)\n",
        "print('Coste (MSE):', score[0])\n",
        "print('Precision:', score[1])"
      ],
      "execution_count": null,
      "outputs": [
        {
          "output_type": "stream",
          "name": "stdout",
          "text": [
            "313/313 [==============================] - 1s 2ms/step - loss: 0.0109 - accuracy: 0.9386\n",
            "Coste (MSE): 0.010850549675524235\n",
            "Precision: 0.9386000037193298\n"
          ]
        }
      ]
    },
    {
      "cell_type": "markdown",
      "metadata": {
        "id": "aazlq7mswWcE"
      },
      "source": [
        "## Obtención de la predicción\n",
        "\n",
        "Podemos utilizar el modelo aprendido para obtener la predicción para nuevos ejemplos de entrada."
      ]
    },
    {
      "cell_type": "code",
      "metadata": {
        "id": "2fy0TWLRem7b",
        "colab": {
          "base_uri": "https://localhost:8080/",
          "height": 676
        },
        "outputId": "73df347a-87ae-4953-d78b-964a31d2e658"
      },
      "source": [
        "indice = 0\n",
        "\n",
        "X = X_test[indice].reshape(1,784)\n",
        "Y = Y_test[indice]\n",
        "y = y_test[indice]\n",
        "\n",
        "plt.figure()\n",
        "plt.imshow(X_test[indice].reshape(28,28), cmap='gray', interpolation='none')\n",
        "\n",
        "print(\"Salida esperada: {} ({})\".format(Y,y))\n",
        "\n",
        "salida = model.predict(X)\n",
        "clase = model.predict(X)\n",
        "\n",
        "print(\"Salida de la red: \", salida)\n",
        "print(\"Prediccion: \", clase)"
      ],
      "execution_count": null,
      "outputs": [
        {
          "output_type": "stream",
          "name": "stdout",
          "text": [
            "Salida esperada: [0. 0. 0. 0. 0. 0. 0. 1. 0. 0.] (7)\n",
            "Salida de la red:  [[9.5030665e-03 1.3917685e-04 1.1788785e-02 2.5775015e-02 4.4536591e-04\n",
            "  1.5947223e-04 1.2026033e-05 9.7340262e-01 1.0907054e-03 4.2934716e-03]]\n",
            "Prediccion:  [[9.5030665e-03 1.3917685e-04 1.1788785e-02 2.5775015e-02 4.4536591e-04\n",
            "  1.5947223e-04 1.2026033e-05 9.7340262e-01 1.0907054e-03 4.2934716e-03]]\n"
          ]
        },
        {
          "output_type": "display_data",
          "data": {
            "image/png": "[encoded data removed]",
            "text/plain": [
              "<Figure size 720x720 with 1 Axes>"
            ]
          },
          "metadata": {
            "needs_background": "light"
          }
        }
      ]
    },
    {
      "cell_type": "markdown",
      "metadata": {
        "id": "ZqJri8pTEjOH"
      },
      "source": [
        "## Visualización de los pesos\n",
        "\n",
        "Podemos visualizar los pesos de la primera capa accediendo al ellos. Estos pesos pasan a ser la codificación aprendida por la red\n"
      ]
    },
    {
      "cell_type": "code",
      "metadata": {
        "id": "wN-HpojZu9ut",
        "colab": {
          "base_uri": "https://localhost:8080/",
          "height": 1000
        },
        "outputId": "db240300-419b-444d-850e-c74182f0ed24"
      },
      "source": [
        "pesos = model.layers[0].get_weights()\n",
        "print(pesos)\n",
        "plt.figure()\n",
        "W1 = pesos[0] \n",
        "print(W1.shape)\n",
        "plt.imshow(W1.reshape(784,30), cmap='gray', interpolation='none')\n",
        "W2 = pesos[1] \n",
        "print(W2.shape)\n",
        "print(W2)\n",
        "# Imprimir los pesos de cada unidad (features)\n",
        "plt.figure()\n",
        "plt.imshow(W1[:,0].reshape(28,28), cmap='gray', interpolation='none')\n",
        "plt.figure()\n",
        "plt.imshow(W1[:,1].reshape(28,28), cmap='gray', interpolation='none')\n",
        "plt.figure()\n",
        "plt.imshow(W1[:,25].reshape(28,28), cmap='gray', interpolation='none')\n"
      ],
      "execution_count": null,
      "outputs": [
        {
          "output_type": "stream",
          "name": "stdout",
          "text": [
            "[array([[-0.05643204, -0.04361376, -0.06404559, ...,  0.08403394,\n",
            "         0.02447372,  0.05976101],\n",
            "       [-0.00085988, -0.06611266, -0.03974793, ...,  0.00812548,\n",
            "        -0.03168131, -0.04832496],\n",
            "       [-0.08216026,  0.02349561, -0.00027271, ...,  0.08139516,\n",
            "         0.01188555,  0.01599371],\n",
            "       ...,\n",
            "       [ 0.01733838, -0.04023198,  0.02894622, ...,  0.03443722,\n",
            "         0.05159969, -0.08260701],\n",
            "       [ 0.01600193,  0.00027058, -0.03794059, ...,  0.02583659,\n",
            "         0.00542447, -0.0078778 ],\n",
            "       [ 0.06396087, -0.05421536, -0.08267771, ..., -0.05872422,\n",
            "         0.07531352, -0.0616797 ]], dtype=float32), array([ 0.27357784,  0.01173841,  0.23900618,  0.13001   , -0.16267419,\n",
            "       -0.02038769,  0.17548394, -0.2442061 , -0.36473247, -0.17458577,\n",
            "       -0.21555914, -0.39362052,  0.03884382, -0.4231548 , -0.07222811,\n",
            "        0.4773016 , -0.17763026,  0.03027125, -0.1486889 ,  0.11040815,\n",
            "       -0.197066  , -0.01355834,  0.13720784, -0.12043113, -0.1041549 ,\n",
            "        0.21710894, -0.26264232,  0.2530393 , -0.26761612, -0.24152216],\n",
            "      dtype=float32)]\n",
            "(784, 30)\n",
            "(30,)\n",
            "[ 0.27357784  0.01173841  0.23900618  0.13001    -0.16267419 -0.02038769\n",
            "  0.17548394 -0.2442061  -0.36473247 -0.17458577 -0.21555914 -0.39362052\n",
            "  0.03884382 -0.4231548  -0.07222811  0.4773016  -0.17763026  0.03027125\n",
            " -0.1486889   0.11040815 -0.197066   -0.01355834  0.13720784 -0.12043113\n",
            " -0.1041549   0.21710894 -0.26264232  0.2530393  -0.26761612 -0.24152216]\n"
          ]
        },
        {
          "output_type": "execute_result",
          "data": {
            "text/plain": [
              "<matplotlib.image.AxesImage at 0x7fd5e819ced0>"
            ]
          },
          "metadata": {},
          "execution_count": 17
        },
        {
          "output_type": "display_data",
          "data": {
            "image/png": "[encoded data removed]",
            "text/plain": [
              "<Figure size 720x720 with 1 Axes>"
            ]
          },
          "metadata": {
            "needs_background": "light"
          }
        },
        {
          "output_type": "display_data",
          "data": {
            "image/png": "[encoded data removed]",
            "text/plain": [
              "<Figure size 720x720 with 1 Axes>"
            ]
          },
          "metadata": {
            "needs_background": "light"
          }
        },
        {
          "output_type": "display_data",
          "data": {
            "image/png": "[encoded data removed]",
            "text/plain": [
              "<Figure size 720x720 with 1 Axes>"
            ]
          },
          "metadata": {
            "needs_background": "light"
          }
        },
        {
          "output_type": "display_data",
          "data": {
            "image/png": "[encoded data removed]",
            "text/plain": [
              "<Figure size 720x720 with 1 Axes>"
            ]
          },
          "metadata": {
            "needs_background": "light"
          }
        }
      ]
    }
  ]
}